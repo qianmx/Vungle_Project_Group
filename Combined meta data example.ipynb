{
 "cells": [
  {
   "cell_type": "code",
   "execution_count": 1,
   "metadata": {
    "collapsed": false
   },
   "outputs": [],
   "source": [
    "import pandas as pd\n",
    "import numpy as np\n",
    "from Merge import *"
   ]
  },
  {
   "cell_type": "code",
   "execution_count": 2,
   "metadata": {
    "collapsed": false
   },
   "outputs": [],
   "source": [
    "df = pd.read_csv('imbalanced_data.csv')"
   ]
  },
  {
   "cell_type": "code",
   "execution_count": 3,
   "metadata": {
    "collapsed": false,
    "scrolled": false
   },
   "outputs": [],
   "source": [
    "iso = 'metadata/ios_apps_metadata000'\n",
    "android = 'metadata/android_apps_metadata000'\n",
    "application = 'metadata/applications000'\n",
    "meta_tuple= (iso,android,application)\n",
    "creative_tuple = ('metadata/creatives000','metadata/creative_tags000',\\\n",
    "                 'metadata/video_files000')\n",
    "combined_data =combine_meta_data(df,meta_tuple,creative_tuple,option='both')"
   ]
  },
  {
   "cell_type": "code",
   "execution_count": 4,
   "metadata": {
    "collapsed": false
   },
   "outputs": [
    {
     "name": "stdout",
     "output_type": "stream",
     "text": [
      "这个application+meta有32行外加transaction data 有27行  creative 有19行 一共78行\n"
     ]
    },
    {
     "data": {
      "text/plain": [
       "(13453116, 77)"
      ]
     },
     "execution_count": 4,
     "metadata": {},
     "output_type": "execute_result"
    }
   ],
   "source": [
    "print '这个application+meta有32行外加transaction data 有27行  creative 有18行 一共77行'\n",
    "combined_data.shape"
   ]
  },
  {
   "cell_type": "code",
   "execution_count": 4,
   "metadata": {
    "collapsed": false
   },
   "outputs": [],
   "source": [
    "meta_data =combine_meta_data(df,meta_tuple,creative_tuple,option='meta')"
   ]
  },
  {
   "cell_type": "code",
   "execution_count": 11,
   "metadata": {
    "collapsed": false
   },
   "outputs": [
    {
     "name": "stdout",
     "output_type": "stream",
     "text": [
      "这个application+meta有32行外加transaction data 有27行 一共59行\n"
     ]
    },
    {
     "data": {
      "text/plain": [
       "(700000, 59)"
      ]
     },
     "execution_count": 11,
     "metadata": {},
     "output_type": "execute_result"
    }
   ],
   "source": [
    "print '这个application+meta有32行外加transaction data 有27行 一共59行'\n",
    "meta_data.shape"
   ]
  },
  {
   "cell_type": "code",
   "execution_count": 6,
   "metadata": {
    "collapsed": true
   },
   "outputs": [],
   "source": [
    "creative_data=combine_meta_data(df,meta_tuple,creative_tuple,option='creative')"
   ]
  },
  {
   "cell_type": "code",
   "execution_count": 10,
   "metadata": {
    "collapsed": false
   },
   "outputs": [
    {
     "name": "stdout",
     "output_type": "stream",
     "text": [
      "这个creative+tag+vedieo有18行外加transaction data 有27行 一共45行\n"
     ]
    },
    {
     "data": {
      "text/plain": [
       "(13453116, 45)"
      ]
     },
     "execution_count": 10,
     "metadata": {},
     "output_type": "execute_result"
    }
   ],
   "source": [
    "print '这个creative+tag+vedieo有18行外加transaction data 有27行 一共45行'\n",
    "creative_data.shape"
   ]
  },
  {
   "cell_type": "code",
   "execution_count": 8,
   "metadata": {
    "collapsed": false
   },
   "outputs": [
    {
     "data": {
      "text/plain": [
       "13"
      ]
     },
     "execution_count": 8,
     "metadata": {},
     "output_type": "execute_result"
    }
   ],
   "source": [
    "len(['creative_id','created_at','application_id','name','video_id',\n",
    "                       'is_streaming','language','enforce_language_match','device_type_whitelist',\n",
    "                      'delivery_frequency_cap','time_to_show_countdown','time_to_show_close_button',\n",
    "                      'cloudux_template_id'])"
   ]
  },
  {
   "cell_type": "code",
   "execution_count": 8,
   "metadata": {
    "collapsed": false
   },
   "outputs": [],
   "source": [
    "# creative table\n",
    "df_creative = pd.read_table('metadata/creatives000',\n",
    "                       #compression='gzip',\n",
    "                       sep='|',\n",
    "                       quotechar='\"',\n",
    "                       error_bad_lines=False,header=None)\n",
    "df_creative.columns = ['creative_id','created_at','application_id','name','video_id',\n",
    "                       'is_streaming','language','enforce_language_match','device_type_whitelist',\n",
    "                      'delivery_frequency_cap','time_to_show_countdown','time_to_show_close_button',\n",
    "                      'cloudux_template_id']"
   ]
  },
  {
   "cell_type": "code",
   "execution_count": 9,
   "metadata": {
    "collapsed": true
   },
   "outputs": [],
   "source": [
    "# creative tag table\n",
    "df_creative_tag = pd.read_table('metadata/creative_tags000',\n",
    "                       #compression='gzip',\n",
    "                       sep='|',\n",
    "                       quotechar='\"',\n",
    "                       error_bad_lines=False,header=None)\n",
    "df_creative_tag.columns = ['creative_id','creative_tag']"
   ]
  },
  {
   "cell_type": "code",
   "execution_count": 11,
   "metadata": {
    "collapsed": false
   },
   "outputs": [],
   "source": [
    "# vidoe table\n",
    "df_video = pd.read_table('metadata/video_files000',\n",
    "                       #compression='gzip',\n",
    "                       sep='|',\n",
    "                       quotechar='\"',\n",
    "                       error_bad_lines=False,header=None)\n",
    "df_video.columns = ['video_id','size','id','width','height','duration']"
   ]
  },
  {
   "cell_type": "code",
   "execution_count": 12,
   "metadata": {
    "collapsed": true
   },
   "outputs": [],
   "source": [
    "b= pd.merge(combined_data, df_creative, how='left', on='creative_id')"
   ]
  },
  {
   "cell_type": "code",
   "execution_count": 16,
   "metadata": {
    "collapsed": false
   },
   "outputs": [
    {
     "data": {
      "text/html": [
       "<div>\n",
       "<table border=\"1\" class=\"dataframe\">\n",
       "  <thead>\n",
       "    <tr style=\"text-align: right;\">\n",
       "      <th></th>\n",
       "      <th>advertiser_app_store_id</th>\n",
       "      <th>country_code</th>\n",
       "      <th>city</th>\n",
       "      <th>campaign_id</th>\n",
       "      <th>creative_id</th>\n",
       "      <th>device_language</th>\n",
       "      <th>device_make</th>\n",
       "      <th>device_model</th>\n",
       "      <th>device_platform</th>\n",
       "      <th>device_connection</th>\n",
       "      <th>...</th>\n",
       "      <th>name</th>\n",
       "      <th>video_id</th>\n",
       "      <th>is_streaming</th>\n",
       "      <th>language</th>\n",
       "      <th>enforce_language_match</th>\n",
       "      <th>device_type_whitelist</th>\n",
       "      <th>delivery_frequency_cap</th>\n",
       "      <th>time_to_show_countdown</th>\n",
       "      <th>time_to_show_close_button</th>\n",
       "      <th>cloudux_template_id</th>\n",
       "    </tr>\n",
       "  </thead>\n",
       "  <tbody>\n",
       "    <tr>\n",
       "      <th>0</th>\n",
       "      <td>com.productmadness.hovmobile</td>\n",
       "      <td>PH</td>\n",
       "      <td>NaN</td>\n",
       "      <td>57bbbd48894434ec65000176</td>\n",
       "      <td>571e9e865837790c50000026</td>\n",
       "      <td>en</td>\n",
       "      <td>samsung</td>\n",
       "      <td>SM-J200GU</td>\n",
       "      <td>android</td>\n",
       "      <td>mobile</td>\n",
       "      <td>...</td>\n",
       "      <td>Client_30s_HeartofVegasAndroid_EN_160425_AND_L...</td>\n",
       "      <td>571e9a81e809f9035000000a</td>\n",
       "      <td>f</td>\n",
       "      <td>en</td>\n",
       "      <td>f</td>\n",
       "      <td>[\"phone\",\"tablet\"]</td>\n",
       "      <td>0</td>\n",
       "      <td>4</td>\n",
       "      <td>5</td>\n",
       "      <td>NaN</td>\n",
       "    </tr>\n",
       "    <tr>\n",
       "      <th>1</th>\n",
       "      <td>579c7c02ee9919275f000076</td>\n",
       "      <td>SE</td>\n",
       "      <td>NaN</td>\n",
       "      <td>5846b0c7eaaaa0e569000089</td>\n",
       "      <td>57a1bf16e4e06024400001f7</td>\n",
       "      <td>sv</td>\n",
       "      <td>HUAWEI</td>\n",
       "      <td>FRD-L09</td>\n",
       "      <td>android</td>\n",
       "      <td>mobile</td>\n",
       "      <td>...</td>\n",
       "      <td>Client_30s_WarWings_EN_160803_And_Landscape_Re...</td>\n",
       "      <td>57a1bd754683822e400001d7</td>\n",
       "      <td>f</td>\n",
       "      <td>en</td>\n",
       "      <td>f</td>\n",
       "      <td>[\"phone\",\"tablet\"]</td>\n",
       "      <td>0</td>\n",
       "      <td>4</td>\n",
       "      <td>5</td>\n",
       "      <td>NaN</td>\n",
       "    </tr>\n",
       "    <tr>\n",
       "      <th>2</th>\n",
       "      <td>58534782688691e41e000011</td>\n",
       "      <td>GB</td>\n",
       "      <td>NaN</td>\n",
       "      <td>5853f654b70cc2893e000031</td>\n",
       "      <td>5860c91d156bf31f650001b0</td>\n",
       "      <td>en</td>\n",
       "      <td>iPhone3</td>\n",
       "      <td>1</td>\n",
       "      <td>iOS</td>\n",
       "      <td>wifi</td>\n",
       "      <td>...</td>\n",
       "      <td>Vungle_30s_WordCookies_EN_161225_iOS_Portrait_...</td>\n",
       "      <td>585c3ea6a76e13401e00391f</td>\n",
       "      <td>f</td>\n",
       "      <td>en</td>\n",
       "      <td>f</td>\n",
       "      <td>[\"phone\",\"tablet\"]</td>\n",
       "      <td>0</td>\n",
       "      <td>4</td>\n",
       "      <td>5</td>\n",
       "      <td>NaN</td>\n",
       "    </tr>\n",
       "    <tr>\n",
       "      <th>3</th>\n",
       "      <td>509993510</td>\n",
       "      <td>RU</td>\n",
       "      <td>NaN</td>\n",
       "      <td>577bb87b5b068e8e6e000165</td>\n",
       "      <td>55d7be9d236a35a11d00017f</td>\n",
       "      <td>ru</td>\n",
       "      <td>iPad3</td>\n",
       "      <td>6</td>\n",
       "      <td>iOS</td>\n",
       "      <td>wifi</td>\n",
       "      <td>...</td>\n",
       "      <td>VDA_VicBaby09_02NEN_IEC02NNTH_NA_Landscape_30s...</td>\n",
       "      <td>555fb675f70e6ccd75000019</td>\n",
       "      <td>f</td>\n",
       "      <td>en</td>\n",
       "      <td>f</td>\n",
       "      <td>[\"phone\",\"tablet\"]</td>\n",
       "      <td>0</td>\n",
       "      <td>4</td>\n",
       "      <td>5</td>\n",
       "      <td>NaN</td>\n",
       "    </tr>\n",
       "    <tr>\n",
       "      <th>4</th>\n",
       "      <td>5743f032a5a36ff4300000a5</td>\n",
       "      <td>NL</td>\n",
       "      <td>Borculo</td>\n",
       "      <td>5800faa42d24628a2300002f</td>\n",
       "      <td>58465caf6dea79c175000078</td>\n",
       "      <td>nl</td>\n",
       "      <td>samsung</td>\n",
       "      <td>GT-P5110</td>\n",
       "      <td>android</td>\n",
       "      <td>wifi</td>\n",
       "      <td>...</td>\n",
       "      <td>Vungle_30s_BlockHexaPuzzle_EN_161205_And_Portr...</td>\n",
       "      <td>584656b154e02eae64000232</td>\n",
       "      <td>f</td>\n",
       "      <td>en</td>\n",
       "      <td>f</td>\n",
       "      <td>[\"phone\",\"tablet\"]</td>\n",
       "      <td>0</td>\n",
       "      <td>4</td>\n",
       "      <td>5</td>\n",
       "      <td>NaN</td>\n",
       "    </tr>\n",
       "  </tbody>\n",
       "</table>\n",
       "<p>5 rows × 71 columns</p>\n",
       "</div>"
      ],
      "text/plain": [
       "        advertiser_app_store_id country_code     city  \\\n",
       "0  com.productmadness.hovmobile           PH      NaN   \n",
       "1      579c7c02ee9919275f000076           SE      NaN   \n",
       "2      58534782688691e41e000011           GB      NaN   \n",
       "3                     509993510           RU      NaN   \n",
       "4      5743f032a5a36ff4300000a5           NL  Borculo   \n",
       "\n",
       "                campaign_id               creative_id device_language  \\\n",
       "0  57bbbd48894434ec65000176  571e9e865837790c50000026              en   \n",
       "1  5846b0c7eaaaa0e569000089  57a1bf16e4e06024400001f7              sv   \n",
       "2  5853f654b70cc2893e000031  5860c91d156bf31f650001b0              en   \n",
       "3  577bb87b5b068e8e6e000165  55d7be9d236a35a11d00017f              ru   \n",
       "4  5800faa42d24628a2300002f  58465caf6dea79c175000078              nl   \n",
       "\n",
       "  device_make device_model device_platform device_connection  \\\n",
       "0     samsung    SM-J200GU         android            mobile   \n",
       "1      HUAWEI      FRD-L09         android            mobile   \n",
       "2     iPhone3            1             iOS              wifi   \n",
       "3       iPad3            6             iOS              wifi   \n",
       "4     samsung     GT-P5110         android              wifi   \n",
       "\n",
       "          ...                                                       name  \\\n",
       "0         ...          Client_30s_HeartofVegasAndroid_EN_160425_AND_L...   \n",
       "1         ...          Client_30s_WarWings_EN_160803_And_Landscape_Re...   \n",
       "2         ...          Vungle_30s_WordCookies_EN_161225_iOS_Portrait_...   \n",
       "3         ...          VDA_VicBaby09_02NEN_IEC02NNTH_NA_Landscape_30s...   \n",
       "4         ...          Vungle_30s_BlockHexaPuzzle_EN_161205_And_Portr...   \n",
       "\n",
       "                   video_id  is_streaming  language enforce_language_match  \\\n",
       "0  571e9a81e809f9035000000a             f        en                      f   \n",
       "1  57a1bd754683822e400001d7             f        en                      f   \n",
       "2  585c3ea6a76e13401e00391f             f        en                      f   \n",
       "3  555fb675f70e6ccd75000019             f        en                      f   \n",
       "4  584656b154e02eae64000232             f        en                      f   \n",
       "\n",
       "   device_type_whitelist  delivery_frequency_cap time_to_show_countdown  \\\n",
       "0     [\"phone\",\"tablet\"]                       0                      4   \n",
       "1     [\"phone\",\"tablet\"]                       0                      4   \n",
       "2     [\"phone\",\"tablet\"]                       0                      4   \n",
       "3     [\"phone\",\"tablet\"]                       0                      4   \n",
       "4     [\"phone\",\"tablet\"]                       0                      4   \n",
       "\n",
       "  time_to_show_close_button cloudux_template_id  \n",
       "0                         5                 NaN  \n",
       "1                         5                 NaN  \n",
       "2                         5                 NaN  \n",
       "3                         5                 NaN  \n",
       "4                         5                 NaN  \n",
       "\n",
       "[5 rows x 71 columns]"
      ]
     },
     "execution_count": 16,
     "metadata": {},
     "output_type": "execute_result"
    }
   ],
   "source": [
    "b[~b.creative_id.isnull()].head()"
   ]
  },
  {
   "cell_type": "code",
   "execution_count": 17,
   "metadata": {
    "collapsed": false
   },
   "outputs": [],
   "source": [
    "b = pd.merge(b, df_creative_tag, how='left', on='creative_id')\n",
    "b = pd.merge(b, df_video, how='left', on='video_id')"
   ]
  },
  {
   "cell_type": "code",
   "execution_count": 18,
   "metadata": {
    "collapsed": false
   },
   "outputs": [
    {
     "data": {
      "text/html": [
       "<div>\n",
       "<table border=\"1\" class=\"dataframe\">\n",
       "  <thead>\n",
       "    <tr style=\"text-align: right;\">\n",
       "      <th></th>\n",
       "      <th>advertiser_app_store_id</th>\n",
       "      <th>country_code</th>\n",
       "      <th>city</th>\n",
       "      <th>campaign_id</th>\n",
       "      <th>creative_id</th>\n",
       "      <th>device_language</th>\n",
       "      <th>device_make</th>\n",
       "      <th>device_model</th>\n",
       "      <th>device_platform</th>\n",
       "      <th>device_connection</th>\n",
       "      <th>...</th>\n",
       "      <th>delivery_frequency_cap</th>\n",
       "      <th>time_to_show_countdown</th>\n",
       "      <th>time_to_show_close_button</th>\n",
       "      <th>cloudux_template_id</th>\n",
       "      <th>creative_tag</th>\n",
       "      <th>size_y</th>\n",
       "      <th>id</th>\n",
       "      <th>width</th>\n",
       "      <th>height</th>\n",
       "      <th>duration</th>\n",
       "    </tr>\n",
       "  </thead>\n",
       "  <tbody>\n",
       "    <tr>\n",
       "      <th>0</th>\n",
       "      <td>com.productmadness.hovmobile</td>\n",
       "      <td>PH</td>\n",
       "      <td>NaN</td>\n",
       "      <td>57bbbd48894434ec65000176</td>\n",
       "      <td>571e9e865837790c50000026</td>\n",
       "      <td>en</td>\n",
       "      <td>samsung</td>\n",
       "      <td>SM-J200GU</td>\n",
       "      <td>android</td>\n",
       "      <td>mobile</td>\n",
       "      <td>...</td>\n",
       "      <td>0</td>\n",
       "      <td>4</td>\n",
       "      <td>5</td>\n",
       "      <td>NaN</td>\n",
       "      <td>Text</td>\n",
       "      <td>NaN</td>\n",
       "      <td>571e9a84e809f9035000000b</td>\n",
       "      <td>960</td>\n",
       "      <td>540</td>\n",
       "      <td>30000.0</td>\n",
       "    </tr>\n",
       "    <tr>\n",
       "      <th>1</th>\n",
       "      <td>com.productmadness.hovmobile</td>\n",
       "      <td>PH</td>\n",
       "      <td>NaN</td>\n",
       "      <td>57bbbd48894434ec65000176</td>\n",
       "      <td>571e9e865837790c50000026</td>\n",
       "      <td>en</td>\n",
       "      <td>samsung</td>\n",
       "      <td>SM-J200GU</td>\n",
       "      <td>android</td>\n",
       "      <td>mobile</td>\n",
       "      <td>...</td>\n",
       "      <td>0</td>\n",
       "      <td>4</td>\n",
       "      <td>5</td>\n",
       "      <td>NaN</td>\n",
       "      <td>Text</td>\n",
       "      <td>NaN</td>\n",
       "      <td>571e9a84e809f9035000000c</td>\n",
       "      <td>1280</td>\n",
       "      <td>720</td>\n",
       "      <td>30000.0</td>\n",
       "    </tr>\n",
       "    <tr>\n",
       "      <th>2</th>\n",
       "      <td>com.productmadness.hovmobile</td>\n",
       "      <td>PH</td>\n",
       "      <td>NaN</td>\n",
       "      <td>57bbbd48894434ec65000176</td>\n",
       "      <td>571e9e865837790c50000026</td>\n",
       "      <td>en</td>\n",
       "      <td>samsung</td>\n",
       "      <td>SM-J200GU</td>\n",
       "      <td>android</td>\n",
       "      <td>mobile</td>\n",
       "      <td>...</td>\n",
       "      <td>0</td>\n",
       "      <td>4</td>\n",
       "      <td>5</td>\n",
       "      <td>NaN</td>\n",
       "      <td>Text</td>\n",
       "      <td>NaN</td>\n",
       "      <td>571e9a84e809f9035000000d</td>\n",
       "      <td>480</td>\n",
       "      <td>270</td>\n",
       "      <td>30000.0</td>\n",
       "    </tr>\n",
       "    <tr>\n",
       "      <th>3</th>\n",
       "      <td>com.productmadness.hovmobile</td>\n",
       "      <td>PH</td>\n",
       "      <td>NaN</td>\n",
       "      <td>57bbbd48894434ec65000176</td>\n",
       "      <td>571e9e865837790c50000026</td>\n",
       "      <td>en</td>\n",
       "      <td>samsung</td>\n",
       "      <td>SM-J200GU</td>\n",
       "      <td>android</td>\n",
       "      <td>mobile</td>\n",
       "      <td>...</td>\n",
       "      <td>0</td>\n",
       "      <td>4</td>\n",
       "      <td>5</td>\n",
       "      <td>NaN</td>\n",
       "      <td>Cinematic</td>\n",
       "      <td>NaN</td>\n",
       "      <td>571e9a84e809f9035000000b</td>\n",
       "      <td>960</td>\n",
       "      <td>540</td>\n",
       "      <td>30000.0</td>\n",
       "    </tr>\n",
       "    <tr>\n",
       "      <th>4</th>\n",
       "      <td>com.productmadness.hovmobile</td>\n",
       "      <td>PH</td>\n",
       "      <td>NaN</td>\n",
       "      <td>57bbbd48894434ec65000176</td>\n",
       "      <td>571e9e865837790c50000026</td>\n",
       "      <td>en</td>\n",
       "      <td>samsung</td>\n",
       "      <td>SM-J200GU</td>\n",
       "      <td>android</td>\n",
       "      <td>mobile</td>\n",
       "      <td>...</td>\n",
       "      <td>0</td>\n",
       "      <td>4</td>\n",
       "      <td>5</td>\n",
       "      <td>NaN</td>\n",
       "      <td>Cinematic</td>\n",
       "      <td>NaN</td>\n",
       "      <td>571e9a84e809f9035000000c</td>\n",
       "      <td>1280</td>\n",
       "      <td>720</td>\n",
       "      <td>30000.0</td>\n",
       "    </tr>\n",
       "  </tbody>\n",
       "</table>\n",
       "<p>5 rows × 77 columns</p>\n",
       "</div>"
      ],
      "text/plain": [
       "        advertiser_app_store_id country_code city               campaign_id  \\\n",
       "0  com.productmadness.hovmobile           PH  NaN  57bbbd48894434ec65000176   \n",
       "1  com.productmadness.hovmobile           PH  NaN  57bbbd48894434ec65000176   \n",
       "2  com.productmadness.hovmobile           PH  NaN  57bbbd48894434ec65000176   \n",
       "3  com.productmadness.hovmobile           PH  NaN  57bbbd48894434ec65000176   \n",
       "4  com.productmadness.hovmobile           PH  NaN  57bbbd48894434ec65000176   \n",
       "\n",
       "                creative_id device_language device_make device_model  \\\n",
       "0  571e9e865837790c50000026              en     samsung    SM-J200GU   \n",
       "1  571e9e865837790c50000026              en     samsung    SM-J200GU   \n",
       "2  571e9e865837790c50000026              en     samsung    SM-J200GU   \n",
       "3  571e9e865837790c50000026              en     samsung    SM-J200GU   \n",
       "4  571e9e865837790c50000026              en     samsung    SM-J200GU   \n",
       "\n",
       "  device_platform device_connection   ...    delivery_frequency_cap  \\\n",
       "0         android            mobile   ...                         0   \n",
       "1         android            mobile   ...                         0   \n",
       "2         android            mobile   ...                         0   \n",
       "3         android            mobile   ...                         0   \n",
       "4         android            mobile   ...                         0   \n",
       "\n",
       "   time_to_show_countdown  time_to_show_close_button  cloudux_template_id  \\\n",
       "0                       4                          5                  NaN   \n",
       "1                       4                          5                  NaN   \n",
       "2                       4                          5                  NaN   \n",
       "3                       4                          5                  NaN   \n",
       "4                       4                          5                  NaN   \n",
       "\n",
       "  creative_tag  size_y                        id width height duration  \n",
       "0         Text     NaN  571e9a84e809f9035000000b   960    540  30000.0  \n",
       "1         Text     NaN  571e9a84e809f9035000000c  1280    720  30000.0  \n",
       "2         Text     NaN  571e9a84e809f9035000000d   480    270  30000.0  \n",
       "3    Cinematic     NaN  571e9a84e809f9035000000b   960    540  30000.0  \n",
       "4    Cinematic     NaN  571e9a84e809f9035000000c  1280    720  30000.0  \n",
       "\n",
       "[5 rows x 77 columns]"
      ]
     },
     "execution_count": 18,
     "metadata": {},
     "output_type": "execute_result"
    }
   ],
   "source": [
    "b[~b.id.isnull()].head()"
   ]
  },
  {
   "cell_type": "code",
   "execution_count": null,
   "metadata": {
    "collapsed": true
   },
   "outputs": [],
   "source": []
  }
 ],
 "metadata": {
  "anaconda-cloud": {},
  "kernelspec": {
   "display_name": "Python [conda root]",
   "language": "python",
   "name": "conda-root-py"
  },
  "language_info": {
   "codemirror_mode": {
    "name": "ipython",
    "version": 2
   },
   "file_extension": ".py",
   "mimetype": "text/x-python",
   "name": "python",
   "nbconvert_exporter": "python",
   "pygments_lexer": "ipython2",
   "version": "2.7.12"
  }
 },
 "nbformat": 4,
 "nbformat_minor": 1
}
