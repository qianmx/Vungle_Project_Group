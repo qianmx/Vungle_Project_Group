{
 "cells": [
  {
   "cell_type": "code",
   "execution_count": 1,
   "metadata": {
    "collapsed": false
   },
   "outputs": [
    {
     "name": "stderr",
     "output_type": "stream",
     "text": [
      "/Users/linda/anaconda2/lib/python2.7/site-packages/sklearn/cross_validation.py:44: DeprecationWarning: This module was deprecated in version 0.18 in favor of the model_selection module into which all the refactored classes and functions are moved. Also note that the interface of the new CV iterators are different from that of this module. This module will be removed in 0.20.\n",
      "  \"This module will be removed in 0.20.\", DeprecationWarning)\n",
      "/Users/linda/anaconda2/lib/python2.7/site-packages/sklearn/grid_search.py:43: DeprecationWarning: This module was deprecated in version 0.18 in favor of the model_selection module into which all the refactored classes and functions are moved. This module will be removed in 0.20.\n",
      "  DeprecationWarning)\n"
     ]
    }
   ],
   "source": [
    "import pandas as pd\n",
    "import numpy as np\n",
    "from Merge import *\n",
    "from sklearn.cross_validation import train_test_split\n",
    "from model_builder import *"
   ]
  },
  {
   "cell_type": "code",
   "execution_count": 2,
   "metadata": {
    "collapsed": false
   },
   "outputs": [
    {
     "name": "stderr",
     "output_type": "stream",
     "text": [
      "/Users/linda/anaconda2/lib/python2.7/site-packages/IPython/core/interactiveshell.py:2717: DtypeWarning: Columns (4,5) have mixed types. Specify dtype option on import or set low_memory=False.\n",
      "  interactivity=interactivity, compiler=compiler, result=result)\n"
     ]
    }
   ],
   "source": [
    "yX_test= pd.read_csv('test.csv')\n",
    "yX_train=pd.read_csv('train.csv')"
   ]
  },
  {
   "cell_type": "code",
   "execution_count": 3,
   "metadata": {
    "collapsed": false
   },
   "outputs": [],
   "source": [
    "base_features =['publisher_app_store_id', 'advertiser_app_store_id','country_code']\n",
    "#features_other_table= ['time_to_show_countdown']\n",
    "#merge_id = ['creative_id']\n",
    "yX_test = yX_test[['is_install']+base_features].copy()\n",
    "#yX_train = yX_train[['is_install']+base_features+features_other_table].copy()"
   ]
  },
  {
   "cell_type": "code",
   "execution_count": 4,
   "metadata": {
    "collapsed": false
   },
   "outputs": [],
   "source": [
    "numerical_list =[]\n",
    "string_list =['publisher_app_store_id','advertiser_app_store_id','country_code']\n",
    "int_list =[]\n",
    "timestamp_list =[]\n",
    "#list_col = ['languages','genre_ids','genres','supported_devices','screenshot_urls','categories','device_type_whitelist','creative_tag']\n"
   ]
  },
  {
   "cell_type": "code",
   "execution_count": 5,
   "metadata": {
    "collapsed": false
   },
   "outputs": [],
   "source": [
    "a = preprocessing_data(yX_test,numerical_list,string_list,int_list,timestamp_list)\n",
    "b = preprocessing_data(yX_train,numerical_list,string_list,int_list,timestamp_list)"
   ]
  },
  {
   "cell_type": "code",
   "execution_count": 11,
   "metadata": {
    "collapsed": false
   },
   "outputs": [],
   "source": [
    "##you can't put integer column into this\n",
    "## if you add something, please change the preprocessing function as well.\n",
    "def run_model(train,test,col):\n",
    "    cont_features_pc = []\n",
    "    cat_interactions_pc = []\n",
    "    cat_features_pc =col\n",
    "    other=[]\n",
    "    y=['is_install']\n",
    "\n",
    "    X_train, y_train, X_test, y_test = train.iloc[:,1:], train.iloc[:,0], test.iloc[:,1:], test.iloc[:,0]\n",
    "    # Feature Hashing\n",
    "\n",
    "    feature_creator = FeatureCreator()\n",
    "    design_matrix_transformer = FeatureHasher(18, cat_features_pc, None, cat_interactions_pc, store_fmap=True) # You can experiment with hasher bits (we used 18 here)\n",
    "\n",
    "    X_test = feature_creator.transform(X_test, inplace=True)\n",
    "    X_test, f_map = design_matrix_transformer.fit_transform(X_test)\n",
    "\n",
    "    X_train = feature_creator.transform(X_train, inplace=True)\n",
    "    X_train, f_map = design_matrix_transformer.fit_transform(X_train)\n",
    "\n",
    "    logistic_baseline = logistic_model(X_train, y_train)\n",
    "\n",
    "    # Calculate prediction/probability of train and test\n",
    "    X_train_predictions = logistic_baseline.predict(X_train)\n",
    "    X_train_predprob = logistic_baseline.predict_proba(X_train)[:, 1]\n",
    "\n",
    "    X_test_predictions = logistic_baseline.predict(X_test)\n",
    "    X_test_predprob = logistic_baseline.predict_proba(X_test)[:, 1]\n",
    "\n",
    "    # Calculate metrics of train, validation and test set.\n",
    "    lr_ll_val = -logistic_baseline.best_score_\n",
    "\n",
    "    lr_ll_train = log_loss(y_train, X_train_predprob)\n",
    "    lr_auc_train = roc_auc_score(y_train, X_train_predprob)\n",
    "\n",
    "    lr_ll_test = log_loss(y_test, X_test_predprob)    \n",
    "    lr_auc_test = roc_auc_score(y_test, X_test_predprob)\n",
    "\n",
    "    #Print out the results\n",
    "    print \"Best parameter: \", logistic_baseline.best_params_\n",
    "\n",
    "    print \"Log Loss (Validation): %f\" % lr_ll_val\n",
    "\n",
    "    print \"Log Loss (Train): %f\" % lr_ll_train\n",
    "    print \"AUC (Train): %f\" % lr_auc_train\n",
    " \n",
    "    print 'Log Loss (Test): %f' % lr_ll_test\n",
    "    print 'AUC (Test): %f' % lr_auc_test\n",
    "    return lr_ll_train,lr_ll_test,lr_auc_train,lr_auc_test\n",
    "\n"
   ]
  },
  {
   "cell_type": "code",
   "execution_count": 7,
   "metadata": {
    "collapsed": true
   },
   "outputs": [],
   "source": [
    "result = pd.DataFrame(columns=['train_loss','test_loss','train_auc','test_auc'],index = ['imbalanced_train_on_imbalanced_test','baseline','balanced_train_onimbalanced_test'])\n"
   ]
  },
  {
   "cell_type": "code",
   "execution_count": 9,
   "metadata": {
    "collapsed": false
   },
   "outputs": [
    {
     "data": {
      "text/html": [
       "<div>\n",
       "<table border=\"1\" class=\"dataframe\">\n",
       "  <thead>\n",
       "    <tr style=\"text-align: right;\">\n",
       "      <th></th>\n",
       "      <th>is_install</th>\n",
       "      <th>publisher_app_store_id</th>\n",
       "      <th>advertiser_app_store_id</th>\n",
       "      <th>country_code</th>\n",
       "      <th>n_campaign_views</th>\n",
       "      <th>device_screen_height</th>\n",
       "      <th>time_of_last_delivery_any_installed_app</th>\n",
       "      <th>device_os_version</th>\n",
       "      <th>device_platform</th>\n",
       "      <th>creative_id</th>\n",
       "      <th>time_to_show_countdown</th>\n",
       "    </tr>\n",
       "  </thead>\n",
       "  <tbody>\n",
       "    <tr>\n",
       "      <th>0</th>\n",
       "      <td>0</td>\n",
       "      <td>com.miniclip.eightballpool</td>\n",
       "      <td>com.productmadness.hovmobile</td>\n",
       "      <td>ID</td>\n",
       "      <td>0str</td>\n",
       "      <td>540str</td>\n",
       "      <td>nanstrstr</td>\n",
       "      <td>5.1</td>\n",
       "      <td>android</td>\n",
       "      <td>571e9e865837790c50000026</td>\n",
       "      <td>0.0strstr</td>\n",
       "    </tr>\n",
       "    <tr>\n",
       "      <th>1</th>\n",
       "      <td>0</td>\n",
       "      <td>net.mobigame.zombietsunami</td>\n",
       "      <td>5784aa9278fc4dbd4f00006b</td>\n",
       "      <td>IT</td>\n",
       "      <td>11str</td>\n",
       "      <td>720str</td>\n",
       "      <td>nanstrstr</td>\n",
       "      <td>4.3</td>\n",
       "      <td>android</td>\n",
       "      <td>5853075858c47ae75500011f</td>\n",
       "      <td>0.0strstr</td>\n",
       "    </tr>\n",
       "    <tr>\n",
       "      <th>2</th>\n",
       "      <td>0</td>\n",
       "      <td>com.fanatee.stop</td>\n",
       "      <td>57e10de257ac2abc35000059</td>\n",
       "      <td>ES</td>\n",
       "      <td>2str</td>\n",
       "      <td>960str</td>\n",
       "      <td>nanstrstr</td>\n",
       "      <td>6.0</td>\n",
       "      <td>android</td>\n",
       "      <td>57e255ca497f3478020000d1</td>\n",
       "      <td>0.0strstr</td>\n",
       "    </tr>\n",
       "    <tr>\n",
       "      <th>3</th>\n",
       "      <td>0</td>\n",
       "      <td>com.outfit7.mytalkingangelafree</td>\n",
       "      <td>57e43b208b2389dd16000014</td>\n",
       "      <td>CL</td>\n",
       "      <td>1str</td>\n",
       "      <td>1280str</td>\n",
       "      <td>nanstrstr</td>\n",
       "      <td>5.1.1</td>\n",
       "      <td>android</td>\n",
       "      <td>580652837582a2d915000122</td>\n",
       "      <td>0.0strstr</td>\n",
       "    </tr>\n",
       "    <tr>\n",
       "      <th>4</th>\n",
       "      <td>1</td>\n",
       "      <td>57979405fb0fb7fc6e0000a2</td>\n",
       "      <td>57d06d2e8992b76d75000323</td>\n",
       "      <td>JP</td>\n",
       "      <td>0str</td>\n",
       "      <td>986str</td>\n",
       "      <td>nanstrstr</td>\n",
       "      <td>10.0.14393.576</td>\n",
       "      <td>windows</td>\n",
       "      <td>5829dd96c9b6a5d34000006f</td>\n",
       "      <td>0.0strstr</td>\n",
       "    </tr>\n",
       "  </tbody>\n",
       "</table>\n",
       "</div>"
      ],
      "text/plain": [
       "   is_install           publisher_app_store_id       advertiser_app_store_id  \\\n",
       "0           0       com.miniclip.eightballpool  com.productmadness.hovmobile   \n",
       "1           0       net.mobigame.zombietsunami      5784aa9278fc4dbd4f00006b   \n",
       "2           0                 com.fanatee.stop      57e10de257ac2abc35000059   \n",
       "3           0  com.outfit7.mytalkingangelafree      57e43b208b2389dd16000014   \n",
       "4           1         57979405fb0fb7fc6e0000a2      57d06d2e8992b76d75000323   \n",
       "\n",
       "  country_code n_campaign_views device_screen_height  \\\n",
       "0           ID             0str               540str   \n",
       "1           IT            11str               720str   \n",
       "2           ES             2str               960str   \n",
       "3           CL             1str              1280str   \n",
       "4           JP             0str               986str   \n",
       "\n",
       "  time_of_last_delivery_any_installed_app device_os_version device_platform  \\\n",
       "0                               nanstrstr               5.1         android   \n",
       "1                               nanstrstr               4.3         android   \n",
       "2                               nanstrstr               6.0         android   \n",
       "3                               nanstrstr             5.1.1         android   \n",
       "4                               nanstrstr    10.0.14393.576         windows   \n",
       "\n",
       "                creative_id time_to_show_countdown  \n",
       "0  571e9e865837790c50000026              0.0strstr  \n",
       "1  5853075858c47ae75500011f              0.0strstr  \n",
       "2  57e255ca497f3478020000d1              0.0strstr  \n",
       "3  580652837582a2d915000122              0.0strstr  \n",
       "4  5829dd96c9b6a5d34000006f              0.0strstr  "
      ]
     },
     "execution_count": 9,
     "metadata": {},
     "output_type": "execute_result"
    }
   ],
   "source": [
    "b.head()"
   ]
  },
  {
   "cell_type": "code",
   "execution_count": null,
   "metadata": {
    "collapsed": false
   },
   "outputs": [],
   "source": [
    "i ='imbalanced_train_on_imbalanced_test'\n",
    "col = base_features+features_other_table\n",
    "result.loc[i,'train_loss'],result.loc[i,'test_loss'],result.loc[i,'train_auc'],result.loc[i,'test_auc']=run_model(b,a,col)"
   ]
  },
  {
   "cell_type": "code",
   "execution_count": 53,
   "metadata": {
    "collapsed": false
   },
   "outputs": [],
   "source": [
    "import matplotlib.pyplot as plt\n",
    "%matplotlib inline "
   ]
  }
 ],
 "metadata": {
  "anaconda-cloud": {},
  "kernelspec": {
   "display_name": "Python [conda root]",
   "language": "python",
   "name": "conda-root-py"
  },
  "language_info": {
   "codemirror_mode": {
    "name": "ipython",
    "version": 2
   },
   "file_extension": ".py",
   "mimetype": "text/x-python",
   "name": "python",
   "nbconvert_exporter": "python",
   "pygments_lexer": "ipython2",
   "version": "2.7.12"
  }
 },
 "nbformat": 4,
 "nbformat_minor": 1
}
