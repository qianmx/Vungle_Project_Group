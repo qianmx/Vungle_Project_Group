{
 "cells": [
  {
   "cell_type": "markdown",
   "metadata": {},
   "source": [
    "### 1. Import Libraries"
   ]
  },
  {
   "cell_type": "code",
   "execution_count": null,
   "metadata": {
    "collapsed": false
   },
   "outputs": [],
   "source": [
    "import sys\n",
    "stdout = sys.stdout\n",
    "reload(sys)\n",
    "sys.setdefaultencoding('utf-8')\n",
    "import numpy as np\n",
    "import pandas as pd\n",
    "import matplotlib.pyplot as plt\n",
    "from scipy.stats import *\n",
    "import seaborn as sns"
   ]
  },
  {
   "cell_type": "markdown",
   "metadata": {},
   "source": [
    "### 2. Reading Data"
   ]
  },
  {
   "cell_type": "code",
   "execution_count": null,
   "metadata": {
    "collapsed": false
   },
   "outputs": [],
   "source": [
    "# transaction table\n",
    "df_tran = pd.read_table('../data/000_sample1.gz',\n",
    "                       compression='gzip',\n",
    "                       sep='\\t',\n",
    "                       quotechar='\"',\n",
    "                       error_bad_lines=False)"
   ]
  },
  {
   "cell_type": "code",
   "execution_count": null,
   "metadata": {
    "collapsed": false
   },
   "outputs": [],
   "source": [
    "# creative table\n",
    "df_creative = pd.read_table('../data/creatives000',\n",
    "                       #compression='gzip',\n",
    "                       sep='|',\n",
    "                       quotechar='\"',\n",
    "                       error_bad_lines=False,header=None)\n",
    "df_creative.columns = ['creative_id','created_at','application_id','name','video_id',\n",
    "                       'is_streaming','language','enforce_language_match','device_type_whitelist',\n",
    "                      'delivery_frequency_cap','time_to_show_countdown','time_to_show_close_button',\n",
    "                      'cloudux_template_id']\n",
    "sys.stdout = stdout"
   ]
  },
  {
   "cell_type": "markdown",
   "metadata": {},
   "source": [
    "### 3. Join Tables"
   ]
  },
  {
   "cell_type": "code",
   "execution_count": null,
   "metadata": {
    "collapsed": false
   },
   "outputs": [],
   "source": [
    "df_tran['is_install'] = df_tran['timestamp_at_install'].notnull() * 1\n",
    "df_tran_sub = df_tran.loc[:,['is_install','creative_id','time_of_this_impression']]"
   ]
  },
  {
   "cell_type": "code",
   "execution_count": null,
   "metadata": {
    "collapsed": false
   },
   "outputs": [],
   "source": [
    "print df_tran_sub.shape\n",
    "print df_creative.shape"
   ]
  },
  {
   "cell_type": "code",
   "execution_count": null,
   "metadata": {
    "collapsed": false
   },
   "outputs": [],
   "source": [
    "len(df_creative.creative_id.unique())"
   ]
  },
  {
   "cell_type": "code",
   "execution_count": null,
   "metadata": {
    "collapsed": true
   },
   "outputs": [],
   "source": [
    "# df_creative_tag = df_creative_tag.groupby('creative_id').creative_tag.apply(list).reset_index()"
   ]
  },
  {
   "cell_type": "code",
   "execution_count": null,
   "metadata": {
    "collapsed": false
   },
   "outputs": [],
   "source": [
    "df_tran_ad = pd.merge(df_tran_sub, df_creative, how='left', on='creative_id', left_on=None, right_on=None,\n",
    "         left_index=False, right_index=False, sort=True,\n",
    "         suffixes=('_x', '_y'), copy=True, indicator=False)"
   ]
  },
  {
   "cell_type": "code",
   "execution_count": null,
   "metadata": {
    "collapsed": false
   },
   "outputs": [],
   "source": [
    "# check NA\n",
    "df_tran_ad.isnull().sum()"
   ]
  },
  {
   "cell_type": "markdown",
   "metadata": {},
   "source": [
    "### 4. Add Y & Clean Data"
   ]
  },
  {
   "cell_type": "code",
   "execution_count": null,
   "metadata": {
    "collapsed": false
   },
   "outputs": [],
   "source": [
    "df_tran_ad['language'] = df_tran_ad['language'].apply(lambda x: str(x).lower().split('-')[0])\n",
    "df_tran_ad['is_install'] = df_tran_ad['is_install'].astype('category')"
   ]
  },
  {
   "cell_type": "markdown",
   "metadata": {},
   "source": [
    "### 5. Create new features"
   ]
  },
  {
   "cell_type": "markdown",
   "metadata": {
    "collapsed": false
   },
   "source": [
    "#### Ad Age"
   ]
  },
  {
   "cell_type": "code",
   "execution_count": null,
   "metadata": {
    "collapsed": false
   },
   "outputs": [],
   "source": [
    "df_tran_ad['time_delta'] = pd.to_datetime(df_tran_ad['time_of_this_impression'])-pd.to_datetime(df_tran_ad['created_at'])"
   ]
  },
  {
   "cell_type": "code",
   "execution_count": null,
   "metadata": {
    "collapsed": false
   },
   "outputs": [],
   "source": [
    "def to_day(x):\n",
    "    if isinstance(x,pd.tslib.Timedelta):\n",
    "        return x.days\n",
    "    else:\n",
    "        return np.nan"
   ]
  },
  {
   "cell_type": "code",
   "execution_count": null,
   "metadata": {
    "collapsed": false
   },
   "outputs": [],
   "source": [
    "df_tran_ad['time_delta_days'] = df_tran_ad['time_delta'].apply(to_day)"
   ]
  },
  {
   "cell_type": "code",
   "execution_count": null,
   "metadata": {
    "collapsed": false
   },
   "outputs": [],
   "source": [
    "df_tran_ad['time_delta_days'] = df_tran_ad['time_delta'].dt.days"
   ]
  },
  {
   "cell_type": "markdown",
   "metadata": {},
   "source": [
    "### 5. Continous Variables"
   ]
  },
  {
   "cell_type": "code",
   "execution_count": null,
   "metadata": {
    "collapsed": true
   },
   "outputs": [],
   "source": [
    "# continous_EDA function\n",
    "def continous_EDA(col,df):\n",
    "    group0 = df[df['is_install']==0][col].dropna()\n",
    "    group1 = df[df['is_install']==1][col].dropna()\n",
    "    \n",
    "    # T-test\n",
    "    print 't-test'\n",
    "    p = ttest_ind(group0, group1, axis=0, equal_var=False)\n",
    "\n",
    "    # histogram of two groups\n",
    "    print 'Distribution of two groups'\n",
    "    fig, ax = plt.subplots()\n",
    "    i = 0\n",
    "    for a in [group0, group1]:\n",
    "        sns.distplot(a, ax=ax, kde=False,label=str(i))\n",
    "        i += 1\n",
    "    ax.legend(loc=2,prop={'size':7})\n",
    "    plt.show()\n",
    "    \n",
    "    # Box-plot\n",
    "    print 'Box-plot'\n",
    "    ax = sns.boxplot(x=\"is_install\", y=col, data=df)\n",
    "    plt.show()\n",
    "    return p"
   ]
  },
  {
   "cell_type": "code",
   "execution_count": null,
   "metadata": {
    "collapsed": false
   },
   "outputs": [],
   "source": [
    "p_lst = []\n",
    "cont_cols = ['time_delta_days']\n",
    "for col in cont_cols:\n",
    "    print '-----------Feature:', col,'----------------'\n",
    "    p = continous_EDA(col,df_tran_ad)\n",
    "    p_lst.append(p)\n",
    "    print '---------------------------------\\n'"
   ]
  },
  {
   "cell_type": "code",
   "execution_count": null,
   "metadata": {
    "collapsed": false
   },
   "outputs": [],
   "source": [
    "significant_cols = [col for col,p in zip(cont_cols,p_lst) if p<0.05]\n",
    "'significant columns:', significant_cols"
   ]
  },
  {
   "cell_type": "markdown",
   "metadata": {},
   "source": [
    "### 6. Categorical Variables"
   ]
  },
  {
   "cell_type": "code",
   "execution_count": null,
   "metadata": {
    "collapsed": true
   },
   "outputs": [],
   "source": [
    "cat_cols = ['is_streaming','language','enforce_language_match','device_type_whitelist',\n",
    "            'delivery_frequency_cap','time_to_show_countdown','time_to_show_close_button',\n",
    "            'cloudux_template_id']"
   ]
  },
  {
   "cell_type": "code",
   "execution_count": null,
   "metadata": {
    "collapsed": false
   },
   "outputs": [],
   "source": [
    "def categotical_EDA(col, df):\n",
    "    count = pd.crosstab(df['is_install'],df[col])\n",
    "    count = count.iloc[:,0:]\n",
    "    pcts = count.div(count.sum(1).astype(float),axis=0)\n",
    "    g, p, dof, expctd = chi2_contingency(pcts.as_matrix())\n",
    "    \n",
    "    ax = pcts.plot(kind='barh',stacked=True, alpha=0.5, figsize=(8,6))\n",
    "    ax.set_xlabel(\"Percentage\", fontsize=12)\n",
    "    ax.set_ylabel(\"Is Install\", fontsize=12)\n",
    "    ax.legend(loc=2,prop={'size':7})\n",
    "    \n",
    "    plt.show()\n",
    "    return p"
   ]
  },
  {
   "cell_type": "code",
   "execution_count": null,
   "metadata": {
    "collapsed": false
   },
   "outputs": [],
   "source": [
    "p_lst = []\n",
    "for col in cat_cols:\n",
    "    print '-----------Feature:', col,'----------------'\n",
    "    p = categotical_EDA(col,df_tran_ad)\n",
    "    p_lst.append(p)\n",
    "    print '---------------------------------\\n'"
   ]
  },
  {
   "cell_type": "code",
   "execution_count": null,
   "metadata": {
    "collapsed": false
   },
   "outputs": [],
   "source": [
    "significant_cols = [col for col,p in zip(cat_cols,p_lst) if p<0.05]\n",
    "'significant columns:', significant_cols"
   ]
  },
  {
   "cell_type": "markdown",
   "metadata": {},
   "source": [
    "### 7. Conclusion\n",
    "Useful Features:\n",
    "* Continous Variable: ['time_delta_days']\n",
    "* Categorial Variable: ['is_streaming']\n"
   ]
  },
  {
   "cell_type": "code",
   "execution_count": null,
   "metadata": {
    "collapsed": true
   },
   "outputs": [],
   "source": []
  }
 ],
 "metadata": {
  "anaconda-cloud": {},
  "kernelspec": {
   "display_name": "Python [conda root]",
   "language": "python",
   "name": "conda-root-py"
  },
  "language_info": {
   "codemirror_mode": {
    "name": "ipython",
    "version": 2
   },
   "file_extension": ".py",
   "mimetype": "text/x-python",
   "name": "python",
   "nbconvert_exporter": "python",
   "pygments_lexer": "ipython2",
   "version": "2.7.12"
  }
 },
 "nbformat": 4,
 "nbformat_minor": 1
}
