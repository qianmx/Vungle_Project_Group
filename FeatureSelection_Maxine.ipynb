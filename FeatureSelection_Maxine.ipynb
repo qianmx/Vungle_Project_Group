{
 "cells": [
  {
   "cell_type": "markdown",
   "metadata": {},
   "source": [
    "### Loading Data"
   ]
  },
  {
   "cell_type": "code",
   "execution_count": 104,
   "metadata": {
    "collapsed": false
   },
   "outputs": [],
   "source": [
    "import pandas as pd\n",
    "import numpy as np\n",
    "from sklearn.datasets import load_digits\n",
    "from sklearn.cross_validation import train_test_split\n",
    "from ReliefF import ReliefF\n",
    "import matplotlib.pyplot as plt"
   ]
  },
  {
   "cell_type": "code",
   "execution_count": 5,
   "metadata": {
    "collapsed": true
   },
   "outputs": [],
   "source": [
    "def combine_meta_data(df,meta_tuple,creative_tuple,option = 'both'):\n",
    "  '''\n",
    "  Meta data url is stored in a tuple:\n",
    "  (url_meta_iso,url_meta_android,url_application)\n",
    "  Creative url is stored in a tuple\n",
    "  (url_creative,url_creative_tag,url_video)\n",
    "  option - 'meta'/'creative'/'both', default both\n",
    "  '''\n",
    "  if (option == 'meta') | (option =='both'):\n",
    "\n",
    "    meta_iso =  pd.read_csv(meta_tuple[0],sep='|',\n",
    "      quotechar='\"',header=None,error_bad_lines=False,warn_bad_lines=False)\n",
    "    meta_android =  pd.read_csv(meta_tuple[1],sep='|',\n",
    "      quotechar='\"',header=None,error_bad_lines=False,warn_bad_lines=False)\n",
    "    application = pd.read_csv(meta_tuple[2],header=None,sep='|',\n",
    "      quotechar='\"',error_bad_lines=False,warn_bad_lines=False)\n",
    "    \n",
    "    application.columns =['vungle_id','market_id','is_publisher','platform'] \n",
    "    meta_iso.columns=['market_id','title','created_at','last_updated_at',\\\n",
    "                      'version','size','developer','developer_website',\\\n",
    "                      'market_url','languages','content_rating','genre_ids',\\\n",
    "                      'genres','current_version_user_ratings',\\\n",
    "                      'n_current_version_user_ratings','user_rating',\\\n",
    "                      'n_user_ratings','price_currency_code','price_value',\\\n",
    "                      'min_os_version','supported_devices','screenshot_urls'\n",
    "                     ]  \n",
    "    meta_android.columns=['market_id','package_name','title','created_at',\\\n",
    "                      'last_updated_at','version','size','website',\\\n",
    "                      'developer','market_url','languages','content_rating',\\\n",
    "                      'primary_category','categories','user_rating',\\\n",
    "                      'n_user_ratings','price_currency_code','price_value',\\\n",
    "                      'n_min_downloads','n_max_downloads','has_in_app_purchases',\\\n",
    "                      'screenshot_urls','similar'\n",
    "                     ]\n",
    "    \n",
    "    meta_iso.market_id=meta_iso.market_id.astype('string')\n",
    "    application.market_id=application.market_id.astype('string')\n",
    "    a = pd.merge(application,meta_iso,on='market_id',how='left')\n",
    "    a = pd.merge(a,meta_android,on='market_id',how='left',suffixes=['','_android'])\n",
    "    common= [i for i in a.columns if '_android' in i]\n",
    "    common_iso = ['title','created_at','last_updated_at','version',\\\n",
    "                  'size','developer','market_url','languages',\\\n",
    "                  'content_rating','user_rating',\\\n",
    "                  'n_user_ratings','price_currency_code','price_value',\\\n",
    "                  'screenshot_urls']\n",
    "    for i in range(len(common)):\n",
    "      a[common_iso[i]].fillna(a[common[i]], inplace=True)\n",
    "      del a[common[i]]\n",
    "    \n",
    "    \n",
    "    columns = a.columns.values\n",
    "    columns[0]='advertiser_app_store_id'\n",
    "    a.columns=columns\n",
    "    b = pd.merge(df,a,on='advertiser_app_store_id',how='left')\n",
    "    columns = a.columns.values\n",
    "    columns[0]='publisher_app_store_id'\n",
    "    a.columns=columns\n",
    "    b = pd.merge(b,a,on='publisher_app_store_id',how='left',suffixes=['','_publisher'])\n",
    "    \n",
    "    publisher_name = [i for i in b.columns if '_publisher' in i][1:]\n",
    "    keep_col_name = ['_'.join(i.split('_')[0:-1]) for i in publisher_name] \n",
    "    b.loc[b.is_publisher=='t',keep_col_name] = np.nan\n",
    "    for i in range(len(publisher_name)):\n",
    "      b[keep_col_name[i]].fillna(b[publisher_name[i]], inplace=True)\n",
    "      del b[publisher_name[i]]\n",
    "\n",
    "  if (option == 'creative') | (option == 'both'): \n",
    "    if option =='creative':\n",
    "      b = df\n",
    "\n",
    "    # creative table\n",
    "    df_creative = pd.read_table(creative_tuple[0],\n",
    "                       sep='|',\n",
    "                       quotechar='\"',\n",
    "                       warn_bad_lines=False,\n",
    "                       error_bad_lines=False,header=None)\n",
    "    df_creative.columns = ['creative_id','created_at','application_id','name','video_id',\n",
    "                       'is_streaming','language','enforce_language_match','device_type_whitelist',\n",
    "                      'delivery_frequency_cap','time_to_show_countdown','time_to_show_close_button',\n",
    "                      'cloudux_template_id']\n",
    "    # creative tag table\n",
    "    df_creative_tag = pd.read_table(creative_tuple[1],\n",
    "                       warn_bad_lines=False,\n",
    "                       sep='|',\n",
    "                       quotechar='\"',\n",
    "                       error_bad_lines=False,header=None)\n",
    "    df_creative_tag.columns = ['creative_id','creative_tag']\n",
    "    df_creative_tag = df_creative_tag.groupby('creative_id').creative_tag.apply(list).reset_index()\n",
    "    # vidoe table\n",
    "    '''\n",
    "    df_video = pd.read_table(creative_tuple[2],\n",
    "                       warn_bad_lines=False,\n",
    "                       sep='|',\n",
    "                       quotechar='\"',\n",
    "                       error_bad_lines=False,header=None)\n",
    "    df_video.columns = ['video_id','size','id','width','height','duration'] \n",
    "    '''\n",
    "    b= pd.merge(b, df_creative, how='left', on='creative_id',suffixes=['','_creative'])\n",
    "    b = pd.merge(b, df_creative_tag, how='left', on='creative_id')\n",
    "\n",
    "  return b"
   ]
  },
  {
   "cell_type": "code",
   "execution_count": 17,
   "metadata": {
    "collapsed": false
   },
   "outputs": [
    {
     "data": {
      "text/html": [
       "<div>\n",
       "<table border=\"1\" class=\"dataframe\">\n",
       "  <thead>\n",
       "    <tr style=\"text-align: right;\">\n",
       "      <th></th>\n",
       "      <th>Unnamed: 0</th>\n",
       "      <th>advertiser_app_store_id</th>\n",
       "      <th>country_code</th>\n",
       "      <th>city</th>\n",
       "      <th>campaign_id</th>\n",
       "      <th>creative_id</th>\n",
       "      <th>device_language</th>\n",
       "      <th>device_make</th>\n",
       "      <th>device_model</th>\n",
       "      <th>device_platform</th>\n",
       "      <th>...</th>\n",
       "      <th>n_vungle_installs</th>\n",
       "      <th>publisher_app_store_id</th>\n",
       "      <th>time_of_last_delivery_this_campaign</th>\n",
       "      <th>time_of_last_delivery_this_creative</th>\n",
       "      <th>time_of_last_delivery_any_installed_app</th>\n",
       "      <th>time_of_last_vungle_delivery</th>\n",
       "      <th>time_of_this_impression</th>\n",
       "      <th>timestamp_at_install</th>\n",
       "      <th>time_of_this_request</th>\n",
       "      <th>time_zone</th>\n",
       "    </tr>\n",
       "  </thead>\n",
       "  <tbody>\n",
       "    <tr>\n",
       "      <th>0</th>\n",
       "      <td>1376899</td>\n",
       "      <td>587dd64b8bf3d1f61f0007ce</td>\n",
       "      <td>RU</td>\n",
       "      <td>NaN</td>\n",
       "      <td>58885746108ae4af4a000099</td>\n",
       "      <td>587df31ce4740a696d000173</td>\n",
       "      <td>ru</td>\n",
       "      <td>HUAWEI</td>\n",
       "      <td>HUAWEI LUA-L21</td>\n",
       "      <td>android</td>\n",
       "      <td>...</td>\n",
       "      <td>0.0</td>\n",
       "      <td>581765752717a0c91d000278</td>\n",
       "      <td>NaN</td>\n",
       "      <td>NaN</td>\n",
       "      <td>NaN</td>\n",
       "      <td>2017-01-27 15:14:27</td>\n",
       "      <td>2017-01-27 15:17:10</td>\n",
       "      <td>NaN</td>\n",
       "      <td>2017-01-27 15:15:38</td>\n",
       "      <td>Europe/Moscow</td>\n",
       "    </tr>\n",
       "    <tr>\n",
       "      <th>1</th>\n",
       "      <td>6581055</td>\n",
       "      <td>585215f054dbb89701000ba2</td>\n",
       "      <td>US</td>\n",
       "      <td>NaN</td>\n",
       "      <td>585247d492f308b72a00015a</td>\n",
       "      <td>5860bace91bcf915650001e9</td>\n",
       "      <td>en</td>\n",
       "      <td>samsung</td>\n",
       "      <td>SM-G930V</td>\n",
       "      <td>android</td>\n",
       "      <td>...</td>\n",
       "      <td>0.0</td>\n",
       "      <td>com.science.wishbone</td>\n",
       "      <td>2017-01-08 19:07:38</td>\n",
       "      <td>2017-01-08 19:07:38</td>\n",
       "      <td>NaN</td>\n",
       "      <td>2017-01-08 19:08:55</td>\n",
       "      <td>2017-01-29 18:46:01</td>\n",
       "      <td>2017-01-29 18:54:50</td>\n",
       "      <td>2017-01-29 18:44:12</td>\n",
       "      <td>America/Chicago</td>\n",
       "    </tr>\n",
       "    <tr>\n",
       "      <th>2</th>\n",
       "      <td>1634661</td>\n",
       "      <td>558bdb44bbed958866000191</td>\n",
       "      <td>CN</td>\n",
       "      <td>NaN</td>\n",
       "      <td>56e93be0eccafb7e3500006b</td>\n",
       "      <td>57a3384c68e2b9b42f000037</td>\n",
       "      <td>zh</td>\n",
       "      <td>iPhone7</td>\n",
       "      <td>1</td>\n",
       "      <td>iOS</td>\n",
       "      <td>...</td>\n",
       "      <td>0.0</td>\n",
       "      <td>56e27bcb4605bf8437000035</td>\n",
       "      <td>NaN</td>\n",
       "      <td>NaN</td>\n",
       "      <td>NaN</td>\n",
       "      <td>NaN</td>\n",
       "      <td>2017-01-27 17:45:12</td>\n",
       "      <td>NaN</td>\n",
       "      <td>2017-01-26 19:07:47</td>\n",
       "      <td>Asia/Shanghai</td>\n",
       "    </tr>\n",
       "    <tr>\n",
       "      <th>3</th>\n",
       "      <td>6499978</td>\n",
       "      <td>57bacc8f04d458e01d00012d</td>\n",
       "      <td>UA</td>\n",
       "      <td>NaN</td>\n",
       "      <td>57bdb834fc8b9e8f1c000021</td>\n",
       "      <td>57bdc9bfd699fdc74f000027</td>\n",
       "      <td>ru</td>\n",
       "      <td>Xiaomi</td>\n",
       "      <td>Redmi 3S</td>\n",
       "      <td>android</td>\n",
       "      <td>...</td>\n",
       "      <td>0.0</td>\n",
       "      <td>5661e00a8a3c8c661b000011</td>\n",
       "      <td>2017-01-29 12:40:10</td>\n",
       "      <td>NaN</td>\n",
       "      <td>NaN</td>\n",
       "      <td>2017-01-29 12:40:10</td>\n",
       "      <td>2017-01-29 18:02:53</td>\n",
       "      <td>NaN</td>\n",
       "      <td>2017-01-29 17:40:06</td>\n",
       "      <td>Europe/Kiev</td>\n",
       "    </tr>\n",
       "    <tr>\n",
       "      <th>4</th>\n",
       "      <td>1600943</td>\n",
       "      <td>com.rovio.ABstellapop</td>\n",
       "      <td>US</td>\n",
       "      <td>NaN</td>\n",
       "      <td>56cc9f30adffb0465b0002fd</td>\n",
       "      <td>5848d1d261edbada690000ab</td>\n",
       "      <td>en</td>\n",
       "      <td>LGE</td>\n",
       "      <td>LG-D851</td>\n",
       "      <td>android</td>\n",
       "      <td>...</td>\n",
       "      <td>0.0</td>\n",
       "      <td>587f3057e821bb914700038a</td>\n",
       "      <td>2017-01-26 13:33:30</td>\n",
       "      <td>NaN</td>\n",
       "      <td>NaN</td>\n",
       "      <td>2017-01-27 17:17:26</td>\n",
       "      <td>2017-01-27 17:24:37</td>\n",
       "      <td>NaN</td>\n",
       "      <td>2017-01-27 17:19:15</td>\n",
       "      <td>America/Chicago</td>\n",
       "    </tr>\n",
       "  </tbody>\n",
       "</table>\n",
       "<p>5 rows × 27 columns</p>\n",
       "</div>"
      ],
      "text/plain": [
       "   Unnamed: 0   advertiser_app_store_id country_code city  \\\n",
       "0     1376899  587dd64b8bf3d1f61f0007ce           RU  NaN   \n",
       "1     6581055  585215f054dbb89701000ba2           US  NaN   \n",
       "2     1634661  558bdb44bbed958866000191           CN  NaN   \n",
       "3     6499978  57bacc8f04d458e01d00012d           UA  NaN   \n",
       "4     1600943     com.rovio.ABstellapop           US  NaN   \n",
       "\n",
       "                campaign_id               creative_id device_language  \\\n",
       "0  58885746108ae4af4a000099  587df31ce4740a696d000173              ru   \n",
       "1  585247d492f308b72a00015a  5860bace91bcf915650001e9              en   \n",
       "2  56e93be0eccafb7e3500006b  57a3384c68e2b9b42f000037              zh   \n",
       "3  57bdb834fc8b9e8f1c000021  57bdc9bfd699fdc74f000027              ru   \n",
       "4  56cc9f30adffb0465b0002fd  5848d1d261edbada690000ab              en   \n",
       "\n",
       "  device_make    device_model device_platform       ...         \\\n",
       "0      HUAWEI  HUAWEI LUA-L21         android       ...          \n",
       "1     samsung        SM-G930V         android       ...          \n",
       "2     iPhone7               1             iOS       ...          \n",
       "3      Xiaomi        Redmi 3S         android       ...          \n",
       "4         LGE         LG-D851         android       ...          \n",
       "\n",
       "  n_vungle_installs    publisher_app_store_id  \\\n",
       "0               0.0  581765752717a0c91d000278   \n",
       "1               0.0      com.science.wishbone   \n",
       "2               0.0  56e27bcb4605bf8437000035   \n",
       "3               0.0  5661e00a8a3c8c661b000011   \n",
       "4               0.0  587f3057e821bb914700038a   \n",
       "\n",
       "   time_of_last_delivery_this_campaign  time_of_last_delivery_this_creative  \\\n",
       "0                                  NaN                                  NaN   \n",
       "1                  2017-01-08 19:07:38                  2017-01-08 19:07:38   \n",
       "2                                  NaN                                  NaN   \n",
       "3                  2017-01-29 12:40:10                                  NaN   \n",
       "4                  2017-01-26 13:33:30                                  NaN   \n",
       "\n",
       "   time_of_last_delivery_any_installed_app time_of_last_vungle_delivery  \\\n",
       "0                                      NaN          2017-01-27 15:14:27   \n",
       "1                                      NaN          2017-01-08 19:08:55   \n",
       "2                                      NaN                          NaN   \n",
       "3                                      NaN          2017-01-29 12:40:10   \n",
       "4                                      NaN          2017-01-27 17:17:26   \n",
       "\n",
       "   time_of_this_impression  timestamp_at_install time_of_this_request  \\\n",
       "0      2017-01-27 15:17:10                   NaN  2017-01-27 15:15:38   \n",
       "1      2017-01-29 18:46:01   2017-01-29 18:54:50  2017-01-29 18:44:12   \n",
       "2      2017-01-27 17:45:12                   NaN  2017-01-26 19:07:47   \n",
       "3      2017-01-29 18:02:53                   NaN  2017-01-29 17:40:06   \n",
       "4      2017-01-27 17:24:37                   NaN  2017-01-27 17:19:15   \n",
       "\n",
       "         time_zone  \n",
       "0    Europe/Moscow  \n",
       "1  America/Chicago  \n",
       "2    Asia/Shanghai  \n",
       "3      Europe/Kiev  \n",
       "4  America/Chicago  \n",
       "\n",
       "[5 rows x 27 columns]"
      ]
     },
     "execution_count": 17,
     "metadata": {},
     "output_type": "execute_result"
    }
   ],
   "source": [
    "# df = pd.read_table('../data/000_sample1.gz',\n",
    "#                        compression='gzip',\n",
    "#                        sep='\\t',\n",
    "#                        quotechar='\"',\n",
    "#                        error_bad_lines=False)\n",
    "df = pd.read_csv('tran_sample.csv')\n",
    "df.head()"
   ]
  },
  {
   "cell_type": "code",
   "execution_count": 18,
   "metadata": {
    "collapsed": false
   },
   "outputs": [],
   "source": [
    "df_merged = combine_meta_data(df,['../data/ios_apps_metadata000','../data/android_apps_metadata000','../data/applications000'],['../data/creatives000','../data/creative_tags000'],option = 'both')"
   ]
  },
  {
   "cell_type": "code",
   "execution_count": 21,
   "metadata": {
    "collapsed": false
   },
   "outputs": [
    {
     "data": {
      "text/plain": [
       "Index([u'Unnamed: 0', u'advertiser_app_store_id', u'country_code', u'city',\n",
       "       u'campaign_id', u'creative_id', u'device_language', u'device_make',\n",
       "       u'device_model', u'device_platform', u'device_connection',\n",
       "       u'device_os_version', u'device_screen_height', u'device_screen_width',\n",
       "       u'device_volume', u'event_id', u'n_campaign_views',\n",
       "       u'n_vungle_installs', u'publisher_app_store_id',\n",
       "       u'time_of_last_delivery_this_campaign',\n",
       "       u'time_of_last_delivery_this_creative',\n",
       "       u'time_of_last_delivery_any_installed_app',\n",
       "       u'time_of_last_vungle_delivery', u'time_of_this_impression',\n",
       "       u'timestamp_at_install', u'time_of_this_request', u'time_zone',\n",
       "       u'market_id', u'is_publisher', u'platform', u'title', u'created_at',\n",
       "       u'last_updated_at', u'version', u'size', u'developer',\n",
       "       u'developer_website', u'market_url', u'languages', u'content_rating',\n",
       "       u'genre_ids', u'genres', u'current_version_user_ratings',\n",
       "       u'n_current_version_user_ratings', u'user_rating', u'n_user_ratings',\n",
       "       u'price_currency_code', u'price_value', u'min_os_version',\n",
       "       u'supported_devices', u'screenshot_urls', u'package_name', u'website',\n",
       "       u'primary_category', u'categories', u'n_min_downloads',\n",
       "       u'n_max_downloads', u'has_in_app_purchases', u'similar',\n",
       "       u'created_at_creative', u'application_id', u'name', u'video_id',\n",
       "       u'is_streaming', u'language', u'enforce_language_match',\n",
       "       u'device_type_whitelist', u'delivery_frequency_cap',\n",
       "       u'time_to_show_countdown', u'time_to_show_close_button',\n",
       "       u'cloudux_template_id', u'creative_tag'],\n",
       "      dtype='object')"
      ]
     },
     "execution_count": 21,
     "metadata": {},
     "output_type": "execute_result"
    }
   ],
   "source": [
    "df_merged.columns"
   ]
  },
  {
   "cell_type": "code",
   "execution_count": 188,
   "metadata": {
    "collapsed": false
   },
   "outputs": [],
   "source": [
    "df_merged['is_install'] = df_merged['timestamp_at_install'].notnull() * 1\n",
    "df_merged['time_delta'] = pd.to_datetime(df_merged['time_of_this_impression'])-pd.to_datetime(df_merged['created_at'])\n",
    "df_merged['time_delta_days'] = df_merged['time_delta'].dt.days\n",
    "\n",
    "df_selected = df_merged.loc[:,['is_install','advertiser_app_store_id', 'publisher_app_store_id', 'country_code',\n",
    "                               'campaign_id',\n",
    "                               'time_delta_days','is_streaming','n_vungle_installs', 'n_campaign_views', \n",
    "                               'device_screen_height', 'device_screen_width', 'device_volume',\n",
    "                               #new features from meta data\n",
    "                               'content_rating', 'device_os_version'\n",
    "                                ]]"
   ]
  },
  {
   "cell_type": "code",
   "execution_count": 189,
   "metadata": {
    "collapsed": false
   },
   "outputs": [
    {
     "data": {
      "text/html": [
       "<div>\n",
       "<table border=\"1\" class=\"dataframe\">\n",
       "  <thead>\n",
       "    <tr style=\"text-align: right;\">\n",
       "      <th></th>\n",
       "      <th>is_install</th>\n",
       "      <th>advertiser_app_store_id</th>\n",
       "      <th>publisher_app_store_id</th>\n",
       "      <th>country_code</th>\n",
       "      <th>campaign_id</th>\n",
       "      <th>time_delta_days</th>\n",
       "      <th>is_streaming</th>\n",
       "      <th>n_vungle_installs</th>\n",
       "      <th>n_campaign_views</th>\n",
       "      <th>device_screen_height</th>\n",
       "      <th>device_screen_width</th>\n",
       "      <th>device_volume</th>\n",
       "      <th>content_rating</th>\n",
       "      <th>device_os_version</th>\n",
       "    </tr>\n",
       "  </thead>\n",
       "  <tbody>\n",
       "    <tr>\n",
       "      <th>0</th>\n",
       "      <td>0</td>\n",
       "      <td>587dd64b8bf3d1f61f0007ce</td>\n",
       "      <td>581765752717a0c91d000278</td>\n",
       "      <td>RU</td>\n",
       "      <td>58885746108ae4af4a000099</td>\n",
       "      <td>148.0</td>\n",
       "      <td>f</td>\n",
       "      <td>0.0</td>\n",
       "      <td>0</td>\n",
       "      <td>480.0</td>\n",
       "      <td>854.0</td>\n",
       "      <td>0.000000</td>\n",
       "      <td>Teen</td>\n",
       "      <td>5.1</td>\n",
       "    </tr>\n",
       "    <tr>\n",
       "      <th>1</th>\n",
       "      <td>1</td>\n",
       "      <td>585215f054dbb89701000ba2</td>\n",
       "      <td>com.science.wishbone</td>\n",
       "      <td>US</td>\n",
       "      <td>585247d492f308b72a00015a</td>\n",
       "      <td>81.0</td>\n",
       "      <td>f</td>\n",
       "      <td>0.0</td>\n",
       "      <td>1</td>\n",
       "      <td>2560.0</td>\n",
       "      <td>1440.0</td>\n",
       "      <td>0.200000</td>\n",
       "      <td>Everyone</td>\n",
       "      <td>6.0.1</td>\n",
       "    </tr>\n",
       "    <tr>\n",
       "      <th>2</th>\n",
       "      <td>0</td>\n",
       "      <td>558bdb44bbed958866000191</td>\n",
       "      <td>56e27bcb4605bf8437000035</td>\n",
       "      <td>CN</td>\n",
       "      <td>56e93be0eccafb7e3500006b</td>\n",
       "      <td>701.0</td>\n",
       "      <td>f</td>\n",
       "      <td>0.0</td>\n",
       "      <td>0</td>\n",
       "      <td>1125.0</td>\n",
       "      <td>2001.0</td>\n",
       "      <td>0.679965</td>\n",
       "      <td>12+</td>\n",
       "      <td>10.1.1</td>\n",
       "    </tr>\n",
       "    <tr>\n",
       "      <th>3</th>\n",
       "      <td>0</td>\n",
       "      <td>57bacc8f04d458e01d00012d</td>\n",
       "      <td>5661e00a8a3c8c661b000011</td>\n",
       "      <td>UA</td>\n",
       "      <td>57bdb834fc8b9e8f1c000021</td>\n",
       "      <td>208.0</td>\n",
       "      <td>f</td>\n",
       "      <td>0.0</td>\n",
       "      <td>0</td>\n",
       "      <td>1280.0</td>\n",
       "      <td>720.0</td>\n",
       "      <td>0.933333</td>\n",
       "      <td>Everyone</td>\n",
       "      <td>6.0.1</td>\n",
       "    </tr>\n",
       "    <tr>\n",
       "      <th>4</th>\n",
       "      <td>0</td>\n",
       "      <td>com.rovio.ABstellapop</td>\n",
       "      <td>587f3057e821bb914700038a</td>\n",
       "      <td>US</td>\n",
       "      <td>56cc9f30adffb0465b0002fd</td>\n",
       "      <td>688.0</td>\n",
       "      <td>f</td>\n",
       "      <td>0.0</td>\n",
       "      <td>0</td>\n",
       "      <td>2392.0</td>\n",
       "      <td>1440.0</td>\n",
       "      <td>0.000000</td>\n",
       "      <td>Everyone</td>\n",
       "      <td>6.0</td>\n",
       "    </tr>\n",
       "  </tbody>\n",
       "</table>\n",
       "</div>"
      ],
      "text/plain": [
       "   is_install   advertiser_app_store_id    publisher_app_store_id  \\\n",
       "0           0  587dd64b8bf3d1f61f0007ce  581765752717a0c91d000278   \n",
       "1           1  585215f054dbb89701000ba2      com.science.wishbone   \n",
       "2           0  558bdb44bbed958866000191  56e27bcb4605bf8437000035   \n",
       "3           0  57bacc8f04d458e01d00012d  5661e00a8a3c8c661b000011   \n",
       "4           0     com.rovio.ABstellapop  587f3057e821bb914700038a   \n",
       "\n",
       "  country_code               campaign_id  time_delta_days is_streaming  \\\n",
       "0           RU  58885746108ae4af4a000099            148.0            f   \n",
       "1           US  585247d492f308b72a00015a             81.0            f   \n",
       "2           CN  56e93be0eccafb7e3500006b            701.0            f   \n",
       "3           UA  57bdb834fc8b9e8f1c000021            208.0            f   \n",
       "4           US  56cc9f30adffb0465b0002fd            688.0            f   \n",
       "\n",
       "   n_vungle_installs  n_campaign_views  device_screen_height  \\\n",
       "0                0.0                 0                 480.0   \n",
       "1                0.0                 1                2560.0   \n",
       "2                0.0                 0                1125.0   \n",
       "3                0.0                 0                1280.0   \n",
       "4                0.0                 0                2392.0   \n",
       "\n",
       "   device_screen_width  device_volume content_rating device_os_version  \n",
       "0                854.0       0.000000           Teen               5.1  \n",
       "1               1440.0       0.200000       Everyone             6.0.1  \n",
       "2               2001.0       0.679965            12+            10.1.1  \n",
       "3                720.0       0.933333       Everyone             6.0.1  \n",
       "4               1440.0       0.000000       Everyone               6.0  "
      ]
     },
     "execution_count": 189,
     "metadata": {},
     "output_type": "execute_result"
    }
   ],
   "source": [
    "df_selected.head()"
   ]
  },
  {
   "cell_type": "markdown",
   "metadata": {},
   "source": [
    "### Clean the Data"
   ]
  },
  {
   "cell_type": "code",
   "execution_count": 197,
   "metadata": {
    "collapsed": false
   },
   "outputs": [
    {
     "data": {
      "text/plain": [
       "is_install                 0\n",
       "advertiser_app_store_id    0\n",
       "publisher_app_store_id     0\n",
       "country_code               0\n",
       "campaign_id                0\n",
       "time_delta_days            0\n",
       "is_streaming               0\n",
       "n_vungle_installs          0\n",
       "n_campaign_views           0\n",
       "device_screen_height       0\n",
       "device_screen_width        0\n",
       "device_volume              0\n",
       "content_rating             0\n",
       "device_os_version          0\n",
       "dtype: int64"
      ]
     },
     "execution_count": 197,
     "metadata": {},
     "output_type": "execute_result"
    }
   ],
   "source": [
    "df_selected1.isnull().sum()"
   ]
  },
  {
   "cell_type": "code",
   "execution_count": 198,
   "metadata": {
    "collapsed": true
   },
   "outputs": [],
   "source": [
    "def fillna_avg(df, columns):\n",
    "    \"\"\"\n",
    "    fill NA with mean\n",
    "    \"\"\"\n",
    "    if isinstance(df, pd.DataFrame):\n",
    "        for col in columns:\n",
    "            df[col].fillna(df[col].mean(), inplace=True)\n",
    "   \n",
    "    return df"
   ]
  },
  {
   "cell_type": "code",
   "execution_count": 199,
   "metadata": {
    "collapsed": false
   },
   "outputs": [],
   "source": [
    "df_selected1 = fillna_avg(df_selected, ['time_delta_days'])\n",
    "df_selected1 = df_selected1.dropna(axis=0, how='any') "
   ]
  },
  {
   "cell_type": "code",
   "execution_count": 200,
   "metadata": {
    "collapsed": false
   },
   "outputs": [],
   "source": [
    "df_selected1[\"is_streaming\"] = df_selected1[\"is_streaming\"].astype('category')\n",
    "df_selected1[\"is_streaming\"] = df_selected1.is_streaming.cat.rename_categories([1,2])\n",
    "df_selected1[\"is_streaming\"] = df_selected1[\"is_streaming\"].astype('category')"
   ]
  },
  {
   "cell_type": "code",
   "execution_count": 218,
   "metadata": {
    "collapsed": false
   },
   "outputs": [],
   "source": [
    "df_selected1[\"content_rating\"] = df_selected1[\"content_rating\"].astype('category')\n",
    "df_selected1[\"content_rating\"] = df_selected1.content_rating.cat.rename_categories([i+1 for i in range(8)])\n",
    "df_selected1[\"content_rating\"] = df_selected1[\"content_rating\"].astype('category')"
   ]
  },
  {
   "cell_type": "code",
   "execution_count": 219,
   "metadata": {
    "collapsed": false
   },
   "outputs": [
    {
     "name": "stdout",
     "output_type": "stream",
     "text": [
      "(6774, 14)\n",
      "   is_install   advertiser_app_store_id    publisher_app_store_id  \\\n",
      "0           0  587dd64b8bf3d1f61f0007ce  581765752717a0c91d000278   \n",
      "1           1  585215f054dbb89701000ba2      com.science.wishbone   \n",
      "2           0  558bdb44bbed958866000191  56e27bcb4605bf8437000035   \n",
      "3           0  57bacc8f04d458e01d00012d  5661e00a8a3c8c661b000011   \n",
      "4           0     com.rovio.ABstellapop  587f3057e821bb914700038a   \n",
      "\n",
      "  country_code               campaign_id  time_delta_days is_streaming  \\\n",
      "0           RU  58885746108ae4af4a000099            148.0            1   \n",
      "1           US  585247d492f308b72a00015a             81.0            1   \n",
      "2           CN  56e93be0eccafb7e3500006b            701.0            1   \n",
      "3           UA  57bdb834fc8b9e8f1c000021            208.0            1   \n",
      "4           US  56cc9f30adffb0465b0002fd            688.0            1   \n",
      "\n",
      "   n_vungle_installs  n_campaign_views  device_screen_height  \\\n",
      "0                0.0                 0                 480.0   \n",
      "1                0.0                 1                2560.0   \n",
      "2                0.0                 0                1125.0   \n",
      "3                0.0                 0                1280.0   \n",
      "4                0.0                 0                2392.0   \n",
      "\n",
      "   device_screen_width  device_volume content_rating device_os_version  \n",
      "0                854.0       0.000000              8               5.1  \n",
      "1               1440.0       0.200000              5             6.0.1  \n",
      "2               2001.0       0.679965              1            10.1.1  \n",
      "3                720.0       0.933333              5             6.0.1  \n",
      "4               1440.0       0.000000              5               6.0  \n"
     ]
    }
   ],
   "source": [
    "print df_selected1.shape\n",
    "print df_selected1.head()"
   ]
  },
  {
   "cell_type": "code",
   "execution_count": 220,
   "metadata": {
    "collapsed": false
   },
   "outputs": [
    {
     "data": {
      "text/plain": [
       "is_install                    int64\n",
       "advertiser_app_store_id      object\n",
       "publisher_app_store_id       object\n",
       "country_code                 object\n",
       "campaign_id                  object\n",
       "time_delta_days             float64\n",
       "is_streaming               category\n",
       "n_vungle_installs           float64\n",
       "n_campaign_views              int64\n",
       "device_screen_height        float64\n",
       "device_screen_width         float64\n",
       "device_volume               float64\n",
       "content_rating             category\n",
       "device_os_version            object\n",
       "dtype: object"
      ]
     },
     "execution_count": 220,
     "metadata": {},
     "output_type": "execute_result"
    }
   ],
   "source": [
    "df_selected1.dtypes"
   ]
  },
  {
   "cell_type": "markdown",
   "metadata": {},
   "source": [
    "### RELIEFF Feature Selection"
   ]
  },
  {
   "cell_type": "code",
   "execution_count": 221,
   "metadata": {
    "collapsed": false
   },
   "outputs": [],
   "source": [
    "X,y = df_selected1.loc[:,['time_delta_days','is_streaming','n_vungle_installs', 'n_campaign_views', \n",
    "                               'device_screen_height', 'device_screen_width', 'device_volume','content_rating']], df_selected1['is_install']\n",
    "\n",
    "# fs = ReliefF(n_neighbors=20, n_features_to_keep=5)\n",
    "# fs.fit(X=X,y=y)\n",
    "# X_train = fs.fit_transform(X, y)\n",
    "# X_test_subset = fs.transform(X_test)\n",
    "# print(X_test.shape, X_test_subset.shape)"
   ]
  },
  {
   "cell_type": "code",
   "execution_count": 222,
   "metadata": {
    "collapsed": false
   },
   "outputs": [
    {
     "data": {
      "text/html": [
       "<div>\n",
       "<table border=\"1\" class=\"dataframe\">\n",
       "  <thead>\n",
       "    <tr style=\"text-align: right;\">\n",
       "      <th></th>\n",
       "      <th>time_delta_days</th>\n",
       "      <th>is_streaming</th>\n",
       "      <th>n_vungle_installs</th>\n",
       "      <th>n_campaign_views</th>\n",
       "      <th>device_screen_height</th>\n",
       "      <th>device_screen_width</th>\n",
       "      <th>device_volume</th>\n",
       "      <th>content_rating</th>\n",
       "    </tr>\n",
       "  </thead>\n",
       "  <tbody>\n",
       "    <tr>\n",
       "      <th>0</th>\n",
       "      <td>148.0</td>\n",
       "      <td>1</td>\n",
       "      <td>0.0</td>\n",
       "      <td>0</td>\n",
       "      <td>480.0</td>\n",
       "      <td>854.0</td>\n",
       "      <td>0.000000</td>\n",
       "      <td>8</td>\n",
       "    </tr>\n",
       "    <tr>\n",
       "      <th>1</th>\n",
       "      <td>81.0</td>\n",
       "      <td>1</td>\n",
       "      <td>0.0</td>\n",
       "      <td>1</td>\n",
       "      <td>2560.0</td>\n",
       "      <td>1440.0</td>\n",
       "      <td>0.200000</td>\n",
       "      <td>5</td>\n",
       "    </tr>\n",
       "    <tr>\n",
       "      <th>2</th>\n",
       "      <td>701.0</td>\n",
       "      <td>1</td>\n",
       "      <td>0.0</td>\n",
       "      <td>0</td>\n",
       "      <td>1125.0</td>\n",
       "      <td>2001.0</td>\n",
       "      <td>0.679965</td>\n",
       "      <td>1</td>\n",
       "    </tr>\n",
       "    <tr>\n",
       "      <th>3</th>\n",
       "      <td>208.0</td>\n",
       "      <td>1</td>\n",
       "      <td>0.0</td>\n",
       "      <td>0</td>\n",
       "      <td>1280.0</td>\n",
       "      <td>720.0</td>\n",
       "      <td>0.933333</td>\n",
       "      <td>5</td>\n",
       "    </tr>\n",
       "    <tr>\n",
       "      <th>4</th>\n",
       "      <td>688.0</td>\n",
       "      <td>1</td>\n",
       "      <td>0.0</td>\n",
       "      <td>0</td>\n",
       "      <td>2392.0</td>\n",
       "      <td>1440.0</td>\n",
       "      <td>0.000000</td>\n",
       "      <td>5</td>\n",
       "    </tr>\n",
       "  </tbody>\n",
       "</table>\n",
       "</div>"
      ],
      "text/plain": [
       "   time_delta_days is_streaming  n_vungle_installs  n_campaign_views  \\\n",
       "0            148.0            1                0.0                 0   \n",
       "1             81.0            1                0.0                 1   \n",
       "2            701.0            1                0.0                 0   \n",
       "3            208.0            1                0.0                 0   \n",
       "4            688.0            1                0.0                 0   \n",
       "\n",
       "   device_screen_height  device_screen_width  device_volume content_rating  \n",
       "0                 480.0                854.0       0.000000              8  \n",
       "1                2560.0               1440.0       0.200000              5  \n",
       "2                1125.0               2001.0       0.679965              1  \n",
       "3                1280.0                720.0       0.933333              5  \n",
       "4                2392.0               1440.0       0.000000              5  "
      ]
     },
     "execution_count": 222,
     "metadata": {},
     "output_type": "execute_result"
    }
   ],
   "source": [
    "X.head()"
   ]
  },
  {
   "cell_type": "markdown",
   "metadata": {},
   "source": [
    "### Random Forecast"
   ]
  },
  {
   "cell_type": "code",
   "execution_count": 223,
   "metadata": {
    "collapsed": false
   },
   "outputs": [
    {
     "data": {
      "text/plain": [
       "RandomForestClassifier(bootstrap=True, class_weight=None, criterion='gini',\n",
       "            max_depth=None, max_features='auto', max_leaf_nodes=None,\n",
       "            min_impurity_split=1e-07, min_samples_leaf=1,\n",
       "            min_samples_split=5, min_weight_fraction_leaf=0.0,\n",
       "            n_estimators=10, n_jobs=1, oob_score=False, random_state=0,\n",
       "            verbose=0, warm_start=False)"
      ]
     },
     "execution_count": 223,
     "metadata": {},
     "output_type": "execute_result"
    }
   ],
   "source": [
    "from sklearn.ensemble import RandomForestClassifier\n",
    "clf = RandomForestClassifier(n_estimators=10, max_depth=None, min_samples_split=5, random_state=0)\n",
    "clf.fit(X,y)"
   ]
  },
  {
   "cell_type": "code",
   "execution_count": 224,
   "metadata": {
    "collapsed": false
   },
   "outputs": [],
   "source": [
    "selected_features = ['time_delta_days','is_streaming','n_vungle_installs', 'n_campaign_views', \n",
    "                               'device_screen_height', 'device_screen_width', 'device_volume','content_rating','device_os_version']\n",
    "importances = clf.feature_importances_\n",
    "indices = np.argsort(importances)[::-1]\n",
    "std = np.std([tree.feature_importances_ for tree in clf.estimators_],axis=0)\n",
    "features = X.columns[indices]"
   ]
  },
  {
   "cell_type": "code",
   "execution_count": 225,
   "metadata": {
    "collapsed": false
   },
   "outputs": [
    {
     "name": "stdout",
     "output_type": "stream",
     "text": [
      "Feature ranking:\n",
      "1. feature time_delta_days (0.355745)\n",
      "2. feature device_volume (0.203606)\n",
      "3. feature device_screen_height (0.127268)\n",
      "4. feature device_screen_width (0.112461)\n",
      "5. feature n_campaign_views (0.075096)\n",
      "6. feature content_rating (0.071923)\n",
      "7. feature n_vungle_installs (0.053873)\n",
      "8. feature is_streaming (0.000028)\n"
     ]
    }
   ],
   "source": [
    "# Print the feature ranking\n",
    "print(\"Feature ranking:\")\n",
    "\n",
    "for f in range(X.shape[1]):\n",
    "    print(\"%d. feature %s (%f)\" % (f + 1, selected_features[indices[f]], importances[indices[f]]))"
   ]
  },
  {
   "cell_type": "code",
   "execution_count": 229,
   "metadata": {
    "collapsed": false
   },
   "outputs": [
    {
     "data": {
      "image/png": "[encoded data removed]",
      "text/plain": [
       "<matplotlib.figure.Figure at 0x1aaae0690>"
      ]
     },
     "metadata": {},
     "output_type": "display_data"
    }
   ],
   "source": [
    "plt.figure()\n",
    "plt.title(\"Feature importances\")\n",
    "plt.bar(range(X.shape[1]), importances[indices],color=\"r\", yerr=std[indices], align=\"center\")\n",
    "plt.xticks(range(X.shape[1]), [selected_features[indices[f]] for f in range(X.shape[1])], size='small',rotation='vertical')\n",
    "plt.xlim([-1, X.shape[1]])\n",
    "plt.show()"
   ]
  }
 ],
 "metadata": {
  "anaconda-cloud": {},
  "kernelspec": {
   "display_name": "Python [conda root]",
   "language": "python",
   "name": "conda-root-py"
  }
 },
 "nbformat": 4,
 "nbformat_minor": 1
}
