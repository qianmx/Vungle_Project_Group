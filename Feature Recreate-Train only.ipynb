{
 "cells": [
  {
   "cell_type": "code",
   "execution_count": 1,
   "metadata": {
    "collapsed": false
   },
   "outputs": [
    {
     "name": "stderr",
     "output_type": "stream",
     "text": [
      "/Users/linda/anaconda2/lib/python2.7/site-packages/sklearn/cross_validation.py:44: DeprecationWarning: This module was deprecated in version 0.18 in favor of the model_selection module into which all the refactored classes and functions are moved. Also note that the interface of the new CV iterators are different from that of this module. This module will be removed in 0.20.\n",
      "  \"This module will be removed in 0.20.\", DeprecationWarning)\n",
      "/Users/linda/anaconda2/lib/python2.7/site-packages/sklearn/grid_search.py:43: DeprecationWarning: This module was deprecated in version 0.18 in favor of the model_selection module into which all the refactored classes and functions are moved. This module will be removed in 0.20.\n",
      "  DeprecationWarning)\n"
     ]
    }
   ],
   "source": [
    "import pandas as pd\n",
    "import numpy as np\n",
    "from Merge import *\n",
    "from sklearn.cross_validation import train_test_split\n",
    "from model_builder import *\n",
    "from itertools import combinations"
   ]
  },
  {
   "cell_type": "code",
   "execution_count": 2,
   "metadata": {
    "collapsed": false
   },
   "outputs": [
    {
     "name": "stderr",
     "output_type": "stream",
     "text": [
      "/Users/linda/anaconda2/lib/python2.7/site-packages/IPython/core/interactiveshell.py:2717: DtypeWarning: Columns (11,12,13,15,16) have mixed types. Specify dtype option on import or set low_memory=False.\n",
      "  interactivity=interactivity, compiler=compiler, result=result)\n"
     ]
    }
   ],
   "source": [
    "#load data\n",
    "train= pd.read_csv('imbalanced_data.csv')\n",
    "\n",
    "#test= pd.read_csv('test_file_1.csv') \n",
    "\n"
   ]
  },
  {
   "cell_type": "code",
   "execution_count": 3,
   "metadata": {
    "collapsed": false
   },
   "outputs": [],
   "source": [
    "train.loc[~train.time_of_last_delivery_any_installed_app.isnull(),'time_of_last_delivery_any_installed_app']='t'\n",
    "train.time_of_last_delivery_any_installed_app=train.time_of_last_delivery_any_installed_app.fillna('f')"
   ]
  },
  {
   "cell_type": "code",
   "execution_count": 4,
   "metadata": {
    "collapsed": false
   },
   "outputs": [],
   "source": [
    "#join table\n",
    "iso = 'metadata/ios_apps_metadata000'\n",
    "android = 'metadata/android_apps_metadata000'\n",
    "application = 'metadata/applications000'\n",
    "meta_tuple= (iso,android,application)\n",
    "creative_tuple = ('metadata/creatives000','metadata/creative_tags000',\\\n",
    "                 'metadata/video_files000')\n",
    "iso=['market_id','developer','created_at','last_updated_at','content_rating',\n",
    "    'price_currency_code','supported_devices',\n",
    "    'user_rating','n_user_ratings'] \n",
    "andriod =['market_id','developer','created_at','last_updated_at','content_rating','primary_category',\n",
    "          'price_currency_code','user_rating','n_user_ratings',\n",
    "          'has_in_app_purchases','n_min_downloads','n_max_downloads']\n",
    "meta_column=(iso,andriod)\n",
    "creat_col =['delivery_frequency_cap','is_streaming','cloudux_template_id',\n",
    "            'enforce_language_match','time_to_show_countdown','time_to_show_close_button']\n",
    "\n",
    "yX_train =combine_meta_data(train,meta_tuple,creative_tuple,meta_column,creat_col,option='both')"
   ]
  },
  {
   "cell_type": "code",
   "execution_count": 10,
   "metadata": {
    "collapsed": false
   },
   "outputs": [],
   "source": [
    "#yX_train['time_delta_updated'] = pd.to_datetime(yX_train['last_updated_at'],errors='coerce')-pd.to_datetime(yX_train['created_at'],errors='coerce')\n",
    "#yX_train['time_delta_updated'] = yX_train['time_delta_updated'].dt.days\n"
   ]
  },
  {
   "cell_type": "code",
   "execution_count": 9,
   "metadata": {
    "collapsed": false
   },
   "outputs": [],
   "source": [
    "#yX_train = yX_train[yX_train.n_vungle_installs.apply(lambda x:isinstance(x, (int,float)))]\n",
    "#yX_train.n_vungle_installs=yX_train.n_vungle_installs.astype(float)\n",
    "#yX_train.n_campaign_views=yX_train.n_campaign_views.astype(float)\n"
   ]
  },
  {
   "cell_type": "code",
   "execution_count": 5,
   "metadata": {
    "collapsed": false
   },
   "outputs": [],
   "source": [
    "random_list = [u'campaign_id',u'city',u'time_zone', u'device_language', u'device_make', u'device_model',\n",
    "               u'platform', u'developer',u'content_rating','user_rating','n_user_ratings',\n",
    "             u'price_currency_code',u'supported_devices','n_min_downloads','n_max_downloads',\n",
    "            'enforce_language_match','time_to_show_countdown','time_to_show_close_button']\n",
    "\n",
    "medium_list =[ u'device_platform', u'device_connection', u'time_of_last_delivery_this_campaign',\n",
    "             u'delivery_frequency_cap', u'is_streaming', u'cloudux_template_id',u'is_publisher',u'device_os_version',\n",
    "             u'primary_category']\n",
    "\n",
    "good_list = [u'n_campaign_views', u'n_vungle_installs']"
   ]
  },
  {
   "cell_type": "code",
   "execution_count": 10,
   "metadata": {
    "collapsed": false
   },
   "outputs": [
    {
     "name": "stdout",
     "output_type": "stream",
     "text": [
      "campaign_id ---- 4656\n",
      "city ---- 18491\n",
      "time_zone ---- 428\n",
      "device_language ---- 187\n",
      "device_make ---- 5175\n",
      "device_model ---- 36503\n",
      "platform ---- 4\n",
      "developer ---- 622\n",
      "content_rating ---- 10\n",
      "user_rating ---- 10\n",
      "n_user_ratings ---- 3865\n",
      "price_currency_code ---- 1528\n",
      "supported_devices ---- 2760\n",
      "n_min_downloads ---- 20\n",
      "n_max_downloads ---- 20\n",
      "enforce_language_match ---- 3\n",
      "time_to_show_countdown ---- 4\n",
      "time_to_show_close_button ---- 6\n",
      "time_of_last_delivery_this_campaign ---- 1062664\n",
      "device_platform ---- 5\n",
      "device_connection ---- 4\n",
      "device_os_version ---- 251\n",
      "delivery_frequency_cap ---- 6\n",
      "is_streaming ---- 3\n",
      "cloudux_template_id ---- 6\n",
      "is_publisher ---- 3\n",
      "primary_category ---- 42\n",
      "n_campaign_views ---- 814\n",
      "n_vungle_installs ---- 61\n"
     ]
    }
   ],
   "source": [
    "for i in random_list+medium_list+good_list:\n",
    "    print i,'----',len(yX_train[i].unique())"
   ]
  },
  {
   "cell_type": "code",
   "execution_count": 6,
   "metadata": {
    "collapsed": true
   },
   "outputs": [],
   "source": [
    "def logistic_model_final(X_train, y_train,c=0.1):\n",
    "    \"\"\"\n",
    "    use crossvalidation (CV) to report the best parameter 'C'\n",
    "    parameter C: Inverse of regularization strength; must be a positive float. \n",
    "    Check LogisticRegression() in sklearn for more information\n",
    "    \"\"\"\n",
    "    print('Train Regression Model')\n",
    "\n",
    "    model=LogisticRegression(C=c,penalty='l2',solver='sag',n_jobs=-1)\n",
    "\n",
    "    model.fit(X_train, y_train)\n",
    "    return model\n"
   ]
  },
  {
   "cell_type": "code",
   "execution_count": 7,
   "metadata": {
    "collapsed": true
   },
   "outputs": [],
   "source": [
    "def model_selection_fun(b_f,mod,interactions):\n",
    "    \n",
    "    #cont_features_pc = []\n",
    "    cat_interactions_pc = interactions\n",
    "    cat_features_pc =mod\n",
    "    train, test = train_test_split(b_f, test_size=0.2,random_state= 42)  # splitting Train into Train/Test sets\n",
    "    X_train, y_train, X_test, y_test = train, train.pop('is_install'), test, test.pop('is_install')\n",
    "\n",
    "    feature_creator = FeatureCreator()\n",
    "    design_matrix_transformer = FeatureHasher(22, cat_features_pc, None, cat_interactions_pc, store_fmap=True) # You can experiment with hasher bits (we used 18 here)\n",
    "\n",
    "    X_test = feature_creator.transform(X_test, inplace=True)\n",
    "    X_test, f_map = design_matrix_transformer.fit_transform(X_test)\n",
    "\n",
    "    X_train = feature_creator.transform(X_train, inplace=True)\n",
    "    X_train, f_map = design_matrix_transformer.fit_transform(X_train)\n",
    "\n",
    "    logistic_baseline = logistic_model_final(X_train, y_train,0.05)\n",
    "\n",
    "    # Calculate prediction/probability of train and test\n",
    "    X_train_predictions = logistic_baseline.predict(X_train)\n",
    "    X_train_predprob = logistic_baseline.predict_proba(X_train)[:, 1]\n",
    "\n",
    "    X_test_predictions = logistic_baseline.predict(X_test)\n",
    "    X_test_predprob = logistic_baseline.predict_proba(X_test)[:, 1]\n",
    "\n",
    "\n",
    "    # Calculate metrics of train, validation and test set.\n",
    "    #lr_ll_val = -logistic_baseline.best_score_\n",
    "\n",
    "    lr_ll_train = log_loss(y_train, X_train_predprob)\n",
    "    lr_auc_train = roc_auc_score(y_train, X_train_predprob)\n",
    "\n",
    "    lr_ll_test = log_loss(y_test, X_test_predprob)    \n",
    "    lr_auc_test = roc_auc_score(y_test, X_test_predprob)\n",
    "\n",
    "    # Print out the results\n",
    "    #print \"Best parameter: \", logistic_baseline.best_params_\n",
    "\n",
    "    #print \"Log Loss (Validation): %f\" % lr_ll_val\n",
    "\n",
    "    print \"Log Loss (Train): %f\" % lr_ll_train\n",
    "    print \"AUC (Train): %f\" % lr_auc_train\n",
    "    #AUC[i]=lr_ll_test\n",
    "    #Log_lost[i]=lr_auc_test\n",
    "    print 'Log Loss (Test): %f' % lr_ll_test\n",
    "    print 'AUC (Test): %f' % lr_auc_test\n"
   ]
  },
  {
   "cell_type": "code",
   "execution_count": 8,
   "metadata": {
    "collapsed": true
   },
   "outputs": [],
   "source": [
    "def logistic_model(X_train, y_train):\n",
    "    \"\"\"\n",
    "    use crossvalidation (CV) to report the best parameter 'C'\n",
    "    parameter C: Inverse of regularization strength; must be a positive float. \n",
    "    Check LogisticRegression() in sklearn for more information\n",
    "    \"\"\"\n",
    "    print('Train Regression Model')\n",
    "    model = GridSearchCV(\n",
    "            \n",
    "            estimator=LogisticRegression(penalty='l2',solver='sag',n_jobs=-1),\n",
    "            param_grid={'C': [0.05,0.1]},\n",
    "            scoring='log_loss',\n",
    "            cv=3\n",
    "    )\n",
    "    model.fit(X_train, y_train)\n",
    "    return model"
   ]
  },
  {
   "cell_type": "code",
   "execution_count": 9,
   "metadata": {
    "collapsed": true
   },
   "outputs": [],
   "source": [
    "import random\n",
    "def choice():\n",
    "    ran = random.sample(random_list,3)\n",
    "    median = random.sample(medium_list,2)\n",
    "    good = good_list\n",
    "    return ran,median,good,combo(ran),combo(median),combo(good)\n",
    "\n",
    "def combo(lst): \n",
    "\n",
    "    return [i for i in sum([map(tuple, combinations(lst, i)) for i in range(len(lst) + 1)], [])[1:] if len(i) >1]"
   ]
  },
  {
   "cell_type": "markdown",
   "metadata": {},
   "source": [
    "#### this is the one you are pretty sure it can generate good model you are trying to use it to tune parameter\n",
    "\n"
   ]
  },
  {
   "cell_type": "code",
   "execution_count": null,
   "metadata": {
    "collapsed": false
   },
   "outputs": [
    {
     "name": "stdout",
     "output_type": "stream",
     "text": [
      "------base model-------\n",
      "['advertiser_app_store_id', 'country_code', u'device_language', 'publisher_app_store_id', 'n_user_ratings', 'user_rating', u'n_campaign_views', u'n_vungle_installs', u'delivery_frequency_cap', 'time_to_show_countdown', u'supported_devices', u'device_platform', u'is_streaming']\n",
      "------interaction-----\n",
      "[('advertiser_app_store_id', 'country_code'), ('advertiser_app_store_id', u'device_language'), ('advertiser_app_store_id', 'publisher_app_store_id'), ('advertiser_app_store_id', u'n_campaign_views'), ('advertiser_app_store_id', u'n_vungle_installs'), ('advertiser_app_store_id', u'delivery_frequency_cap'), ('country_code', u'device_language'), ('country_code', 'publisher_app_store_id'), ('country_code', u'n_campaign_views'), ('country_code', u'n_vungle_installs'), ('country_code', u'delivery_frequency_cap'), (u'device_language', 'publisher_app_store_id'), (u'device_language', u'n_campaign_views'), (u'device_language', u'n_vungle_installs'), (u'device_language', u'delivery_frequency_cap'), ('publisher_app_store_id', u'n_campaign_views'), ('publisher_app_store_id', u'n_vungle_installs'), ('publisher_app_store_id', u'delivery_frequency_cap'), (u'n_campaign_views', u'n_vungle_installs'), (u'n_campaign_views', u'delivery_frequency_cap'), (u'n_vungle_installs', u'delivery_frequency_cap'), ('advertiser_app_store_id', 'country_code', u'device_language'), ('advertiser_app_store_id', 'country_code', 'publisher_app_store_id'), ('advertiser_app_store_id', 'country_code', u'n_campaign_views'), ('advertiser_app_store_id', 'country_code', u'n_vungle_installs'), ('advertiser_app_store_id', 'country_code', u'delivery_frequency_cap'), ('advertiser_app_store_id', u'device_language', 'publisher_app_store_id'), ('advertiser_app_store_id', u'device_language', u'n_campaign_views'), ('advertiser_app_store_id', u'device_language', u'n_vungle_installs'), ('advertiser_app_store_id', u'device_language', u'delivery_frequency_cap'), ('advertiser_app_store_id', 'publisher_app_store_id', u'n_campaign_views'), ('advertiser_app_store_id', 'publisher_app_store_id', u'n_vungle_installs'), ('advertiser_app_store_id', 'publisher_app_store_id', u'delivery_frequency_cap'), ('advertiser_app_store_id', u'n_campaign_views', u'n_vungle_installs'), ('advertiser_app_store_id', u'n_campaign_views', u'delivery_frequency_cap'), ('advertiser_app_store_id', u'n_vungle_installs', u'delivery_frequency_cap'), ('country_code', u'device_language', 'publisher_app_store_id'), ('country_code', u'device_language', u'n_campaign_views'), ('country_code', u'device_language', u'n_vungle_installs'), ('country_code', u'device_language', u'delivery_frequency_cap'), ('country_code', 'publisher_app_store_id', u'n_campaign_views'), ('country_code', 'publisher_app_store_id', u'n_vungle_installs'), ('country_code', 'publisher_app_store_id', u'delivery_frequency_cap'), ('country_code', u'n_campaign_views', u'n_vungle_installs'), ('country_code', u'n_campaign_views', u'delivery_frequency_cap'), ('country_code', u'n_vungle_installs', u'delivery_frequency_cap'), (u'device_language', 'publisher_app_store_id', u'n_campaign_views'), (u'device_language', 'publisher_app_store_id', u'n_vungle_installs'), (u'device_language', 'publisher_app_store_id', u'delivery_frequency_cap'), (u'device_language', u'n_campaign_views', u'n_vungle_installs'), (u'device_language', u'n_campaign_views', u'delivery_frequency_cap'), (u'device_language', u'n_vungle_installs', u'delivery_frequency_cap'), ('publisher_app_store_id', u'n_campaign_views', u'n_vungle_installs'), ('publisher_app_store_id', u'n_campaign_views', u'delivery_frequency_cap'), ('publisher_app_store_id', u'n_vungle_installs', u'delivery_frequency_cap'), (u'n_campaign_views', u'n_vungle_installs', u'delivery_frequency_cap'), ('advertiser_app_store_id', 'country_code', u'device_language', 'publisher_app_store_id'), ('advertiser_app_store_id', 'country_code', u'device_language', u'n_campaign_views'), ('advertiser_app_store_id', 'country_code', u'device_language', u'n_vungle_installs'), ('advertiser_app_store_id', 'country_code', u'device_language', u'delivery_frequency_cap'), ('advertiser_app_store_id', 'country_code', 'publisher_app_store_id', u'n_campaign_views'), ('advertiser_app_store_id', 'country_code', 'publisher_app_store_id', u'n_vungle_installs'), ('advertiser_app_store_id', 'country_code', 'publisher_app_store_id', u'delivery_frequency_cap'), ('advertiser_app_store_id', 'country_code', u'n_campaign_views', u'n_vungle_installs'), ('advertiser_app_store_id', 'country_code', u'n_campaign_views', u'delivery_frequency_cap'), ('advertiser_app_store_id', 'country_code', u'n_vungle_installs', u'delivery_frequency_cap'), ('advertiser_app_store_id', u'device_language', 'publisher_app_store_id', u'n_campaign_views'), ('advertiser_app_store_id', u'device_language', 'publisher_app_store_id', u'n_vungle_installs'), ('advertiser_app_store_id', u'device_language', 'publisher_app_store_id', u'delivery_frequency_cap'), ('advertiser_app_store_id', u'device_language', u'n_campaign_views', u'n_vungle_installs'), ('advertiser_app_store_id', u'device_language', u'n_campaign_views', u'delivery_frequency_cap'), ('advertiser_app_store_id', u'device_language', u'n_vungle_installs', u'delivery_frequency_cap'), ('advertiser_app_store_id', 'publisher_app_store_id', u'n_campaign_views', u'n_vungle_installs'), ('advertiser_app_store_id', 'publisher_app_store_id', u'n_campaign_views', u'delivery_frequency_cap'), ('advertiser_app_store_id', 'publisher_app_store_id', u'n_vungle_installs', u'delivery_frequency_cap'), ('advertiser_app_store_id', u'n_campaign_views', u'n_vungle_installs', u'delivery_frequency_cap'), ('country_code', u'device_language', 'publisher_app_store_id', u'n_campaign_views'), ('country_code', u'device_language', 'publisher_app_store_id', u'n_vungle_installs'), ('country_code', u'device_language', 'publisher_app_store_id', u'delivery_frequency_cap'), ('country_code', u'device_language', u'n_campaign_views', u'n_vungle_installs'), ('country_code', u'device_language', u'n_campaign_views', u'delivery_frequency_cap'), ('country_code', u'device_language', u'n_vungle_installs', u'delivery_frequency_cap'), ('country_code', 'publisher_app_store_id', u'n_campaign_views', u'n_vungle_installs'), ('country_code', 'publisher_app_store_id', u'n_campaign_views', u'delivery_frequency_cap'), ('country_code', 'publisher_app_store_id', u'n_vungle_installs', u'delivery_frequency_cap'), ('country_code', u'n_campaign_views', u'n_vungle_installs', u'delivery_frequency_cap'), (u'device_language', 'publisher_app_store_id', u'n_campaign_views', u'n_vungle_installs'), (u'device_language', 'publisher_app_store_id', u'n_campaign_views', u'delivery_frequency_cap'), (u'device_language', 'publisher_app_store_id', u'n_vungle_installs', u'delivery_frequency_cap'), (u'device_language', u'n_campaign_views', u'n_vungle_installs', u'delivery_frequency_cap'), ('publisher_app_store_id', u'n_campaign_views', u'n_vungle_installs', u'delivery_frequency_cap'), ('advertiser_app_store_id', 'country_code', u'device_language', 'publisher_app_store_id', u'n_campaign_views'), ('advertiser_app_store_id', 'country_code', u'device_language', 'publisher_app_store_id', u'n_vungle_installs'), ('advertiser_app_store_id', 'country_code', u'device_language', 'publisher_app_store_id', u'delivery_frequency_cap'), ('advertiser_app_store_id', 'country_code', u'device_language', u'n_campaign_views', u'n_vungle_installs'), ('advertiser_app_store_id', 'country_code', u'device_language', u'n_campaign_views', u'delivery_frequency_cap'), ('advertiser_app_store_id', 'country_code', u'device_language', u'n_vungle_installs', u'delivery_frequency_cap'), ('advertiser_app_store_id', 'country_code', 'publisher_app_store_id', u'n_campaign_views', u'n_vungle_installs'), ('advertiser_app_store_id', 'country_code', 'publisher_app_store_id', u'n_campaign_views', u'delivery_frequency_cap'), ('advertiser_app_store_id', 'country_code', 'publisher_app_store_id', u'n_vungle_installs', u'delivery_frequency_cap'), ('advertiser_app_store_id', 'country_code', u'n_campaign_views', u'n_vungle_installs', u'delivery_frequency_cap'), ('advertiser_app_store_id', u'device_language', 'publisher_app_store_id', u'n_campaign_views', u'n_vungle_installs'), ('advertiser_app_store_id', u'device_language', 'publisher_app_store_id', u'n_campaign_views', u'delivery_frequency_cap'), ('advertiser_app_store_id', u'device_language', 'publisher_app_store_id', u'n_vungle_installs', u'delivery_frequency_cap'), ('advertiser_app_store_id', u'device_language', u'n_campaign_views', u'n_vungle_installs', u'delivery_frequency_cap'), ('advertiser_app_store_id', 'publisher_app_store_id', u'n_campaign_views', u'n_vungle_installs', u'delivery_frequency_cap'), ('country_code', u'device_language', 'publisher_app_store_id', u'n_campaign_views', u'n_vungle_installs'), ('country_code', u'device_language', 'publisher_app_store_id', u'n_campaign_views', u'delivery_frequency_cap'), ('country_code', u'device_language', 'publisher_app_store_id', u'n_vungle_installs', u'delivery_frequency_cap'), ('country_code', u'device_language', u'n_campaign_views', u'n_vungle_installs', u'delivery_frequency_cap'), ('country_code', 'publisher_app_store_id', u'n_campaign_views', u'n_vungle_installs', u'delivery_frequency_cap'), (u'device_language', 'publisher_app_store_id', u'n_campaign_views', u'n_vungle_installs', u'delivery_frequency_cap'), ('advertiser_app_store_id', 'country_code', u'device_language', 'publisher_app_store_id', u'n_campaign_views', u'n_vungle_installs'), ('advertiser_app_store_id', 'country_code', u'device_language', 'publisher_app_store_id', u'n_campaign_views', u'delivery_frequency_cap'), ('advertiser_app_store_id', 'country_code', u'device_language', 'publisher_app_store_id', u'n_vungle_installs', u'delivery_frequency_cap'), ('advertiser_app_store_id', 'country_code', u'device_language', u'n_campaign_views', u'n_vungle_installs', u'delivery_frequency_cap'), ('advertiser_app_store_id', 'country_code', 'publisher_app_store_id', u'n_campaign_views', u'n_vungle_installs', u'delivery_frequency_cap'), ('advertiser_app_store_id', u'device_language', 'publisher_app_store_id', u'n_campaign_views', u'n_vungle_installs', u'delivery_frequency_cap'), ('country_code', u'device_language', 'publisher_app_store_id', u'n_campaign_views', u'n_vungle_installs', u'delivery_frequency_cap'), ('advertiser_app_store_id', 'country_code', u'device_language', 'publisher_app_store_id', u'n_campaign_views', u'n_vungle_installs', u'delivery_frequency_cap')]\n"
     ]
    }
   ],
   "source": [
    "\n",
    "base_model = ['advertiser_app_store_id', 'country_code',u'device_language', 'publisher_app_store_id', \n",
    " 'n_user_ratings','user_rating',u'n_campaign_views', u'n_vungle_installs',\n",
    " u'delivery_frequency_cap','time_to_show_countdown',u'supported_devices',  u'device_platform',\n",
    " u'is_streaming']\n",
    "#### do not use all the interaction terms!!! put them into smaller bins\n",
    "inter1=['advertiser_app_store_id', 'country_code',u'device_language', 'publisher_app_store_id']\n",
    "#inter2= ['n_user_ratings', 'user_rating','time_to_show_countdown']\n",
    "inter3= [ u'n_campaign_views', u'n_vungle_installs', u'delivery_frequency_cap']\n",
    "#inter4= [u'supported_devices',  u'device_platform']\n",
    "interaction= combo(inter1) # +combo(inter2)+combo(inter3)+combo(inter4)\n",
    "yX = yX_train[['is_install']+base_model].copy()\n",
    "yX.n_user_ratings = yX.n_user_ratings.astype(str).apply(lambda x: len(x))\n",
    "b = convert_to_unknown(yX,base_model)\n",
    "b = convert_to_string(b,base_model)\n",
    "print '------base model-------'\n",
    "print base_model\n",
    "print '------interaction-----'\n",
    "print interaction\n",
    "model_selection_fun(b,base_model,interaction )"
   ]
  },
  {
   "cell_type": "markdown",
   "metadata": {},
   "source": [
    "#### Run this when you trying to randomly pick parameters"
   ]
  },
  {
   "cell_type": "code",
   "execution_count": null,
   "metadata": {
    "collapsed": false,
    "scrolled": true
   },
   "outputs": [
    {
     "name": "stdout",
     "output_type": "stream",
     "text": [
      "------base model-------\n",
      "['advertiser_app_store_id', 'country_code', 'publisher_app_store_id', u'city', u'device_language', 'user_rating', u'delivery_frequency_cap', u'is_streaming', u'n_campaign_views', u'n_vungle_installs']\n",
      "------interaction-----\n",
      "[('advertiser_app_store_id', 'publisher_app_store_id', u'city', u'device_language', 'user_rating', u'delivery_frequency_cap', u'is_streaming', u'n_campaign_views', u'n_vungle_installs'), ('publisher_app_store_id', u'city', u'device_language', u'delivery_frequency_cap', u'is_streaming', u'n_vungle_installs'), ('advertiser_app_store_id', 'country_code', 'publisher_app_store_id', u'city', u'delivery_frequency_cap', u'is_streaming'), ('advertiser_app_store_id', 'publisher_app_store_id', u'city', u'device_language', u'n_campaign_views', u'n_vungle_installs'), (u'device_language', 'user_rating', u'delivery_frequency_cap', u'n_campaign_views', u'n_vungle_installs'), ('publisher_app_store_id', u'city', u'device_language', u'n_campaign_views'), ('publisher_app_store_id', u'delivery_frequency_cap', u'is_streaming', u'n_campaign_views'), ('country_code', u'device_language', u'delivery_frequency_cap', u'is_streaming', u'n_vungle_installs'), (u'city', 'user_rating', u'n_vungle_installs'), ('advertiser_app_store_id', 'country_code', u'city', u'delivery_frequency_cap'), ('advertiser_app_store_id', 'publisher_app_store_id', 'country_code'), ('advertiser_app_store_id', 'publisher_app_store_id'), ('advertiser_app_store_id', 'country_code'), ('publisher_app_store_id', 'country_code'), (u'city', u'device_language'), (u'city', 'user_rating'), (u'device_language', 'user_rating'), (u'city', u'device_language', 'user_rating'), (u'delivery_frequency_cap', u'is_streaming'), (u'n_campaign_views', u'n_vungle_installs')]\n",
      "Train Regression Model\n",
      "Log Loss (Train): 0.368616\n",
      "AUC (Train): 0.830995\n",
      "Log Loss (Test): 0.392927\n",
      "AUC (Test): 0.796477\n",
      "------base model-------\n",
      "['advertiser_app_store_id', 'country_code', 'publisher_app_store_id', 'n_user_ratings', u'supported_devices', 'time_to_show_countdown', u'device_platform', u'is_streaming', u'n_campaign_views', u'n_vungle_installs']\n",
      "------interaction-----\n",
      "[('publisher_app_store_id', u'supported_devices', 'time_to_show_countdown', u'device_platform', u'is_streaming', u'n_campaign_views', u'n_vungle_installs'), ('publisher_app_store_id', 'n_user_ratings', u'n_campaign_views'), ('advertiser_app_store_id', 'publisher_app_store_id', 'n_user_ratings', u'supported_devices', 'time_to_show_countdown', u'device_platform', u'n_campaign_views', u'n_vungle_installs'), ('country_code', 'time_to_show_countdown', u'n_vungle_installs'), ('advertiser_app_store_id', 'publisher_app_store_id', 'n_user_ratings', u'supported_devices', 'time_to_show_countdown', u'is_streaming'), ('advertiser_app_store_id', 'publisher_app_store_id', u'supported_devices', 'time_to_show_countdown'), ('country_code', 'publisher_app_store_id', u'supported_devices', u'device_platform', u'is_streaming', u'n_vungle_installs'), ('advertiser_app_store_id', 'n_user_ratings', u'is_streaming'), ('publisher_app_store_id', 'n_user_ratings', u'supported_devices', 'time_to_show_countdown', u'is_streaming'), ('country_code', 'n_user_ratings', u'n_vungle_installs'), ('advertiser_app_store_id', 'publisher_app_store_id', 'country_code'), ('advertiser_app_store_id', 'publisher_app_store_id'), ('advertiser_app_store_id', 'country_code'), ('publisher_app_store_id', 'country_code'), ('n_user_ratings', u'supported_devices'), ('n_user_ratings', 'time_to_show_countdown'), (u'supported_devices', 'time_to_show_countdown'), ('n_user_ratings', u'supported_devices', 'time_to_show_countdown'), (u'device_platform', u'is_streaming'), (u'n_campaign_views', u'n_vungle_installs')]\n",
      "Train Regression Model\n",
      "Log Loss (Train): 0.367775\n",
      "AUC (Train): 0.831949\n",
      "Log Loss (Test): 0.392150\n",
      "AUC (Test): 0.797757\n",
      "------base model-------\n",
      "['advertiser_app_store_id', 'country_code', 'publisher_app_store_id', u'device_make', u'time_zone', u'platform', u'is_publisher', u'primary_category', u'n_campaign_views', u'n_vungle_installs']\n",
      "------interaction-----\n",
      "[('country_code', u'device_make', u'primary_category', u'n_vungle_installs'), ('advertiser_app_store_id', u'device_make', u'platform', u'is_publisher', u'n_campaign_views', u'n_vungle_installs'), ('country_code', 'publisher_app_store_id', u'primary_category', u'n_campaign_views', u'n_vungle_installs'), ('publisher_app_store_id', u'device_make', u'time_zone', u'is_publisher'), ('advertiser_app_store_id', 'country_code', 'publisher_app_store_id', u'platform', u'n_vungle_installs'), ('advertiser_app_store_id', 'country_code', u'time_zone', u'is_publisher', u'n_campaign_views'), ('advertiser_app_store_id', u'time_zone', u'is_publisher', u'n_vungle_installs'), ('country_code', 'publisher_app_store_id', u'device_make', u'time_zone', u'platform', u'n_campaign_views'), (u'device_make', u'is_publisher', u'primary_category', u'n_campaign_views'), ('advertiser_app_store_id', 'country_code', 'publisher_app_store_id', u'platform', u'is_publisher', u'primary_category', u'n_campaign_views', u'n_vungle_installs'), ('advertiser_app_store_id', 'publisher_app_store_id', 'country_code'), ('advertiser_app_store_id', 'publisher_app_store_id'), ('advertiser_app_store_id', 'country_code'), ('publisher_app_store_id', 'country_code'), (u'device_make', u'time_zone'), (u'device_make', u'platform'), (u'time_zone', u'platform'), (u'device_make', u'time_zone', u'platform'), (u'is_publisher', u'primary_category'), (u'n_campaign_views', u'n_vungle_installs')]\n",
      "Train Regression Model\n"
     ]
    }
   ],
   "source": [
    "sample_interact= [ ('advertiser_app_store_id', 'publisher_app_store_id', 'country_code'),\n",
    "               ('advertiser_app_store_id', 'publisher_app_store_id'),\n",
    "               ('advertiser_app_store_id', 'country_code'),('publisher_app_store_id', 'country_code')]\n",
    "for i in range(20):\n",
    "    ran,med,good,r,m,g = choice()\n",
    "    base_model = ['advertiser_app_store_id','country_code','publisher_app_store_id']+ran+med+good\n",
    "    interactions = combo(base_model)  \n",
    "    yX = yX_train[['is_install']+base_model].copy()\n",
    "    b = convert_to_unknown(yX,base_model)\n",
    "    b = convert_to_string(b,base_model)\n",
    "    print '------base model-------'\n",
    "    print base_model\n",
    "    interaction=random.sample(interactions,len(interactions)//100)\n",
    "    interaction = interaction+ [i for i in sample_interact if i not in interaction]\n",
    "    interaction = interaction+ [i for i in r if i not in interaction]\n",
    "    interaction = interaction+ [i for i in m if i not in interaction]\n",
    "    interaction = interaction+ [i for i in g if i not in interaction]\n",
    "    print '------interaction-----'\n",
    "    print interaction\n",
    "    model_selection_fun(b,base_model,interaction )\n"
   ]
  },
  {
   "cell_type": "code",
   "execution_count": 36,
   "metadata": {
    "collapsed": false
   },
   "outputs": [],
   "source": [
    "#base_model = ['advertiser_app_store_id','country_code','publisher_app_store_id']\n",
    "#string_list=[[ u'time_of_last_delivery_this_campaign',u'device_make',u'device_model',u'device_os_version',u'n_campaign_views', u'n_vungle_installs']]\n",
    "for string in string_list:\n",
    "    base_model = ['advertiser_app_store_id','country_code','publisher_app_store_id']+[string]\n",
    "    yX = yX_train[['is_install']+base_model].copy()\n",
    "    b = convert_to_unknown(yX,base_model)\n",
    "    b = convert_to_string(yX,base_model)\n",
    "    print base_model\n",
    "    model_selection_fun(b,base_model,[])\n"
   ]
  },
  {
   "cell_type": "markdown",
   "metadata": {
    "collapsed": true
   },
   "source": [
    "#transaction data\n",
    "string_list =[ u'device_language', u'device_make', u'device_model',\n",
    "       u'device_platform', u'device_connection', u'device_os_version', u'event_id', u'n_campaign_views',\n",
    "              u'n_vungle_installs', u'time_of_last_delivery_this_campaign',\n",
    "             u'time_zone',u'market_id',u'is_publisher', u'platform',u'is_streaming', u'cloudux_template_id']"
   ]
  },
  {
   "cell_type": "markdown",
   "metadata": {},
   "source": [
    "['advertiser_app_store_id', 'country_code', 'publisher_app_store_id', u'time_of_last_delivery_this_campaign', u'device_make', u'device_model', u'device_os_version', u'n_campaign_views', u'n_vungle_installs']  \n",
    "Train Regression Model   \n",
    "Log Loss (Train): 0.396761  \n",
    "AUC (Train): 0.790704  \n",
    "Log Loss (Test): 0.398367  \n",
    "AUC (Test): 0.789067  \n",
    "**['advertiser_app_store_id', 'country_code', 'publisher_app_store_id', u'n_campaign_views']   \n",
    "Log Loss (Train): 0.403693  \n",
    "AUC (Train): 0.780206    \n",
    "Log Loss (Test): 0.405053  \n",
    "AUC (Test): 0.778919  \n",
    "['advertiser_app_store_id', 'country_code', 'publisher_app_store_id', u'n_vungle_installs']    \n",
    "Log Loss (Train): 0.407603  \n",
    "AUC (Train): 0.774281  \n",
    "Log Loss (Test): 0.409066  \n",
    "AUC (Test): 0.772736  \n",
    "['advertiser_app_store_id', 'country_code', 'publisher_app_store_id', u'time_of_last_delivery_this_campaign']   \n",
    "Log Loss (Train): 0.409217  \n",
    "AUC (Train): 0.771295  \n",
    "Log Loss (Test): 0.410794  \n",
    "AUC (Test): 0.769634 \n",
    "['advertiser_app_store_id', 'country_code', 'publisher_app_store_id', u'device_os_version']    \n",
    "Log Loss (Train): 0.409170  \n",
    "AUC (Train): 0.771266  \n",
    "Log Loss (Test): 0.410792  \n",
    "AUC (Test): 0.769447**  \n",
    "['advertiser_app_store_id', 'country_code', 'publisher_app_store_id', u'device_language']  \n",
    "Log Loss (Train): 0.410969  \n",
    "AUC (Train): 0.768606  \n",
    "Log Loss (Test): 0.412586  \n",
    "AUC (Test): 0.766808   \n",
    "['advertiser_app_store_id', 'country_code', 'publisher_app_store_id', u'device_make']   \n",
    "Log Loss (Train): 0.410095  \n",
    "AUC (Train): 0.769943  \n",
    "Log Loss (Test): 0.411738  \n",
    "AUC (Test): 0.768131  \n",
    "['advertiser_app_store_id', 'country_code', 'publisher_app_store_id', u'device_model']  \n",
    "Log Loss (Train): 0.409752  \n",
    "AUC (Train): 0.770506  \n",
    "Log Loss (Test): 0.411509  \n",
    "AUC (Test): 0.768511  \n",
    "['advertiser_app_store_id', 'country_code', 'publisher_app_store_id', u'device_platform']   \n",
    "Log Loss (Train): 0.411087  \n",
    "AUC (Train): 0.768389  \n",
    "Log Loss (Test): 0.412720  \n",
    "AUC (Test): 0.766588  \n",
    "['advertiser_app_store_id', 'country_code', 'publisher_app_store_id', u'device_connection']     \n",
    "Log Loss (Train): 0.411073  \n",
    "AUC (Train): 0.768410   \n",
    "Log Loss (Test): 0.412701  \n",
    "AUC (Test): 0.766619   \n",
    "['advertiser_app_store_id', 'country_code', 'publisher_app_store_id', u'event_id']   \n",
    "Log Loss (Train): 0.411265  \n",
    "AUC (Train): 0.768127  \n",
    "Log Loss (Test): 0.412959  \n",
    "AUC (Test): 0.766197     \n",
    "['advertiser_app_store_id', 'country_code', 'publisher_app_store_id', u'time_zone']    \n",
    "Log Loss (Train): 0.410875  \n",
    "AUC (Train): 0.768709  \n",
    "Log Loss (Test): 0.412487  \n",
    "AUC (Test): 0.766931  \n",
    "['advertiser_app_store_id', 'country_code', 'publisher_app_store_id', u'market_id']   \n",
    "Log Loss (Train): 0.410963  \n",
    "AUC (Train): 0.768581  \n",
    "Log Loss (Test): 0.412638  \n",
    "AUC (Test): 0.766701  \n",
    "['advertiser_app_store_id', 'country_code', 'publisher_app_store_id', u'is_publisher']  \n",
    "Log Loss (Train): 0.411075  \n",
    "AUC (Train): 0.768409  \n",
    "Log Loss (Test): 0.412710   \n",
    "AUC (Test): 0.766604   \n",
    "['advertiser_app_store_id', 'country_code', 'publisher_app_store_id', u'platform']  \n",
    "Log Loss (Train): 0.411088  \n",
    "AUC (Train): 0.768387  \n",
    "Log Loss (Test): 0.412721  \n",
    "AUC (Test): 0.766586  \n",
    "['advertiser_app_store_id', 'country_code', 'publisher_app_store_id', u'is_streaming']    \n",
    "Log Loss (Train): 0.411092  \n",
    "AUC (Train): 0.768378  \n",
    "Log Loss (Test): 0.412730  \n",
    "AUC (Test): 0.766564  \n",
    "['advertiser_app_store_id', 'country_code', 'publisher_app_store_id', u'cloudux_template_id']    \n",
    "Log Loss (Train): 0.411072  \n",
    "AUC (Train): 0.768420  \n",
    "Log Loss (Test): 0.412706  \n",
    "AUC (Test): 0.766600  "
   ]
  },
  {
   "cell_type": "markdown",
   "metadata": {},
   "source": [
    "### Meta data\n",
    "['advertiser_app_store_id', 'country_code', 'publisher_app_store_id', 'supported_devices']\n",
    "Train Regression Model\n",
    "Log Loss (Train): 0.410917\n",
    "AUC (Train): 0.768549\n",
    "Log Loss (Test): 0.412878\n",
    "AUC (Test): 0.765728\n",
    "['advertiser_app_store_id', 'country_code', 'publisher_app_store_id', 'package_name']\n",
    "Train Regression Model\n",
    "Log Loss (Train): 0.410843\n",
    "AUC (Train): 0.768669\n",
    "Log Loss (Test): 0.412803\n",
    "AUC (Test): 0.765849\n",
    "['advertiser_app_store_id', 'country_code', 'publisher_app_store_id', 'title']\n",
    "Train Regression Model\n",
    "Log Loss (Train): 0.410814\n",
    "AUC (Train): 0.768716\n",
    "Log Loss (Test): 0.412795\n",
    "AUC (Test): 0.765875\n",
    "['advertiser_app_store_id', 'country_code', 'publisher_app_store_id', 'market_id']\n",
    "Train Regression Model\n",
    "Log Loss (Train): 0.410791\n",
    "AUC (Train): 0.768751\n",
    "Log Loss (Test): 0.412780\n",
    "AUC (Test): 0.765880\n",
    "['advertiser_app_store_id', 'country_code', 'publisher_app_store_id', 'price_currency_code']\n",
    "Train Regression Model\n",
    "Log Loss (Train): 0.410831\n",
    "AUC (Train): 0.768663\n",
    "Log Loss (Test): 0.412764\n",
    "AUC (Test): 0.765916\n",
    "['advertiser_app_store_id', 'country_code', 'publisher_app_store_id', 'content_rating']\n",
    "Train Regression Model\n",
    "Log Loss (Train): 0.410885\n",
    "AUC (Train): 0.768594\n",
    "Log Loss (Test): 0.412847\n",
    "AUC (Test): 0.765785\n",
    "['advertiser_app_store_id', 'country_code', 'publisher_app_store_id', 'version']\n",
    "Train Regression Model\n",
    "Log Loss (Train): 0.410771\n",
    "AUC (Train): 0.768797\n",
    "Log Loss (Test): 0.412738\n",
    "AUC (Test): 0.765960\n",
    "['advertiser_app_store_id', 'country_code', 'publisher_app_store_id', 'min_os_version']\n",
    "Train Regression Model\n",
    "Log Loss (Train): 0.410907\n",
    "AUC (Train): 0.768565\n",
    "Log Loss (Test): 0.412858\n",
    "AUC (Test): 0.765765\n",
    "['advertiser_app_store_id', 'country_code', 'publisher_app_store_id', 'has_in_app_purchases']\n",
    "Train Regression Model\n",
    "Log Loss (Train): 0.410926\n",
    "AUC (Train): 0.768527\n",
    "Log Loss (Test): 0.412896\n",
    "AUC (Test): 0.765689\n",
    "['advertiser_app_store_id', 'country_code', 'publisher_app_store_id', 'primary_category']\n",
    "Train Regression Model\n",
    "Log Loss (Train): 0.410857\n",
    "AUC (Train): 0.768612\n",
    "Log Loss (Test): 0.412797\n",
    "AUC (Test): 0.765855\n",
    "['advertiser_app_store_id', 'country_code', 'publisher_app_store_id', 'developer']\n",
    "Train Regression Model\n",
    "Log Loss (Train): 0.410819\n",
    "AUC (Train): 0.768702\n",
    "Log Loss (Test): 0.412757\n",
    "AUC (Test): 0.765943"
   ]
  },
  {
   "cell_type": "markdown",
   "metadata": {},
   "source": [
    "------base model-------\n",
    "['advertiser_app_store_id', 'country_code', 'publisher_app_store_id', u'has_in_app_purchases', u'device_make', u'time_zone', u'min_os_version', u'version', u'n_vungle_installs', u'time_of_last_delivery_this_campaign']\n",
    "------interaction-----\n",
    "Log Loss (Train): 0.403327\n",
    "AUC (Train): 0.780532\n",
    "Log Loss (Test): 0.405645\n",
    "AUC (Test): 0.777235\n",
    "------base model-------\n",
    "['advertiser_app_store_id', 'country_code', 'publisher_app_store_id', u'package_name', u'device_connection', u'device_language', u'developer', u'supported_devices', 'has_in_app_purchases', u'n_vungle_installs']\n",
    "------interaction-----\n",
    "Log Loss (Train): 0.405387\n",
    "AUC (Train): 0.777427\n",
    "Log Loss (Test): 0.407719\n",
    "AUC (Test): 0.774127\n",
    "\n",
    "------base model-------\n",
    "['advertiser_app_store_id', 'country_code', 'publisher_app_store_id', u'cloudux_template_id', u'city', u'device_platform', u'price_currency_code', u'platform', u'n_campaign_views', u'time_of_last_delivery_this_campaign']\n",
    "------interaction-----\n",
    "Log Loss (Train): 0.402476\n",
    "AUC (Train): 0.782058\n",
    "Log Loss (Test): 0.404968\n",
    "AUC (Test): 0.778481\n",
    "\n",
    "------base model-------\n",
    "['advertiser_app_store_id', 'country_code', 'publisher_app_store_id', u'creative_id', u'device_os_version', u'device_language', u'price_currency_code', u'platform', u'time_of_last_delivery_this_campaign', 'has_in_app_purchases']\n",
    "------interaction-----\n",
    "Log Loss (Train): 0.405729\n",
    "AUC (Train): 0.776576\n",
    "Log Loss (Test): 0.408404\n",
    "AUC (Test): 0.772712\n",
    "\n",
    "u'device_language', u'price_currency_code', u'content_rating', u'primary_category', u'device_platform', u'city', u'device_connection',u'min_os_version', u'time_zone', u'supported_devices'\n",
    "\n",
    "------base model-------\n",
    "['advertiser_app_store_id', 'country_code', 'publisher_app_store_id', u'primary_category', u'device_platform', u'device_language', u'price_currency_code', u'content_rating', u'n_campaign_views', u'n_vungle_installs']\n",
    "------interaction-----\n",
    "[('advertiser_app_store_id', u'primary_category', u'device_language', u'content_rating'), ('advertiser_app_store_id', 'country_code', u'primary_category', u'device_platform', u'device_language', u'n_campaign_views'), ('advertiser_app_store_id', 'country_code', 'publisher_app_store_id', u'device_platform', u'device_language', u'price_currency_code', u'n_campaign_views', u'n_vungle_installs'), (u'primary_category', u'price_currency_code', u'content_rating', u'n_vungle_installs'), ('advertiser_app_store_id', 'country_code', u'device_platform', u'device_language', u'n_campaign_views', u'n_vungle_installs'), ('country_code', 'publisher_app_store_id', u'primary_category', u'device_language', u'price_currency_code', u'n_campaign_views'), ('advertiser_app_store_id', 'publisher_app_store_id', u'device_language', u'price_currency_code', u'n_vungle_installs'), ('advertiser_app_store_id', u'primary_category', u'device_platform', u'device_language', u'price_currency_code', u'content_rating'), ('advertiser_app_store_id', 'publisher_app_store_id', u'device_platform', u'device_language', u'price_currency_code', u'content_rating'), ('publisher_app_store_id', u'device_platform', u'device_language', u'content_rating', u'n_vungle_installs'), ('advertiser_app_store_id', 'publisher_app_store_id', 'country_code'), ('advertiser_app_store_id', 'publisher_app_store_id'), ('advertiser_app_store_id', 'country_code'), ('publisher_app_store_id', 'country_code'), (u'device_platform', u'device_language'), (u'price_currency_code', u'content_rating'), (u'n_campaign_views', u'n_vungle_installs')]\n",
    "Train Regression Model\n",
    "Log Loss (Train): 0.397312\n",
    "AUC (Train): 0.789855\n",
    "Log Loss (Test): 0.399423\n",
    "AUC (Test): 0.786957\n",
    "------base model-------\n",
    "['advertiser_app_store_id', 'country_code', 'publisher_app_store_id', u'primary_category', u'city', u'device_connection', u'platform', u'min_os_version', u'n_vungle_installs', u'n_campaign_views']\n",
    "------interaction-----\n",
    "[('country_code', u'device_connection', u'platform'), ('country_code', 'publisher_app_store_id', u'primary_category', u'platform', u'min_os_version', u'n_vungle_installs'), ('publisher_app_store_id', u'primary_category', u'city', u'min_os_version', u'n_vungle_installs', u'n_campaign_views'), ('publisher_app_store_id', u'city', u'device_connection', u'platform'), ('country_code', u'primary_category', u'city', u'device_connection', u'platform'), (u'primary_category', u'city', u'platform', u'min_os_version', u'n_campaign_views'), ('advertiser_app_store_id', 'country_code', u'device_connection', u'n_vungle_installs'), ('publisher_app_store_id', u'primary_category', u'city', u'min_os_version'), ('publisher_app_store_id', u'device_connection', u'platform', u'n_campaign_views'), ('advertiser_app_store_id', 'publisher_app_store_id', u'primary_category', u'city', u'device_connection', u'platform', u'min_os_version', u'n_vungle_installs'), ('advertiser_app_store_id', 'publisher_app_store_id', 'country_code'), ('advertiser_app_store_id', 'publisher_app_store_id'), ('advertiser_app_store_id', 'country_code'), ('publisher_app_store_id', 'country_code'), (u'city', u'device_connection'), (u'platform', u'min_os_version'), (u'n_vungle_installs', u'n_campaign_views')]\n",
    "Train Regression Model\n",
    "Log Loss (Train): 0.396940\n",
    "AUC (Train): 0.790451\n",
    "Log Loss (Test): 0.399244\n",
    "AUC (Test): 0.787345\n",
    "\n",
    "\n",
    "\n",
    "------base model-------\n",
    "['advertiser_app_store_id', 'country_code', 'publisher_app_store_id', u'creative_id', u'time_zone', u'city', 'primary_category', u'supported_devices', u'n_vungle_installs', u'n_campaign_views']\n",
    "------interaction-----\n",
    "[('country_code', 'publisher_app_store_id', u'time_zone', u'city', 'primary_category', u'supported_devices'), (u'city', 'primary_category'), ('advertiser_app_store_id', 'country_code', u'creative_id', u'time_zone', u'city', 'primary_category', u'supported_devices'), ('advertiser_app_store_id', 'country_code', 'publisher_app_store_id', u'time_zone', 'primary_category', u'supported_devices', u'n_vungle_installs', u'n_campaign_views'), ('advertiser_app_store_id', u'city', 'primary_category', u'supported_devices', u'n_vungle_installs', u'n_campaign_views'), ('advertiser_app_store_id', 'country_code', 'publisher_app_store_id', u'creative_id', u'city', 'primary_category', u'supported_devices', u'n_vungle_installs', u'n_campaign_views'), (u'time_zone', 'primary_category', u'n_vungle_installs'), ('advertiser_app_store_id', 'publisher_app_store_id', u'creative_id', u'time_zone', 'primary_category', u'supported_devices', u'n_vungle_installs'), ('publisher_app_store_id', u'time_zone', u'city', u'supported_devices', u'n_campaign_views'), ('advertiser_app_store_id', 'publisher_app_store_id', u'time_zone', 'primary_category', u'supported_devices'), ('advertiser_app_store_id', 'publisher_app_store_id', 'country_code'), ('advertiser_app_store_id', 'publisher_app_store_id'), ('advertiser_app_store_id', 'country_code'), ('publisher_app_store_id', 'country_code'), (u'time_zone', u'city'), ('primary_category', u'supported_devices'), (u'n_vungle_installs', u'n_campaign_views')]\n",
    "Train Regression Model\n",
    "Log Loss (Train): 0.397917\n",
    "AUC (Train): 0.788977\n",
    "Log Loss (Test): 0.400062\n",
    "AUC (Test): 0.786129\n",
    "\n",
    "------base model-------\n",
    "['advertiser_app_store_id', 'country_code', 'publisher_app_store_id', u'has_in_app_purchases', u'device_model', u'device_os_version', u'supported_devices', u'platform', u'n_campaign_views', u'n_vungle_installs']\n",
    "------interaction-----\n",
    "[(u'device_model', u'device_os_version', u'supported_devices', u'platform', u'n_vungle_installs'), ('country_code', 'publisher_app_store_id', u'device_model', u'device_os_version', u'n_campaign_views', u'n_vungle_installs'), ('advertiser_app_store_id', 'country_code', 'publisher_app_store_id', u'supported_devices', u'n_campaign_views'), ('advertiser_app_store_id', u'has_in_app_purchases', u'device_os_version', u'supported_devices', u'n_campaign_views', u'n_vungle_installs'), ('country_code', 'publisher_app_store_id', u'platform', u'n_campaign_views', u'n_vungle_installs'), ('advertiser_app_store_id', 'country_code', 'publisher_app_store_id', u'device_model', u'device_os_version', u'supported_devices', u'n_vungle_installs'), (u'has_in_app_purchases', u'device_model', u'n_campaign_views'), ('advertiser_app_store_id', 'publisher_app_store_id', u'has_in_app_purchases', u'device_model', u'supported_devices', u'platform', u'n_campaign_views', u'n_vungle_installs'), ('publisher_app_store_id', u'device_model', u'device_os_version', u'platform'), ('advertiser_app_store_id', 'country_code', 'publisher_app_store_id', u'device_os_version', u'n_vungle_installs'), ('advertiser_app_store_id', 'publisher_app_store_id', 'country_code'), ('advertiser_app_store_id', 'publisher_app_store_id'), ('advertiser_app_store_id', 'country_code'), ('publisher_app_store_id', 'country_code'), (u'device_model', u'device_os_version'), (u'supported_devices', u'platform'), (u'n_campaign_views', u'n_vungle_installs')]\n",
    "Train Regression Model\n",
    "Log Loss (Train): 0.396747\n",
    "AUC (Train): 0.790555\n",
    "Log Loss (Test): 0.399107\n",
    "AUC (Test): 0.787199\n"
   ]
  },
  {
   "cell_type": "code",
   "execution_count": null,
   "metadata": {
    "collapsed": true
   },
   "outputs": [],
   "source": [
    "\n",
    "yX = yX_train[['is_install']+numerical_list+string_list].copy()\n"
   ]
  },
  {
   "cell_type": "code",
   "execution_count": 28,
   "metadata": {
    "collapsed": false
   },
   "outputs": [
    {
     "name": "stdout",
     "output_type": "stream",
     "text": [
      "df copied\n",
      "filled na\n",
      "converted to unknown\n"
     ]
    }
   ],
   "source": [
    "#clean data\n",
    "b = preprocessing_data(yX,numerical_list,string_list)"
   ]
  },
  {
   "cell_type": "code",
   "execution_count": 29,
   "metadata": {
    "collapsed": false
   },
   "outputs": [
    {
     "data": {
      "text/plain": [
       "is_install                                 False\n",
       "time_delta_updated                         False\n",
       "device_screen_width                        False\n",
       "n_user_ratings                             False\n",
       "price_value                                False\n",
       "n_vungle_installs                          False\n",
       "n_campaign_views                           False\n",
       "n_min_downloads                            False\n",
       "delivery_frequency_cap                     False\n",
       "advertiser_app_store_id                    False\n",
       "country_code                               False\n",
       "publisher_app_store_id                     False\n",
       "time_of_last_delivery_any_installed_app    False\n",
       "is_publisher                               False\n",
       "is_streaming                               False\n",
       "dtype: bool"
      ]
     },
     "execution_count": 29,
     "metadata": {},
     "output_type": "execute_result"
    }
   ],
   "source": [
    "b.isnull().any()"
   ]
  },
  {
   "cell_type": "code",
   "execution_count": 47,
   "metadata": {
    "collapsed": true
   },
   "outputs": [],
   "source": [
    "def logistic_model(X_train, y_train):\n",
    "    logistic = LogisticRegression(C=1.0,penalty='l1')\n",
    "    #svd = TruncatedSVD()\n",
    "    #X_reduced = svd.fit_transform(X_train)\n",
    "    #print X_reduced.shape\n",
    "    #pipe = Pipeline(steps=[('svd', svd), ('logistic', logistic)])\n",
    "    #n_components = [64,300,500,1000]\n",
    "    #Cs = np.logspace(-4, 4, 3)\n",
    "\n",
    "    #Parameters of pipelines can be set using ‘__’ separated parameter names:\n",
    "\n",
    "    estimator = GridSearchCV(pipe,\n",
    "                             dict(svd__n_components=n_components),\n",
    "                            scoring='log_loss')\n",
    "    estimator.fit(X_train, y_train)\n",
    "    return estimator"
   ]
  },
  {
   "cell_type": "code",
   "execution_count": 24,
   "metadata": {
    "collapsed": false
   },
   "outputs": [
    {
     "data": {
      "text/plain": [
       "['time_delta_updated',\n",
       " 'device_screen_width',\n",
       " 'n_user_ratings',\n",
       " 'price_value',\n",
       " 'n_vungle_installs',\n",
       " 'n_campaign_views',\n",
       " 'n_min_downloads',\n",
       " 'delivery_frequency_cap']"
      ]
     },
     "execution_count": 24,
     "metadata": {},
     "output_type": "execute_result"
    }
   ],
   "source": [
    "numerical_list\n"
   ]
  },
  {
   "cell_type": "code",
   "execution_count": 25,
   "metadata": {
    "collapsed": false
   },
   "outputs": [
    {
     "data": {
      "text/plain": [
       "['advertiser_app_store_id',\n",
       " 'country_code',\n",
       " 'publisher_app_store_id',\n",
       " 'time_of_last_delivery_any_installed_app',\n",
       " 'device_connection',\n",
       " 'is_publisher',\n",
       " 'is_streaming',\n",
       " 'cloudux_template_id']"
      ]
     },
     "execution_count": 25,
     "metadata": {},
     "output_type": "execute_result"
    }
   ],
   "source": [
    "string_list"
   ]
  },
  {
   "cell_type": "code",
   "execution_count": 20,
   "metadata": {
    "collapsed": false
   },
   "outputs": [],
   "source": [
    "\n",
    "cont_features_pc = numerical_list\n",
    "cat_interactions_pc = [     ('advertiser_app_store_id', 'publisher_app_store_id', 'country_code'),\n",
    "     ('advertiser_app_store_id', 'publisher_app_store_id'),\n",
    "     ('advertiser_app_store_id', 'country_code'),\n",
    "     ('publisher_app_store_id', 'country_code')]\n",
    "cat_features_pc =string_list\n",
    "other=[]\n",
    "y=['is_install']\n",
    "train, test = train_test_split(b, test_size=0.2,random_state= 42)  # splitting Train into Train/Test sets\n",
    "X_train, y_train, X_test, y_test = train, train.pop('is_install'), test, test.pop('is_install')\n",
    "    \n",
    "feature_creator = FeatureCreator()\n",
    "design_matrix_transformer = FeatureHasher(18, cat_features_pc, cont_features_pc, cat_interactions_pc, store_fmap=True) # You can experiment with hasher bits (we used 18 here)\n",
    "\n",
    "X_test = feature_creator.transform(X_test, inplace=True)\n",
    "X_test, f_map = design_matrix_transformer.fit_transform(X_test)\n",
    "\n",
    "X_train = feature_creator.transform(X_train, inplace=True)\n",
    "X_train, f_map = design_matrix_transformer.fit_transform(X_train)\n",
    "\n",
    " "
   ]
  },
  {
   "cell_type": "code",
   "execution_count": 18,
   "metadata": {
    "collapsed": false
   },
   "outputs": [
    {
     "data": {
      "text/plain": [
       "(2213785, 262144)"
      ]
     },
     "execution_count": 18,
     "metadata": {},
     "output_type": "execute_result"
    }
   ],
   "source": [
    "X_train.shape"
   ]
  },
  {
   "cell_type": "code",
   "execution_count": 21,
   "metadata": {
    "collapsed": false
   },
   "outputs": [
    {
     "name": "stdout",
     "output_type": "stream",
     "text": [
      "Train Regression Model\n"
     ]
    },
    {
     "name": "stderr",
     "output_type": "stream",
     "text": [
      "/Users/linda/anaconda2/lib/python2.7/site-packages/sklearn/metrics/scorer.py:127: DeprecationWarning: Scoring method log_loss was renamed to neg_log_loss in version 0.18 and will be removed in 0.20.\n",
      "  sample_weight=sample_weight)\n",
      "/Users/linda/anaconda2/lib/python2.7/site-packages/sklearn/metrics/scorer.py:127: DeprecationWarning: Scoring method log_loss was renamed to neg_log_loss in version 0.18 and will be removed in 0.20.\n",
      "  sample_weight=sample_weight)\n",
      "/Users/linda/anaconda2/lib/python2.7/site-packages/sklearn/metrics/scorer.py:127: DeprecationWarning: Scoring method log_loss was renamed to neg_log_loss in version 0.18 and will be removed in 0.20.\n",
      "  sample_weight=sample_weight)\n",
      "/Users/linda/anaconda2/lib/python2.7/site-packages/sklearn/metrics/scorer.py:127: DeprecationWarning: Scoring method log_loss was renamed to neg_log_loss in version 0.18 and will be removed in 0.20.\n",
      "  sample_weight=sample_weight)\n",
      "/Users/linda/anaconda2/lib/python2.7/site-packages/sklearn/metrics/scorer.py:127: DeprecationWarning: Scoring method log_loss was renamed to neg_log_loss in version 0.18 and will be removed in 0.20.\n",
      "  sample_weight=sample_weight)\n",
      "/Users/linda/anaconda2/lib/python2.7/site-packages/sklearn/metrics/scorer.py:127: DeprecationWarning: Scoring method log_loss was renamed to neg_log_loss in version 0.18 and will be removed in 0.20.\n",
      "  sample_weight=sample_weight)\n"
     ]
    },
    {
     "name": "stdout",
     "output_type": "stream",
     "text": [
      "Best parameter:  {'C': 0.05}\n",
      "Log Loss (Validation): -0.404553\n",
      "Log Loss (Train): 0.400862\n",
      "AUC (Train): 0.786799\n",
      "Log Loss (Test): 0.401010\n",
      "AUC (Test): 0.785388\n"
     ]
    }
   ],
   "source": [
    "  \n",
    "logistic_baseline = logistic_model(X_train, y_train)\n",
    "\n",
    "# Calculate prediction/probability of train and test\n",
    "X_train_predictions = logistic_baseline.predict(X_train)\n",
    "X_train_predprob = logistic_baseline.predict_proba(X_train)[:, 1]\n",
    "\n",
    "X_test_predictions = logistic_baseline.predict(X_test)\n",
    "X_test_predprob = logistic_baseline.predict_proba(X_test)[:, 1]\n",
    "\n",
    "\n",
    "# Calculate metrics of train, validation and test set.\n",
    "lr_ll_val = -logistic_baseline.best_score_\n",
    "\n",
    "lr_ll_train = log_loss(y_train, X_train_predprob)\n",
    "lr_auc_train = roc_auc_score(y_train, X_train_predprob)\n",
    "\n",
    "lr_ll_test = log_loss(y_test, X_test_predprob)    \n",
    "lr_auc_test = roc_auc_score(y_test, X_test_predprob)\n",
    "    \n",
    "# Print out the results\n",
    "print \"Best parameter: \", logistic_baseline.best_params_\n",
    "     \n",
    "print \"Log Loss (Validation): %f\" % lr_ll_val\n",
    "\n",
    "print \"Log Loss (Train): %f\" % lr_ll_train\n",
    "print \"AUC (Train): %f\" % lr_auc_train\n",
    "#AUC[i]=lr_ll_test\n",
    "#Log_lost[i]=lr_auc_test\n",
    "print 'Log Loss (Test): %f' % lr_ll_test\n",
    "print 'AUC (Test): %f' % lr_auc_test\n"
   ]
  },
  {
   "cell_type": "code",
   "execution_count": null,
   "metadata": {
    "collapsed": true
   },
   "outputs": [],
   "source": []
  }
 ],
 "metadata": {
  "anaconda-cloud": {},
  "kernelspec": {
   "display_name": "Python [conda root]",
   "language": "python",
   "name": "conda-root-py"
  },
  "language_info": {
   "codemirror_mode": {
    "name": "ipython",
    "version": 2
   },
   "file_extension": ".py",
   "mimetype": "text/x-python",
   "name": "python",
   "nbconvert_exporter": "python",
   "pygments_lexer": "ipython2",
   "version": "2.7.12"
  }
 },
 "nbformat": 4,
 "nbformat_minor": 1
}
