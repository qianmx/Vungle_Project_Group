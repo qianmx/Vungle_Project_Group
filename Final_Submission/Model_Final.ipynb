{
 "cells": [
  {
   "cell_type": "code",
   "execution_count": 1,
   "metadata": {
    "collapsed": false
   },
   "outputs": [
    {
     "name": "stderr",
     "output_type": "stream",
     "text": [
      "/Users/linda/anaconda2/lib/python2.7/site-packages/sklearn/cross_validation.py:44: DeprecationWarning: This module was deprecated in version 0.18 in favor of the model_selection module into which all the refactored classes and functions are moved. Also note that the interface of the new CV iterators are different from that of this module. This module will be removed in 0.20.\n",
      "  \"This module will be removed in 0.20.\", DeprecationWarning)\n",
      "/Users/linda/anaconda2/lib/python2.7/site-packages/sklearn/grid_search.py:43: DeprecationWarning: This module was deprecated in version 0.18 in favor of the model_selection module into which all the refactored classes and functions are moved. This module will be removed in 0.20.\n",
      "  DeprecationWarning)\n"
     ]
    }
   ],
   "source": [
    "import pandas as pd\n",
    "import numpy as np\n",
    "from Merge import *\n",
    "from sklearn.cross_validation import train_test_split\n",
    "from model_builder import *\n",
    "from sklearn.decomposition import TruncatedSVD\n",
    "from sklearn.pipeline import Pipeline"
   ]
  },
  {
   "cell_type": "code",
   "execution_count": 2,
   "metadata": {
    "collapsed": false
   },
   "outputs": [
    {
     "name": "stderr",
     "output_type": "stream",
     "text": [
      "/Users/linda/anaconda2/lib/python2.7/site-packages/IPython/core/interactiveshell.py:2717: DtypeWarning: Columns (15) have mixed types. Specify dtype option on import or set low_memory=False.\n",
      "  interactivity=interactivity, compiler=compiler, result=result)\n"
     ]
    }
   ],
   "source": [
    "#load data\n",
    "yX_train= pd.read_csv('train_All2.csv')\n",
    "\n",
    "test= pd.read_csv('test_All2.csv') \n",
    "\n"
   ]
  },
  {
   "cell_type": "code",
   "execution_count": 3,
   "metadata": {
    "collapsed": true
   },
   "outputs": [],
   "source": [
    "yX_train['is_install'] = yX_train['timestamp_at_install'].notnull() * 1"
   ]
  },
  {
   "cell_type": "code",
   "execution_count": 4,
   "metadata": {
    "collapsed": true
   },
   "outputs": [],
   "source": [
    "yX_train['time_delta'] = pd.to_datetime(yX_train['time_of_this_impression'])-pd.to_datetime(yX_train['created_at'])\n",
    "yX_train['time_delta'] = yX_train['time_delta'].dt.days\n",
    "test['time_delta'] = pd.to_datetime(test['time_of_this_impression'])-pd.to_datetime(test['created_at'])\n",
    "test['time_delta'] = test['time_delta'].dt.days"
   ]
  },
  {
   "cell_type": "code",
   "execution_count": 43,
   "metadata": {
    "collapsed": false
   },
   "outputs": [
    {
     "data": {
      "text/plain": [
       "Index([u'advertiser_app_store_id', u'country_code', u'city', u'campaign_id',\n",
       "       u'creative_id', u'device_language', u'device_make', u'device_model',\n",
       "       u'device_platform', u'device_connection', u'device_os_version',\n",
       "       u'device_screen_height', u'device_screen_width', u'device_volume',\n",
       "       u'event_id', u'n_campaign_views', u'n_vungle_installs',\n",
       "       u'publisher_app_store_id', u'time_of_last_delivery_this_campaign',\n",
       "       u'time_of_last_delivery_this_creative',\n",
       "       u'time_of_last_delivery_any_installed_app',\n",
       "       u'time_of_last_vungle_delivery', u'time_of_this_impression',\n",
       "       u'timestamp_at_install', u'time_of_this_request', u'time_zone',\n",
       "       u'market_id', u'is_publisher', u'platform', u'n_user_ratings',\n",
       "       u'content_rating', u'price_value', u'n_min_downloads',\n",
       "       u'n_max_downloads', u'primary_category', u'created_at',\n",
       "       u'application_id', u'video_id', u'is_streaming',\n",
       "       u'enforce_language_match', u'delivery_frequency_cap',\n",
       "       u'time_to_show_countdown', u'time_to_show_close_button',\n",
       "       u'cloudux_template_id', u'is_install', u'time_delta'],\n",
       "      dtype='object')"
      ]
     },
     "execution_count": 43,
     "metadata": {},
     "output_type": "execute_result"
    }
   ],
   "source": [
    "yX_train.columns"
   ]
  },
  {
   "cell_type": "code",
   "execution_count": 5,
   "metadata": {
    "collapsed": true
   },
   "outputs": [],
   "source": [
    "test.loc[~test.time_of_last_delivery_any_installed_app.isnull(),'time_of_last_delivery_any_installed_app']='t'\n",
    "test.time_of_last_delivery_any_installed_app=test.time_of_last_delivery_any_installed_app.fillna('f')\n",
    "yX_train.loc[~yX_train.time_of_last_delivery_any_installed_app.isnull(),'time_of_last_delivery_any_installed_app']='t'\n",
    "yX_train.time_of_last_delivery_any_installed_app=yX_train.time_of_last_delivery_any_installed_app.fillna('f')"
   ]
  },
  {
   "cell_type": "code",
   "execution_count": 6,
   "metadata": {
    "collapsed": true
   },
   "outputs": [],
   "source": [
    "def model_selection_fun(train,test,mod,interactions):\n",
    "    \n",
    "    #cont_features_pc = []\n",
    "    cat_interactions_pc = interactions\n",
    "    cat_features_pc =mod\n",
    "    X_train, y_train, X_test = train, train.pop('is_install'), test\n",
    "\n",
    "    feature_creator = FeatureCreator()\n",
    "    design_matrix_transformer = FeatureHasher(22, cat_features_pc, None, cat_interactions_pc, store_fmap=True) # You can experiment with hasher bits (we used 18 here)\n",
    "\n",
    "    X_test = feature_creator.transform(X_test, inplace=True)\n",
    "    X_test, f_map = design_matrix_transformer.fit_transform(X_test)\n",
    "\n",
    "    X_train = feature_creator.transform(X_train, inplace=True)\n",
    "    X_train, f_map = design_matrix_transformer.fit_transform(X_train)\n",
    "\n",
    "    logistic_baseline = logistic_model_final(X_train, y_train,0.05)\n",
    "\n",
    "    # Calculate prediction/probability of train and test\n",
    "    X_train_predictions = logistic_baseline.predict(X_train)\n",
    "    X_train_predprob = logistic_baseline.predict_proba(X_train)[:, 1]\n",
    "\n",
    "\n",
    "    X_test_predprob = logistic_baseline.predict_proba(X_test)[:, 1]\n",
    "\n",
    "\n",
    "    # Calculate metrics of train, validation and test set.\n",
    "    #lr_ll_val = -logistic_baseline.best_score_\n",
    "\n",
    "    lr_ll_train = log_loss(y_train, X_train_predprob)\n",
    "    lr_auc_train = roc_auc_score(y_train, X_train_predprob)\n",
    "\n",
    "    \n",
    "    # Print out the results\n",
    "    #print \"Best parameter: \", logistic_baseline.best_params_\n",
    "\n",
    "    #print \"Log Loss (Validation): %f\" % lr_ll_val\n",
    "\n",
    "    print \"Log Loss (Train): %f\" % lr_ll_train\n",
    "    print \"AUC (Train): %f\" % lr_auc_train\n",
    "    return X_train_predprob, X_test_predprob \n"
   ]
  },
  {
   "cell_type": "code",
   "execution_count": 7,
   "metadata": {
    "collapsed": true
   },
   "outputs": [],
   "source": [
    "def logistic_model_final(X_train, y_train,c=0.1):\n",
    "    \"\"\"\n",
    "    use crossvalidation (CV) to report the best parameter 'C'\n",
    "    parameter C: Inverse of regularization strength; must be a positive float. \n",
    "    Check LogisticRegression() in sklearn for more information\n",
    "    \"\"\"\n",
    "    print('Train Regression Model')\n",
    "\n",
    "    model=LogisticRegression(C=c,penalty='l2',solver='sag',n_jobs=-1)\n",
    "\n",
    "    model.fit(X_train, y_train)\n",
    "    return model\n"
   ]
  },
  {
   "cell_type": "code",
   "execution_count": 44,
   "metadata": {
    "collapsed": false
   },
   "outputs": [
    {
     "name": "stdout",
     "output_type": "stream",
     "text": [
      "------base model-------\n",
      "['advertiser_app_store_id', 'country_code', 'publisher_app_store_id', u'time_zone', u'market_id', u'is_publisher', u'platform', u'n_user_ratings', u'content_rating']\n",
      "------interaction-----\n",
      "[('advertiser_app_store_id', 'publisher_app_store_id', 'country_code'), ('advertiser_app_store_id', 'publisher_app_store_id'), ('advertiser_app_store_id', 'country_code')]\n",
      "Train Regression Model\n",
      "Log Loss (Train): 0.380786\n",
      "AUC (Train): 0.793073\n"
     ]
    }
   ],
   "source": [
    "base_model =['advertiser_app_store_id', 'country_code', 'publisher_app_store_id',u'n_campaign_views',\n",
    "       u'device_model', u'n_vungle_installs', u'device_connection', u'device_os_version',u'time_of_last_delivery_this_campaign']\n",
    "\n",
    "interaction=[('device_model', 'publisher_app_store_id'), ('device_model', 'country_code'), \n",
    "('device_model', 'ever_install_flag'), ('device_model', 'device_os_version'), \n",
    "('device_model', 'device_connection'), ('device_model', 'advertiser_app_store_id'),\n",
    "('advertiser_app_store_id', 'publisher_app_store_id', 'country_code'), \n",
    "('advertiser_app_store_id', 'publisher_app_store_id'), ('advertiser_app_store_id', 'country_code'), \n",
    "('device_connection', 'device_os_version'), ('publisher_app_store_id', 'country_code'), \n",
    "('advertiser_app_store_id', 'device_os_version'), ('publisher_app_store_id', 'device_os_version'),\n",
    "(u'device_connection', 'n_vungle_installs'), ('device_connection','time_of_last_delivery_this_campaign'),\n",
    "('country_code', 'device_os_version'), ('n_campaign_views', 'n_vungle_installs')]\n",
    "\n",
    "\n",
    "yX = yX_train[['is_install']+base_model].copy()\n",
    "yY = test[base_model].copy()\n",
    "b = convert_to_unknown(yX,base_model)\n",
    "b = convert_to_string(b,base_model)\n",
    "a = convert_to_unknown(yY,base_model)\n",
    "a = convert_to_string(a,base_model)\n",
    "print '------base model-------'\n",
    "print base_model\n",
    "print '------interaction-----'\n",
    "print interaction\n",
    "y_pred_train,y_pred= model_selection_fun(b,a,base_model,interaction)"
   ]
  },
  {
   "cell_type": "code",
   "execution_count": 45,
   "metadata": {
    "collapsed": false
   },
   "outputs": [],
   "source": [
    "df = pd.DataFrame(y_pred)\n",
    "df_train = pd.DataFrame(y_pred_train)\n"
   ]
  },
  {
   "cell_type": "code",
   "execution_count": 46,
   "metadata": {
    "collapsed": false
   },
   "outputs": [],
   "source": [
    "df['row'] =test.row\n",
    "df_train['y'] = yX_train.is_install"
   ]
  },
  {
   "cell_type": "code",
   "execution_count": 47,
   "metadata": {
    "collapsed": false
   },
   "outputs": [],
   "source": [
    "df.columns=['y','row']\n",
    "df_train.columns = ['prob','y']\n",
    "df=df[['row','y']]"
   ]
  },
  {
   "cell_type": "code",
   "execution_count": 49,
   "metadata": {
    "collapsed": false
   },
   "outputs": [],
   "source": [
    "df.to_csv('prediction_0307_3.csv',index=False)\n",
    "df_train.to_csv('y_trainprediction_0307_3.csv',index=False)"
   ]
  },
  {
   "cell_type": "code",
   "execution_count": 16,
   "metadata": {
    "collapsed": false
   },
   "outputs": [],
   "source": [
    "df=df[['row','y']]"
   ]
  },
  {
   "cell_type": "code",
   "execution_count": 30,
   "metadata": {
    "collapsed": false
   },
   "outputs": [
    {
     "data": {
      "text/html": [
       "<div>\n",
       "<table border=\"1\" class=\"dataframe\">\n",
       "  <thead>\n",
       "    <tr style=\"text-align: right;\">\n",
       "      <th></th>\n",
       "      <th>y</th>\n",
       "      <th>row</th>\n",
       "    </tr>\n",
       "  </thead>\n",
       "  <tbody>\n",
       "    <tr>\n",
       "      <th>0</th>\n",
       "      <td>0.476072</td>\n",
       "      <td>1</td>\n",
       "    </tr>\n",
       "    <tr>\n",
       "      <th>1</th>\n",
       "      <td>0.080354</td>\n",
       "      <td>2</td>\n",
       "    </tr>\n",
       "    <tr>\n",
       "      <th>2</th>\n",
       "      <td>0.179363</td>\n",
       "      <td>3</td>\n",
       "    </tr>\n",
       "    <tr>\n",
       "      <th>3</th>\n",
       "      <td>0.105121</td>\n",
       "      <td>4</td>\n",
       "    </tr>\n",
       "    <tr>\n",
       "      <th>4</th>\n",
       "      <td>0.105527</td>\n",
       "      <td>5</td>\n",
       "    </tr>\n",
       "  </tbody>\n",
       "</table>\n",
       "</div>"
      ],
      "text/plain": [
       "          y  row\n",
       "0  0.476072    1\n",
       "1  0.080354    2\n",
       "2  0.179363    3\n",
       "3  0.105121    4\n",
       "4  0.105527    5"
      ]
     },
     "execution_count": 30,
     "metadata": {},
     "output_type": "execute_result"
    }
   ],
   "source": [
    "df.head()"
   ]
  },
  {
   "cell_type": "code",
   "execution_count": 31,
   "metadata": {
    "collapsed": false
   },
   "outputs": [
    {
     "data": {
      "text/html": [
       "<div>\n",
       "<table border=\"1\" class=\"dataframe\">\n",
       "  <thead>\n",
       "    <tr style=\"text-align: right;\">\n",
       "      <th></th>\n",
       "      <th>prob</th>\n",
       "      <th>y</th>\n",
       "    </tr>\n",
       "  </thead>\n",
       "  <tbody>\n",
       "    <tr>\n",
       "      <th>0</th>\n",
       "      <td>0.596533</td>\n",
       "      <td>0</td>\n",
       "    </tr>\n",
       "    <tr>\n",
       "      <th>1</th>\n",
       "      <td>0.059309</td>\n",
       "      <td>0</td>\n",
       "    </tr>\n",
       "    <tr>\n",
       "      <th>2</th>\n",
       "      <td>0.021290</td>\n",
       "      <td>0</td>\n",
       "    </tr>\n",
       "    <tr>\n",
       "      <th>3</th>\n",
       "      <td>0.187056</td>\n",
       "      <td>0</td>\n",
       "    </tr>\n",
       "    <tr>\n",
       "      <th>4</th>\n",
       "      <td>0.042719</td>\n",
       "      <td>0</td>\n",
       "    </tr>\n",
       "  </tbody>\n",
       "</table>\n",
       "</div>"
      ],
      "text/plain": [
       "       prob  y\n",
       "0  0.596533  0\n",
       "1  0.059309  0\n",
       "2  0.021290  0\n",
       "3  0.187056  0\n",
       "4  0.042719  0"
      ]
     },
     "execution_count": 31,
     "metadata": {},
     "output_type": "execute_result"
    }
   ],
   "source": [
    "df_train.head()\n"
   ]
  },
  {
   "cell_type": "code",
   "execution_count": null,
   "metadata": {
    "collapsed": true
   },
   "outputs": [],
   "source": []
  }
 ],
 "metadata": {
  "anaconda-cloud": {},
  "kernelspec": {
   "display_name": "Python [conda root]",
   "language": "python",
   "name": "conda-root-py"
  },
  "language_info": {
   "codemirror_mode": {
    "name": "ipython",
    "version": 2
   },
   "file_extension": ".py",
   "mimetype": "text/x-python",
   "name": "python",
   "nbconvert_exporter": "python",
   "pygments_lexer": "ipython2",
   "version": "2.7.12"
  }
 },
 "nbformat": 4,
 "nbformat_minor": 1
}
