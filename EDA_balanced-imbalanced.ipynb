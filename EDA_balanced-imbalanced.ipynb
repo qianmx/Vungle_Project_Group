{
 "cells": [
  {
   "cell_type": "code",
   "execution_count": 1,
   "metadata": {
    "collapsed": false
   },
   "outputs": [
    {
     "name": "stdout",
     "output_type": "stream",
     "text": [
      "Populating the interactive namespace from numpy and matplotlib\n"
     ]
    }
   ],
   "source": [
    "import pandas as pd\n",
    "import numpy as np\n",
    "\n",
    "from matplotlib import pyplot as plt\n",
    "%pylab inline\n",
    "\n",
    "from datetime import datetime,timedelta\n",
    "import json\n",
    "import re\n",
    "\n",
    "from collections import OrderedDict\n",
    "from math import pi\n",
    "import pytz\n",
    "import time\n",
    "#import psycopg2\n",
    "#from sqlalchemy import create_engine\n",
    "\n",
    "from scipy import stats\n",
    "import csv\n",
    "\n",
    "from sklearn.decomposition import PCA\n",
    "from sklearn.preprocessing import scale, normalize\n",
    "\n",
    "import seaborn as sns"
   ]
  },
  {
   "cell_type": "code",
   "execution_count": 2,
   "metadata": {
    "collapsed": false
   },
   "outputs": [
    {
     "name": "stderr",
     "output_type": "stream",
     "text": [
      "/Users/linda/anaconda2/lib/python2.7/site-packages/IPython/core/interactiveshell.py:2717: DtypeWarning: Columns (23) have mixed types. Specify dtype option on import or set low_memory=False.\n",
      "  interactivity=interactivity, compiler=compiler, result=result)\n"
     ]
    }
   ],
   "source": [
    "data = pd.read_csv('balanced_data.csv')\n",
    "data_im = pd.read_csv('imbalanced_data.csv')"
   ]
  },
  {
   "cell_type": "code",
   "execution_count": 3,
   "metadata": {
    "collapsed": false
   },
   "outputs": [
    {
     "data": {
      "text/plain": [
       "advertiser_app_store_id                                  1009442510\n",
       "country_code                                                     CN\n",
       "city                                                            NaN\n",
       "campaign_id                                56fc3b248409c5677800005c\n",
       "creative_id                                582efacc4156ab1024000034\n",
       "device_language                                                  zh\n",
       "device_make                                                   iPad3\n",
       "device_model                                                      4\n",
       "device_platform                                                 iOS\n",
       "device_connection                                              wifi\n",
       "device_os_version                                              10.2\n",
       "device_screen_height                                           2048\n",
       "device_screen_width                                            1536\n",
       "device_volume                                                 0.375\n",
       "event_id                                   58674105bdf48743587bdde6\n",
       "n_campaign_views                                                  4\n",
       "n_vungle_installs                                                 0\n",
       "publisher_app_store_id                     5255b9a777aa478519000008\n",
       "time_of_last_delivery_this_campaign             2016-12-29 11:09:20\n",
       "time_of_last_delivery_this_creative             2016-12-29 10:09:03\n",
       "time_of_last_delivery_any_installed_app                         NaN\n",
       "time_of_last_vungle_delivery                    2016-12-31 04:53:51\n",
       "time_of_this_impression                         2016-12-31 11:18:39\n",
       "timestamp_at_install                                            NaN\n",
       "time_of_this_request                            2016-12-31 05:24:16\n",
       "time_zone                                             Asia/Shanghai\n",
       "is_install                                                        0\n",
       "Name: 0, dtype: object"
      ]
     },
     "execution_count": 3,
     "metadata": {},
     "output_type": "execute_result"
    }
   ],
   "source": [
    "data.ix[0,:]"
   ]
  },
  {
   "cell_type": "code",
   "execution_count": 4,
   "metadata": {
    "collapsed": false
   },
   "outputs": [
    {
     "data": {
      "text/plain": [
       "(700000, 27)"
      ]
     },
     "execution_count": 4,
     "metadata": {},
     "output_type": "execute_result"
    }
   ],
   "source": [
    "data.shape"
   ]
  },
  {
   "cell_type": "code",
   "execution_count": 5,
   "metadata": {
    "collapsed": false
   },
   "outputs": [
    {
     "name": "stdout",
     "output_type": "stream",
     "text": [
      "advertiser_app_store_id 841\n",
      "country_code 219\n",
      "city 7510\n",
      "campaign_id 3927\n",
      "creative_id 8835\n",
      "device_language 143\n",
      "device_make 2880\n",
      "device_model 19976\n",
      "device_platform 3\n",
      "device_connection 3\n",
      "device_os_version 167\n",
      "device_screen_height 636\n",
      "device_screen_width 636\n",
      "device_volume 25736\n",
      "event_id 667229\n",
      "n_campaign_views 353\n",
      "n_vungle_installs 27\n",
      "publisher_app_store_id 10581\n",
      "time_of_last_delivery_this_campaign 322105\n",
      "time_of_last_delivery_this_creative 236890\n",
      "time_of_last_delivery_any_installed_app 76948\n",
      "time_of_last_vungle_delivery 395389\n",
      "time_of_this_impression 295092\n",
      "timestamp_at_install 206495\n",
      "time_of_this_request 344952\n",
      "time_zone 402\n",
      "is_install 2\n"
     ]
    }
   ],
   "source": [
    "for col in data.columns:\n",
    "    print col, len(data[col].unique())"
   ]
  },
  {
   "cell_type": "code",
   "execution_count": 6,
   "metadata": {
    "collapsed": false
   },
   "outputs": [
    {
     "data": {
      "text/html": [
       "<div>\n",
       "<table border=\"1\" class=\"dataframe\">\n",
       "  <thead>\n",
       "    <tr style=\"text-align: right;\">\n",
       "      <th></th>\n",
       "      <th>advertiser_app_store_id</th>\n",
       "      <th>country_code</th>\n",
       "      <th>city</th>\n",
       "      <th>campaign_id</th>\n",
       "      <th>creative_id</th>\n",
       "      <th>device_language</th>\n",
       "      <th>device_make</th>\n",
       "      <th>device_model</th>\n",
       "      <th>device_platform</th>\n",
       "      <th>device_connection</th>\n",
       "      <th>...</th>\n",
       "      <th>publisher_app_store_id</th>\n",
       "      <th>time_of_last_delivery_this_campaign</th>\n",
       "      <th>time_of_last_delivery_this_creative</th>\n",
       "      <th>time_of_last_delivery_any_installed_app</th>\n",
       "      <th>time_of_last_vungle_delivery</th>\n",
       "      <th>time_of_this_impression</th>\n",
       "      <th>timestamp_at_install</th>\n",
       "      <th>time_of_this_request</th>\n",
       "      <th>time_zone</th>\n",
       "      <th>is_install</th>\n",
       "    </tr>\n",
       "  </thead>\n",
       "  <tbody>\n",
       "    <tr>\n",
       "      <th>50000</th>\n",
       "      <td>57a0c2d7b019f8257c00018e</td>\n",
       "      <td>US</td>\n",
       "      <td>NaN</td>\n",
       "      <td>58580e0349704450630005c0</td>\n",
       "      <td>585be882a41b0d391e000189</td>\n",
       "      <td>en</td>\n",
       "      <td>iPhone8</td>\n",
       "      <td>1</td>\n",
       "      <td>iOS</td>\n",
       "      <td>wifi</td>\n",
       "      <td>...</td>\n",
       "      <td>5645ea34d86cc1d66200000e</td>\n",
       "      <td>2016-12-28 03:18:43</td>\n",
       "      <td>2016-12-28 03:18:43</td>\n",
       "      <td>NaN</td>\n",
       "      <td>2016-12-28 03:18:43</td>\n",
       "      <td>2016-12-29 00:54:02</td>\n",
       "      <td>2016-12-29 00:58:25</td>\n",
       "      <td>2016-12-29 00:48:36</td>\n",
       "      <td>America/New_York</td>\n",
       "      <td>1</td>\n",
       "    </tr>\n",
       "    <tr>\n",
       "      <th>50001</th>\n",
       "      <td>567ad7406fd13e0b3500010a</td>\n",
       "      <td>CN</td>\n",
       "      <td>NaN</td>\n",
       "      <td>5745febecdbfecf93000017a</td>\n",
       "      <td>578cf54e6f796f6f080000e5</td>\n",
       "      <td>zh</td>\n",
       "      <td>iPhone8</td>\n",
       "      <td>4</td>\n",
       "      <td>iOS</td>\n",
       "      <td>wifi</td>\n",
       "      <td>...</td>\n",
       "      <td>58085b5dd7b68f0448000053</td>\n",
       "      <td>NaN</td>\n",
       "      <td>NaN</td>\n",
       "      <td>NaN</td>\n",
       "      <td>2016-12-29 06:07:48</td>\n",
       "      <td>2016-12-29 06:37:02</td>\n",
       "      <td>2016-12-29 06:49:08</td>\n",
       "      <td>2016-12-29 06:25:35</td>\n",
       "      <td>Asia/Shanghai</td>\n",
       "      <td>1</td>\n",
       "    </tr>\n",
       "    <tr>\n",
       "      <th>50002</th>\n",
       "      <td>638689075</td>\n",
       "      <td>CN</td>\n",
       "      <td>NaN</td>\n",
       "      <td>579713697e12833b60000107</td>\n",
       "      <td>5616630eaf32fc6e0d000052</td>\n",
       "      <td>zh</td>\n",
       "      <td>iPad6</td>\n",
       "      <td>3</td>\n",
       "      <td>iOS</td>\n",
       "      <td>wifi</td>\n",
       "      <td>...</td>\n",
       "      <td>582980902ab2e27710000205</td>\n",
       "      <td>NaN</td>\n",
       "      <td>NaN</td>\n",
       "      <td>2016-12-27 13:25:11</td>\n",
       "      <td>2016-12-30 02:12:10</td>\n",
       "      <td>2016-12-30 10:30:02</td>\n",
       "      <td>2016-12-30 13:35:27</td>\n",
       "      <td>2016-12-30 02:49:11</td>\n",
       "      <td>Asia/Shanghai</td>\n",
       "      <td>1</td>\n",
       "    </tr>\n",
       "    <tr>\n",
       "      <th>50003</th>\n",
       "      <td>57c14f1a8992b76d750000d4</td>\n",
       "      <td>PA</td>\n",
       "      <td>NaN</td>\n",
       "      <td>584a20dea389cb6c03000015</td>\n",
       "      <td>585a3120b4e7236d220002cd</td>\n",
       "      <td>es</td>\n",
       "      <td>LGE</td>\n",
       "      <td>LG-H540</td>\n",
       "      <td>android</td>\n",
       "      <td>wifi</td>\n",
       "      <td>...</td>\n",
       "      <td>581c02c0487a7c024d00000f</td>\n",
       "      <td>NaN</td>\n",
       "      <td>NaN</td>\n",
       "      <td>NaN</td>\n",
       "      <td>2016-12-16 16:39:11</td>\n",
       "      <td>2016-12-29 22:49:56</td>\n",
       "      <td>2016-12-29 22:55:29</td>\n",
       "      <td>2016-12-28 21:55:46</td>\n",
       "      <td>America/Panama</td>\n",
       "      <td>1</td>\n",
       "    </tr>\n",
       "    <tr>\n",
       "      <th>50004</th>\n",
       "      <td>585072c6c8bc669419000086</td>\n",
       "      <td>US</td>\n",
       "      <td>NaN</td>\n",
       "      <td>58581838bd485a0a4a000536</td>\n",
       "      <td>585c10bea41b0d391e0001a4</td>\n",
       "      <td>en</td>\n",
       "      <td>Lenovo</td>\n",
       "      <td>Lenovo TB3-710F</td>\n",
       "      <td>android</td>\n",
       "      <td>wifi</td>\n",
       "      <td>...</td>\n",
       "      <td>5759e66aab7f59142500007d</td>\n",
       "      <td>2016-12-25 05:07:26</td>\n",
       "      <td>NaN</td>\n",
       "      <td>NaN</td>\n",
       "      <td>2016-12-25 05:07:26</td>\n",
       "      <td>2016-12-30 19:27:39</td>\n",
       "      <td>2016-12-30 21:55:52</td>\n",
       "      <td>2016-12-26 01:28:33</td>\n",
       "      <td>America/Los_Angeles</td>\n",
       "      <td>1</td>\n",
       "    </tr>\n",
       "  </tbody>\n",
       "</table>\n",
       "<p>5 rows × 27 columns</p>\n",
       "</div>"
      ],
      "text/plain": [
       "        advertiser_app_store_id country_code city               campaign_id  \\\n",
       "50000  57a0c2d7b019f8257c00018e           US  NaN  58580e0349704450630005c0   \n",
       "50001  567ad7406fd13e0b3500010a           CN  NaN  5745febecdbfecf93000017a   \n",
       "50002                 638689075           CN  NaN  579713697e12833b60000107   \n",
       "50003  57c14f1a8992b76d750000d4           PA  NaN  584a20dea389cb6c03000015   \n",
       "50004  585072c6c8bc669419000086           US  NaN  58581838bd485a0a4a000536   \n",
       "\n",
       "                    creative_id device_language device_make     device_model  \\\n",
       "50000  585be882a41b0d391e000189              en     iPhone8                1   \n",
       "50001  578cf54e6f796f6f080000e5              zh     iPhone8                4   \n",
       "50002  5616630eaf32fc6e0d000052              zh       iPad6                3   \n",
       "50003  585a3120b4e7236d220002cd              es         LGE          LG-H540   \n",
       "50004  585c10bea41b0d391e0001a4              en      Lenovo  Lenovo TB3-710F   \n",
       "\n",
       "      device_platform device_connection    ...        publisher_app_store_id  \\\n",
       "50000             iOS              wifi    ...      5645ea34d86cc1d66200000e   \n",
       "50001             iOS              wifi    ...      58085b5dd7b68f0448000053   \n",
       "50002             iOS              wifi    ...      582980902ab2e27710000205   \n",
       "50003         android              wifi    ...      581c02c0487a7c024d00000f   \n",
       "50004         android              wifi    ...      5759e66aab7f59142500007d   \n",
       "\n",
       "       time_of_last_delivery_this_campaign  \\\n",
       "50000                  2016-12-28 03:18:43   \n",
       "50001                                  NaN   \n",
       "50002                                  NaN   \n",
       "50003                                  NaN   \n",
       "50004                  2016-12-25 05:07:26   \n",
       "\n",
       "       time_of_last_delivery_this_creative  \\\n",
       "50000                  2016-12-28 03:18:43   \n",
       "50001                                  NaN   \n",
       "50002                                  NaN   \n",
       "50003                                  NaN   \n",
       "50004                                  NaN   \n",
       "\n",
       "       time_of_last_delivery_any_installed_app time_of_last_vungle_delivery  \\\n",
       "50000                                      NaN          2016-12-28 03:18:43   \n",
       "50001                                      NaN          2016-12-29 06:07:48   \n",
       "50002                      2016-12-27 13:25:11          2016-12-30 02:12:10   \n",
       "50003                                      NaN          2016-12-16 16:39:11   \n",
       "50004                                      NaN          2016-12-25 05:07:26   \n",
       "\n",
       "       time_of_this_impression  timestamp_at_install time_of_this_request  \\\n",
       "50000      2016-12-29 00:54:02   2016-12-29 00:58:25  2016-12-29 00:48:36   \n",
       "50001      2016-12-29 06:37:02   2016-12-29 06:49:08  2016-12-29 06:25:35   \n",
       "50002      2016-12-30 10:30:02   2016-12-30 13:35:27  2016-12-30 02:49:11   \n",
       "50003      2016-12-29 22:49:56   2016-12-29 22:55:29  2016-12-28 21:55:46   \n",
       "50004      2016-12-30 19:27:39   2016-12-30 21:55:52  2016-12-26 01:28:33   \n",
       "\n",
       "                 time_zone is_install  \n",
       "50000     America/New_York          1  \n",
       "50001        Asia/Shanghai          1  \n",
       "50002        Asia/Shanghai          1  \n",
       "50003       America/Panama          1  \n",
       "50004  America/Los_Angeles          1  \n",
       "\n",
       "[5 rows x 27 columns]"
      ]
     },
     "execution_count": 6,
     "metadata": {},
     "output_type": "execute_result"
    }
   ],
   "source": [
    "data_install = data[data['is_install'] == 1]\n",
    "data_install.head()"
   ]
  },
  {
   "cell_type": "code",
   "execution_count": 7,
   "metadata": {
    "collapsed": false
   },
   "outputs": [
    {
     "data": {
      "text/html": [
       "<div>\n",
       "<table border=\"1\" class=\"dataframe\">\n",
       "  <thead>\n",
       "    <tr style=\"text-align: right;\">\n",
       "      <th></th>\n",
       "      <th>advertiser_app_store_id</th>\n",
       "      <th>country_code</th>\n",
       "      <th>city</th>\n",
       "      <th>campaign_id</th>\n",
       "      <th>creative_id</th>\n",
       "      <th>device_language</th>\n",
       "      <th>device_make</th>\n",
       "      <th>device_model</th>\n",
       "      <th>device_platform</th>\n",
       "      <th>device_connection</th>\n",
       "      <th>...</th>\n",
       "      <th>publisher_app_store_id</th>\n",
       "      <th>time_of_last_delivery_this_campaign</th>\n",
       "      <th>time_of_last_delivery_this_creative</th>\n",
       "      <th>time_of_last_delivery_any_installed_app</th>\n",
       "      <th>time_of_last_vungle_delivery</th>\n",
       "      <th>time_of_this_impression</th>\n",
       "      <th>timestamp_at_install</th>\n",
       "      <th>time_of_this_request</th>\n",
       "      <th>time_zone</th>\n",
       "      <th>is_install</th>\n",
       "    </tr>\n",
       "  </thead>\n",
       "  <tbody>\n",
       "    <tr>\n",
       "      <th>2</th>\n",
       "      <td>58534782688691e41e000011</td>\n",
       "      <td>GB</td>\n",
       "      <td>NaN</td>\n",
       "      <td>5853f654b70cc2893e000031</td>\n",
       "      <td>5860c91d156bf31f650001b0</td>\n",
       "      <td>en</td>\n",
       "      <td>iPhone3</td>\n",
       "      <td>1</td>\n",
       "      <td>iOS</td>\n",
       "      <td>wifi</td>\n",
       "      <td>...</td>\n",
       "      <td>5645ea34d86cc1d66200000e</td>\n",
       "      <td>2016-12-26 20:17:33</td>\n",
       "      <td>2016-12-26 20:17:33</td>\n",
       "      <td>NaN</td>\n",
       "      <td>2016-12-28 12:48:47</td>\n",
       "      <td>2016-12-29 13:01:48</td>\n",
       "      <td>2016-12-29 13:12:29</td>\n",
       "      <td>2016-12-29 12:59:07</td>\n",
       "      <td>Europe/London</td>\n",
       "      <td>1</td>\n",
       "    </tr>\n",
       "    <tr>\n",
       "      <th>5</th>\n",
       "      <td>569cb43b42e28de607000008</td>\n",
       "      <td>VN</td>\n",
       "      <td>NaN</td>\n",
       "      <td>569cb47434fc89f17a00000e</td>\n",
       "      <td>57b3fd6bf80d026d7300007b</td>\n",
       "      <td>vi</td>\n",
       "      <td>samsung</td>\n",
       "      <td>SM-J320G</td>\n",
       "      <td>android</td>\n",
       "      <td>wifi</td>\n",
       "      <td>...</td>\n",
       "      <td>com.playappking.busrush</td>\n",
       "      <td>2016-12-18 09:46:32</td>\n",
       "      <td>2016-12-18 09:46:32</td>\n",
       "      <td>NaN</td>\n",
       "      <td>2016-12-29 12:01:47</td>\n",
       "      <td>2017-01-01 03:10:55</td>\n",
       "      <td>2017-01-01 03:14:11</td>\n",
       "      <td>2017-01-01 03:08:59</td>\n",
       "      <td>Asia/Ho_Chi_Minh</td>\n",
       "      <td>1</td>\n",
       "    </tr>\n",
       "    <tr>\n",
       "      <th>13</th>\n",
       "      <td>585215f054dbb89701000ba2</td>\n",
       "      <td>US</td>\n",
       "      <td>NaN</td>\n",
       "      <td>585247d492f308b72a00015a</td>\n",
       "      <td>5860bde8156bf31f65000198</td>\n",
       "      <td>zh</td>\n",
       "      <td>Meizu</td>\n",
       "      <td>m3</td>\n",
       "      <td>android</td>\n",
       "      <td>wifi</td>\n",
       "      <td>...</td>\n",
       "      <td>569c5302cd0685ea45000008</td>\n",
       "      <td>NaN</td>\n",
       "      <td>NaN</td>\n",
       "      <td>NaN</td>\n",
       "      <td>2016-12-31 11:30:30</td>\n",
       "      <td>2016-12-31 13:38:21</td>\n",
       "      <td>2016-12-31 13:41:14</td>\n",
       "      <td>2016-12-31 11:51:19</td>\n",
       "      <td>America/New_York</td>\n",
       "      <td>1</td>\n",
       "    </tr>\n",
       "    <tr>\n",
       "      <th>18</th>\n",
       "      <td>1009442510</td>\n",
       "      <td>US</td>\n",
       "      <td>NaN</td>\n",
       "      <td>57511f92e410603d0b00000f</td>\n",
       "      <td>5817c654559b5edd2d00006c</td>\n",
       "      <td>en</td>\n",
       "      <td>iPod7</td>\n",
       "      <td>1</td>\n",
       "      <td>iOS</td>\n",
       "      <td>wifi</td>\n",
       "      <td>...</td>\n",
       "      <td>836071680</td>\n",
       "      <td>NaN</td>\n",
       "      <td>NaN</td>\n",
       "      <td>NaN</td>\n",
       "      <td>NaN</td>\n",
       "      <td>2016-12-31 16:46:04</td>\n",
       "      <td>2016-12-31 22:54:46</td>\n",
       "      <td>2016-12-31 15:40:22</td>\n",
       "      <td>America/New_York</td>\n",
       "      <td>1</td>\n",
       "    </tr>\n",
       "    <tr>\n",
       "      <th>21</th>\n",
       "      <td>5796ce353214d8315f000088</td>\n",
       "      <td>US</td>\n",
       "      <td>NaN</td>\n",
       "      <td>5797212313f0bb443d00010f</td>\n",
       "      <td>5808eedf9534c1c615000173</td>\n",
       "      <td>en</td>\n",
       "      <td>samsung</td>\n",
       "      <td>SAMSUNG-SM-G891A</td>\n",
       "      <td>android</td>\n",
       "      <td>mobile</td>\n",
       "      <td>...</td>\n",
       "      <td>52b7d6c4108fe8347200000a</td>\n",
       "      <td>NaN</td>\n",
       "      <td>NaN</td>\n",
       "      <td>2016-12-29 04:05:01</td>\n",
       "      <td>2016-12-30 12:16:33</td>\n",
       "      <td>2016-12-30 14:38:21</td>\n",
       "      <td>2016-12-30 16:12:25</td>\n",
       "      <td>2016-12-30 12:17:34</td>\n",
       "      <td>America/Chicago</td>\n",
       "      <td>1</td>\n",
       "    </tr>\n",
       "  </tbody>\n",
       "</table>\n",
       "<p>5 rows × 27 columns</p>\n",
       "</div>"
      ],
      "text/plain": [
       "     advertiser_app_store_id country_code city               campaign_id  \\\n",
       "2   58534782688691e41e000011           GB  NaN  5853f654b70cc2893e000031   \n",
       "5   569cb43b42e28de607000008           VN  NaN  569cb47434fc89f17a00000e   \n",
       "13  585215f054dbb89701000ba2           US  NaN  585247d492f308b72a00015a   \n",
       "18                1009442510           US  NaN  57511f92e410603d0b00000f   \n",
       "21  5796ce353214d8315f000088           US  NaN  5797212313f0bb443d00010f   \n",
       "\n",
       "                 creative_id device_language device_make      device_model  \\\n",
       "2   5860c91d156bf31f650001b0              en     iPhone3                 1   \n",
       "5   57b3fd6bf80d026d7300007b              vi     samsung          SM-J320G   \n",
       "13  5860bde8156bf31f65000198              zh       Meizu                m3   \n",
       "18  5817c654559b5edd2d00006c              en       iPod7                 1   \n",
       "21  5808eedf9534c1c615000173              en     samsung  SAMSUNG-SM-G891A   \n",
       "\n",
       "   device_platform device_connection    ...        publisher_app_store_id  \\\n",
       "2              iOS              wifi    ...      5645ea34d86cc1d66200000e   \n",
       "5          android              wifi    ...       com.playappking.busrush   \n",
       "13         android              wifi    ...      569c5302cd0685ea45000008   \n",
       "18             iOS              wifi    ...                     836071680   \n",
       "21         android            mobile    ...      52b7d6c4108fe8347200000a   \n",
       "\n",
       "    time_of_last_delivery_this_campaign  time_of_last_delivery_this_creative  \\\n",
       "2                   2016-12-26 20:17:33                  2016-12-26 20:17:33   \n",
       "5                   2016-12-18 09:46:32                  2016-12-18 09:46:32   \n",
       "13                                  NaN                                  NaN   \n",
       "18                                  NaN                                  NaN   \n",
       "21                                  NaN                                  NaN   \n",
       "\n",
       "    time_of_last_delivery_any_installed_app time_of_last_vungle_delivery  \\\n",
       "2                                       NaN          2016-12-28 12:48:47   \n",
       "5                                       NaN          2016-12-29 12:01:47   \n",
       "13                                      NaN          2016-12-31 11:30:30   \n",
       "18                                      NaN                          NaN   \n",
       "21                      2016-12-29 04:05:01          2016-12-30 12:16:33   \n",
       "\n",
       "    time_of_this_impression  timestamp_at_install time_of_this_request  \\\n",
       "2       2016-12-29 13:01:48   2016-12-29 13:12:29  2016-12-29 12:59:07   \n",
       "5       2017-01-01 03:10:55   2017-01-01 03:14:11  2017-01-01 03:08:59   \n",
       "13      2016-12-31 13:38:21   2016-12-31 13:41:14  2016-12-31 11:51:19   \n",
       "18      2016-12-31 16:46:04   2016-12-31 22:54:46  2016-12-31 15:40:22   \n",
       "21      2016-12-30 14:38:21   2016-12-30 16:12:25  2016-12-30 12:17:34   \n",
       "\n",
       "           time_zone is_install  \n",
       "2      Europe/London          1  \n",
       "5   Asia/Ho_Chi_Minh          1  \n",
       "13  America/New_York          1  \n",
       "18  America/New_York          1  \n",
       "21   America/Chicago          1  \n",
       "\n",
       "[5 rows x 27 columns]"
      ]
     },
     "execution_count": 7,
     "metadata": {},
     "output_type": "execute_result"
    }
   ],
   "source": [
    "data_install_im = data_im[data_im['is_install'] == 1]\n",
    "data_install_im.head()"
   ]
  },
  {
   "cell_type": "markdown",
   "metadata": {},
   "source": [
    "### Conversion  = install / total\n",
    "\n",
    "\n",
    "### advertiser_app_store_id"
   ]
  },
  {
   "cell_type": "code",
   "execution_count": 8,
   "metadata": {
    "collapsed": false
   },
   "outputs": [],
   "source": [
    "ins = pd.DataFrame(data_install.groupby('advertiser_app_store_id')['is_install'].count().rename('install_counts')).reset_index()\n",
    "total = pd.DataFrame(data.groupby('advertiser_app_store_id')['is_install'].count().rename('total_counts')).reset_index()\n",
    "counts_ad = total.merge(ins, how = 'left', on = 'advertiser_app_store_id').fillna(0.0)\n",
    "counts_ad['conversion'] = counts_ad['install_counts']/counts_ad['total_counts']"
   ]
  },
  {
   "cell_type": "code",
   "execution_count": 9,
   "metadata": {
    "collapsed": false
   },
   "outputs": [
    {
     "name": "stdout",
     "output_type": "stream",
     "text": [
      "the size of important label in a balanced data group 182\n"
     ]
    }
   ],
   "source": [
    "#find the labels that have conversion rate greater then 0.5 and more than one time install\n",
    "sub_count_ad=counts_ad[(counts_ad.install_counts>1)&(counts_ad.conversion>0.5)]\n",
    "print 'the size of important label in a balanced data group', len(sub_count_ad)\n"
   ]
  },
  {
   "cell_type": "code",
   "execution_count": 10,
   "metadata": {
    "collapsed": true
   },
   "outputs": [],
   "source": [
    "ins_im = pd.DataFrame(data_install_im.groupby('advertiser_app_store_id')['is_install'].count().rename('install_counts')).reset_index()\n",
    "total_im = pd.DataFrame(data_im.groupby('advertiser_app_store_id')['is_install'].count().rename('total_counts')).reset_index()\n",
    "counts_ad_im = total_im.merge(ins_im, how = 'left', on = 'advertiser_app_store_id').fillna(0.0)\n",
    "counts_ad_im['conversion'] = counts_ad_im['install_counts']/counts_ad_im['total_counts']\n"
   ]
  },
  {
   "cell_type": "code",
   "execution_count": 11,
   "metadata": {
    "collapsed": false
   },
   "outputs": [
    {
     "name": "stdout",
     "output_type": "stream",
     "text": [
      "the size of important label in a imbalanced data group 183\n"
     ]
    }
   ],
   "source": [
    "#find the labels that have conversion rate greater then 0.5 and more than one time install\n",
    "sub_count_ad_im=counts_ad_im[(counts_ad_im.install_counts>1)&(counts_ad_im.conversion>0.2)]\n",
    "print 'the size of important label in a imbalanced data group', len(sub_count_ad_im)\n"
   ]
  },
  {
   "cell_type": "code",
   "execution_count": 12,
   "metadata": {
    "collapsed": false
   },
   "outputs": [
    {
     "name": "stdout",
     "output_type": "stream",
     "text": [
      "The number of important label shared by imbalanced data group and balanced data group is  153\n"
     ]
    }
   ],
   "source": [
    "print 'The number of important label shared by imbalanced data group and balanced data group is ',len(set(sub_count_ad.advertiser_app_store_id.values)&set(sub_count_ad_im.advertiser_app_store_id.values))"
   ]
  },
  {
   "cell_type": "code",
   "execution_count": 13,
   "metadata": {
    "collapsed": false
   },
   "outputs": [
    {
     "data": {
      "text/plain": [
       "0.000000    226\n",
       "0.500000     11\n",
       "0.062500      7\n",
       "1.000000      7\n",
       "0.125000      5\n",
       "0.080000      5\n",
       "0.111111      5\n",
       "0.166667      5\n",
       "0.250000      4\n",
       "0.071429      4\n",
       "0.047619      4\n",
       "0.133333      3\n",
       "0.333333      3\n",
       "0.120000      3\n",
       "0.200000      3\n",
       "0.096154      3\n",
       "0.043478      3\n",
       "0.187500      3\n",
       "0.076923      2\n",
       "0.138889      2\n",
       "0.090909      2\n",
       "0.093750      2\n",
       "0.040000      2\n",
       "0.117647      2\n",
       "0.066667      2\n",
       "0.057692      2\n",
       "0.105263      2\n",
       "0.142857      2\n",
       "0.222222      2\n",
       "0.230769      2\n",
       "           ... \n",
       "0.101695      1\n",
       "0.028169      1\n",
       "0.195000      1\n",
       "0.066311      1\n",
       "0.116216      1\n",
       "0.179420      1\n",
       "0.004149      1\n",
       "0.008333      1\n",
       "0.276923      1\n",
       "0.185507      1\n",
       "0.110497      1\n",
       "0.490195      1\n",
       "0.112840      1\n",
       "0.205479      1\n",
       "0.163488      1\n",
       "0.173077      1\n",
       "0.268423      1\n",
       "0.174603      1\n",
       "0.177215      1\n",
       "0.045752      1\n",
       "0.046380      1\n",
       "0.093651      1\n",
       "0.147826      1\n",
       "0.048780      1\n",
       "0.061135      1\n",
       "0.105096      1\n",
       "0.094595      1\n",
       "0.281623      1\n",
       "0.106443      1\n",
       "0.081599      1\n",
       "Name: conversion, dtype: int64"
      ]
     },
     "execution_count": 13,
     "metadata": {},
     "output_type": "execute_result"
    }
   ],
   "source": [
    "counts_ad_im['conversion'].value_counts()"
   ]
  },
  {
   "cell_type": "code",
   "execution_count": 14,
   "metadata": {
    "collapsed": false
   },
   "outputs": [
    {
     "data": {
      "text/plain": [
       "<matplotlib.text.Text at 0x1043808d0>"
      ]
     },
     "execution_count": 14,
     "metadata": {},
     "output_type": "execute_result"
    },
    {
     "data": {
      "image/png": "[encoded data removed]",
      "text/plain": [
       "<matplotlib.figure.Figure at 0x1052f23d0>"
      ]
     },
     "metadata": {},
     "output_type": "display_data"
    }
   ],
   "source": [
    "plt.hist(counts_ad['conversion'],alpha=0.5,label='balanced')\n",
    "plt.hist(counts_ad_im['conversion'],alpha=0.5,label='imbalanced')\n",
    "plt.xlabel('Conversion Rate')\n",
    "plt.legend()\n",
    "plt.ylabel('Counts')\n",
    "plt.title('advertiser_app_store_id')"
   ]
  },
  {
   "cell_type": "markdown",
   "metadata": {},
   "source": [
    "### country_code"
   ]
  },
  {
   "cell_type": "code",
   "execution_count": 15,
   "metadata": {
    "collapsed": false
   },
   "outputs": [],
   "source": [
    "ins = pd.DataFrame(data_install.groupby('country_code')['is_install'].count().rename('install_counts')).reset_index()\n",
    "total = pd.DataFrame(data.groupby('country_code')['is_install'].count().rename('total_counts')).reset_index()\n",
    "counts_country = total.merge(ins, how = 'left', on = 'country_code').fillna(0.0)\n",
    "counts_country['conversion'] = counts_country['install_counts']/counts_country['total_counts']"
   ]
  },
  {
   "cell_type": "code",
   "execution_count": 16,
   "metadata": {
    "collapsed": false
   },
   "outputs": [
    {
     "name": "stdout",
     "output_type": "stream",
     "text": [
      "the size of important label in a imbalanced data group 29\n"
     ]
    }
   ],
   "source": [
    "sub_count_country=counts_country[(counts_country.conversion>0.5)]\n",
    "print 'the size of important label in a imbalanced data group', len(sub_count_country)\n"
   ]
  },
  {
   "cell_type": "code",
   "execution_count": 17,
   "metadata": {
    "collapsed": true
   },
   "outputs": [],
   "source": [
    "ins_im = pd.DataFrame(data_install_im.groupby('country_code')['is_install'].count().rename('install_counts')).reset_index()\n",
    "total_im = pd.DataFrame(data_im.groupby('country_code')['is_install'].count().rename('total_counts')).reset_index()\n",
    "counts_country_im = total_im.merge(ins_im, how = 'left', on = 'country_code').fillna(0.0)\n",
    "counts_country_im['conversion'] = counts_ad_im['install_counts']/counts_ad_im['total_counts']\n"
   ]
  },
  {
   "cell_type": "code",
   "execution_count": 18,
   "metadata": {
    "collapsed": false
   },
   "outputs": [
    {
     "name": "stdout",
     "output_type": "stream",
     "text": [
      "the size of important label in a imbalanced data group 67\n"
     ]
    }
   ],
   "source": [
    "sub_count_country_im=counts_country_im[(counts_country_im.conversion>0.2)]\n",
    "print 'the size of important label in a imbalanced data group', len(sub_count_country_im)\n"
   ]
  },
  {
   "cell_type": "code",
   "execution_count": 27,
   "metadata": {
    "collapsed": false
   },
   "outputs": [
    {
     "data": {
      "text/plain": [
       "<matplotlib.text.Text at 0x1314bf5d0>"
      ]
     },
     "execution_count": 27,
     "metadata": {},
     "output_type": "execute_result"
    },
    {
     "data": {
      "image/png": "[encoded data removed]",
      "text/plain": [
       "<matplotlib.figure.Figure at 0x117914ad0>"
      ]
     },
     "metadata": {},
     "output_type": "display_data"
    }
   ],
   "source": [
    "plt.hist(counts_country['conversion'],alpha=0.5,label='balanced')\n",
    "plt.hist(counts_country_im['conversion'],alpha=0.5,label='imbalanced')\n",
    "plt.xlabel('Conversion Rate')\n",
    "plt.ylabel('Counts')\n",
    "plt.legend()\n",
    "plt.title('country_code')"
   ]
  },
  {
   "cell_type": "markdown",
   "metadata": {},
   "source": [
    "### campaign_id <- useless"
   ]
  },
  {
   "cell_type": "code",
   "execution_count": 41,
   "metadata": {
    "collapsed": true
   },
   "outputs": [],
   "source": [
    "ins = pd.DataFrame(data_install.groupby('campaign_id')['is_install'].count().rename('install_counts')).reset_index()\n",
    "total = pd.DataFrame(data.groupby('campaign_id')['is_install'].count().rename('total_counts')).reset_index()\n",
    "counts_campaign_id = total.merge(ins, how = 'left', on = 'campaign_id').fillna(0.0)\n",
    "counts_campaign_id['conversion'] = counts_campaign_id['install_counts']/counts_campaign_id['total_counts']"
   ]
  },
  {
   "cell_type": "code",
   "execution_count": 42,
   "metadata": {
    "collapsed": false
   },
   "outputs": [
    {
     "data": {
      "text/html": [
       "<div>\n",
       "<table border=\"1\" class=\"dataframe\">\n",
       "  <thead>\n",
       "    <tr style=\"text-align: right;\">\n",
       "      <th></th>\n",
       "      <th>campaign_id</th>\n",
       "      <th>total_counts</th>\n",
       "      <th>install_counts</th>\n",
       "      <th>conversion</th>\n",
       "    </tr>\n",
       "  </thead>\n",
       "  <tbody>\n",
       "    <tr>\n",
       "      <th>0</th>\n",
       "      <td>51328f29a80c3f2b340000f6</td>\n",
       "      <td>1</td>\n",
       "      <td>1.0</td>\n",
       "      <td>1.0</td>\n",
       "    </tr>\n",
       "    <tr>\n",
       "      <th>2197</th>\n",
       "      <td>580a7615d7cfd36123000088</td>\n",
       "      <td>2</td>\n",
       "      <td>2.0</td>\n",
       "      <td>1.0</td>\n",
       "    </tr>\n",
       "    <tr>\n",
       "      <th>3260</th>\n",
       "      <td>584673b8eaaaa0e56900007f</td>\n",
       "      <td>7</td>\n",
       "      <td>7.0</td>\n",
       "      <td>1.0</td>\n",
       "    </tr>\n",
       "    <tr>\n",
       "      <th>3261</th>\n",
       "      <td>584674870c880c2c2200006c</td>\n",
       "      <td>1</td>\n",
       "      <td>1.0</td>\n",
       "      <td>1.0</td>\n",
       "    </tr>\n",
       "    <tr>\n",
       "      <th>3278</th>\n",
       "      <td>5847a2752d9cadbb64000264</td>\n",
       "      <td>1</td>\n",
       "      <td>1.0</td>\n",
       "      <td>1.0</td>\n",
       "    </tr>\n",
       "  </tbody>\n",
       "</table>\n",
       "</div>"
      ],
      "text/plain": [
       "                   campaign_id  total_counts  install_counts  conversion\n",
       "0     51328f29a80c3f2b340000f6             1             1.0         1.0\n",
       "2197  580a7615d7cfd36123000088             2             2.0         1.0\n",
       "3260  584673b8eaaaa0e56900007f             7             7.0         1.0\n",
       "3261  584674870c880c2c2200006c             1             1.0         1.0\n",
       "3278  5847a2752d9cadbb64000264             1             1.0         1.0"
      ]
     },
     "execution_count": 42,
     "metadata": {},
     "output_type": "execute_result"
    }
   ],
   "source": [
    "counts_campaign_id.sort_values('conversion', ascending = False).head()"
   ]
  },
  {
   "cell_type": "markdown",
   "metadata": {},
   "source": [
    "### creative_id  <- useless"
   ]
  },
  {
   "cell_type": "code",
   "execution_count": 43,
   "metadata": {
    "collapsed": false
   },
   "outputs": [
    {
     "data": {
      "text/html": [
       "<div>\n",
       "<table border=\"1\" class=\"dataframe\">\n",
       "  <thead>\n",
       "    <tr style=\"text-align: right;\">\n",
       "      <th></th>\n",
       "      <th>creative_id</th>\n",
       "      <th>total_counts</th>\n",
       "      <th>install_counts</th>\n",
       "      <th>conversion</th>\n",
       "    </tr>\n",
       "  </thead>\n",
       "  <tbody>\n",
       "    <tr>\n",
       "      <th>3498</th>\n",
       "      <td>57edc530bb47ff4937000022</td>\n",
       "      <td>2</td>\n",
       "      <td>2.0</td>\n",
       "      <td>1.0</td>\n",
       "    </tr>\n",
       "    <tr>\n",
       "      <th>7682</th>\n",
       "      <td>585a3baed39d867f22000213</td>\n",
       "      <td>1</td>\n",
       "      <td>1.0</td>\n",
       "      <td>1.0</td>\n",
       "    </tr>\n",
       "    <tr>\n",
       "      <th>882</th>\n",
       "      <td>56d93a4a61c7bd786d000074</td>\n",
       "      <td>2</td>\n",
       "      <td>2.0</td>\n",
       "      <td>1.0</td>\n",
       "    </tr>\n",
       "    <tr>\n",
       "      <th>2285</th>\n",
       "      <td>57aa4bbb316ce33d770000a5</td>\n",
       "      <td>1</td>\n",
       "      <td>1.0</td>\n",
       "      <td>1.0</td>\n",
       "    </tr>\n",
       "    <tr>\n",
       "      <th>7676</th>\n",
       "      <td>585a3153b5ed234c1e0000fa</td>\n",
       "      <td>4</td>\n",
       "      <td>4.0</td>\n",
       "      <td>1.0</td>\n",
       "    </tr>\n",
       "  </tbody>\n",
       "</table>\n",
       "</div>"
      ],
      "text/plain": [
       "                   creative_id  total_counts  install_counts  conversion\n",
       "3498  57edc530bb47ff4937000022             2             2.0         1.0\n",
       "7682  585a3baed39d867f22000213             1             1.0         1.0\n",
       "882   56d93a4a61c7bd786d000074             2             2.0         1.0\n",
       "2285  57aa4bbb316ce33d770000a5             1             1.0         1.0\n",
       "7676  585a3153b5ed234c1e0000fa             4             4.0         1.0"
      ]
     },
     "execution_count": 43,
     "metadata": {},
     "output_type": "execute_result"
    }
   ],
   "source": [
    "ins = pd.DataFrame(data_install.groupby('creative_id')['is_install'].count().rename('install_counts')).reset_index()\n",
    "total = pd.DataFrame(data.groupby('creative_id')['is_install'].count().rename('total_counts')).reset_index()\n",
    "counts_creative_id = total.merge(ins, how = 'left', on = 'creative_id').fillna(0.0)\n",
    "counts_creative_id['conversion'] = counts_creative_id['install_counts']/counts_creative_id['total_counts']\n",
    "counts_creative_id.sort_values('conversion', ascending = False).head()"
   ]
  },
  {
   "cell_type": "markdown",
   "metadata": {},
   "source": [
    "### device_language"
   ]
  },
  {
   "cell_type": "code",
   "execution_count": 21,
   "metadata": {
    "collapsed": false
   },
   "outputs": [
    {
     "name": "stderr",
     "output_type": "stream",
     "text": [
      "/Users/linda/anaconda2/lib/python2.7/site-packages/ipykernel/__main__.py:2: SettingWithCopyWarning: \n",
      "A value is trying to be set on a copy of a slice from a DataFrame.\n",
      "Try using .loc[row_indexer,col_indexer] = value instead\n",
      "\n",
      "See the caveats in the documentation: http://pandas.pydata.org/pandas-docs/stable/indexing.html#indexing-view-versus-copy\n",
      "  from ipykernel import kernelapp as app\n"
     ]
    }
   ],
   "source": [
    "data['device_language'] = data['device_language'].apply(lambda x: str(x).lower().split('-')[0])\n",
    "data_install['device_language'] = data_install['device_language'].apply(lambda x: str(x).lower().split('-')[0])"
   ]
  },
  {
   "cell_type": "code",
   "execution_count": 22,
   "metadata": {
    "collapsed": false
   },
   "outputs": [
    {
     "name": "stderr",
     "output_type": "stream",
     "text": [
      "/Users/linda/anaconda2/lib/python2.7/site-packages/ipykernel/__main__.py:2: SettingWithCopyWarning: \n",
      "A value is trying to be set on a copy of a slice from a DataFrame.\n",
      "Try using .loc[row_indexer,col_indexer] = value instead\n",
      "\n",
      "See the caveats in the documentation: http://pandas.pydata.org/pandas-docs/stable/indexing.html#indexing-view-versus-copy\n",
      "  from ipykernel import kernelapp as app\n"
     ]
    }
   ],
   "source": [
    "data_im['device_language'] = data_im['device_language'].apply(lambda x: str(x).lower().split('-')[0])\n",
    "data_install_im['device_language'] = data_install_im['device_language'].apply(lambda x: str(x).lower().split('-')[0])"
   ]
  },
  {
   "cell_type": "code",
   "execution_count": 23,
   "metadata": {
    "collapsed": false
   },
   "outputs": [],
   "source": [
    "ins = pd.DataFrame(data_install.groupby('device_language')['is_install'].count().rename('install_counts')).reset_index()\n",
    "total = pd.DataFrame(data.groupby('device_language')['is_install'].count().rename('total_counts')).reset_index()\n",
    "counts_language = total.merge(ins, how = 'left', on = 'device_language').fillna(0.0)\n",
    "counts_language['conversion'] = counts_language['install_counts']/counts_language['total_counts']\n"
   ]
  },
  {
   "cell_type": "code",
   "execution_count": 24,
   "metadata": {
    "collapsed": false
   },
   "outputs": [
    {
     "name": "stdout",
     "output_type": "stream",
     "text": [
      "the size of important label in a imbalanced data group 22\n"
     ]
    }
   ],
   "source": [
    "sub_count_language=counts_language[(counts_language.conversion>0.5)]\n",
    "print 'the size of important label in a imbalanced data group', len(sub_count_language)"
   ]
  },
  {
   "cell_type": "code",
   "execution_count": 25,
   "metadata": {
    "collapsed": true
   },
   "outputs": [],
   "source": [
    "ins_im = pd.DataFrame(data_install_im.groupby('device_language')['is_install'].count().rename('install_counts')).reset_index()\n",
    "total_im = pd.DataFrame(data_im.groupby('device_language')['is_install'].count().rename('total_counts')).reset_index()\n",
    "counts_language_im = total_im.merge(ins_im, how = 'left', on = 'device_language').fillna(0.0)\n",
    "counts_language_im['conversion'] = counts_ad_im['install_counts']/counts_ad_im['total_counts']"
   ]
  },
  {
   "cell_type": "code",
   "execution_count": 50,
   "metadata": {
    "collapsed": false
   },
   "outputs": [
    {
     "name": "stdout",
     "output_type": "stream",
     "text": [
      "the size of important label in a imbalanced data group 35\n"
     ]
    }
   ],
   "source": [
    "sub_count_language_im=counts_language_im[(counts_language_im.conversion>0.2)]\n",
    "print 'the size of important label in a imbalanced data group', len(sub_count_language_im)"
   ]
  },
  {
   "cell_type": "code",
   "execution_count": 26,
   "metadata": {
    "collapsed": false
   },
   "outputs": [
    {
     "data": {
      "text/plain": [
       "<matplotlib.text.Text at 0x117a50350>"
      ]
     },
     "execution_count": 26,
     "metadata": {},
     "output_type": "execute_result"
    },
    {
     "data": {
      "image/png": "[encoded data removed]",
      "text/plain": [
       "<matplotlib.figure.Figure at 0x117411fd0>"
      ]
     },
     "metadata": {},
     "output_type": "display_data"
    }
   ],
   "source": [
    "plt.hist(counts_country['conversion'],alpha=0.5,label='balanced')\n",
    "plt.hist(counts_country_im['conversion'],alpha=0.5,label='imbalanced')\n",
    "plt.xlabel('Conversion Rate')\n",
    "plt.ylabel('Counts')\n",
    "plt.legend()\n",
    "plt.title('device_language')"
   ]
  },
  {
   "cell_type": "markdown",
   "metadata": {},
   "source": [
    "### device_make <- useless"
   ]
  },
  {
   "cell_type": "code",
   "execution_count": 36,
   "metadata": {
    "collapsed": false
   },
   "outputs": [],
   "source": [
    "ins = pd.DataFrame(data_install.groupby('device_make')['is_install'].count().rename('install_counts')).reset_index()\n",
    "total = pd.DataFrame(data.groupby('device_make')['is_install'].count().rename('total_counts')).reset_index()\n",
    "counts_device_make = total.merge(ins, how = 'left', on = 'device_make').fillna(0.0)\n",
    "counts_device_make['conversion'] = counts_device_make['install_counts']/counts_device_make['total_counts']\n",
    "counts_device_make.sort_values('conversion', ascending = False)"
   ]
  },
  {
   "cell_type": "markdown",
   "metadata": {},
   "source": [
    "### device_model <- useless"
   ]
  },
  {
   "cell_type": "code",
   "execution_count": 59,
   "metadata": {
    "collapsed": false
   },
   "outputs": [
    {
     "data": {
      "text/html": [
       "<div>\n",
       "<table border=\"1\" class=\"dataframe\">\n",
       "  <thead>\n",
       "    <tr style=\"text-align: right;\">\n",
       "      <th></th>\n",
       "      <th>device_model</th>\n",
       "      <th>total_counts</th>\n",
       "      <th>install_counts</th>\n",
       "      <th>conversion</th>\n",
       "    </tr>\n",
       "  </thead>\n",
       "  <tbody>\n",
       "    <tr>\n",
       "      <th>2367</th>\n",
       "      <td>Allure Ultra</td>\n",
       "      <td>1</td>\n",
       "      <td>1.0</td>\n",
       "      <td>1.0</td>\n",
       "    </tr>\n",
       "    <tr>\n",
       "      <th>10762</th>\n",
       "      <td>N5D</td>\n",
       "      <td>1</td>\n",
       "      <td>1.0</td>\n",
       "      <td>1.0</td>\n",
       "    </tr>\n",
       "    <tr>\n",
       "      <th>10803</th>\n",
       "      <td>N9006</td>\n",
       "      <td>1</td>\n",
       "      <td>1.0</td>\n",
       "      <td>1.0</td>\n",
       "    </tr>\n",
       "    <tr>\n",
       "      <th>10800</th>\n",
       "      <td>N9000</td>\n",
       "      <td>1</td>\n",
       "      <td>1.0</td>\n",
       "      <td>1.0</td>\n",
       "    </tr>\n",
       "    <tr>\n",
       "      <th>10798</th>\n",
       "      <td>N9</td>\n",
       "      <td>1</td>\n",
       "      <td>1.0</td>\n",
       "      <td>1.0</td>\n",
       "    </tr>\n",
       "    <tr>\n",
       "      <th>10796</th>\n",
       "      <td>N8800</td>\n",
       "      <td>2</td>\n",
       "      <td>2.0</td>\n",
       "      <td>1.0</td>\n",
       "    </tr>\n",
       "    <tr>\n",
       "      <th>10795</th>\n",
       "      <td>N861</td>\n",
       "      <td>1</td>\n",
       "      <td>1.0</td>\n",
       "      <td>1.0</td>\n",
       "    </tr>\n",
       "    <tr>\n",
       "      <th>10787</th>\n",
       "      <td>N788_BASHA</td>\n",
       "      <td>1</td>\n",
       "      <td>1.0</td>\n",
       "      <td>1.0</td>\n",
       "    </tr>\n",
       "    <tr>\n",
       "      <th>2930</th>\n",
       "      <td>AvenzoTAB9</td>\n",
       "      <td>1</td>\n",
       "      <td>1.0</td>\n",
       "      <td>1.0</td>\n",
       "    </tr>\n",
       "    <tr>\n",
       "      <th>10785</th>\n",
       "      <td>N76VJ</td>\n",
       "      <td>1</td>\n",
       "      <td>1.0</td>\n",
       "      <td>1.0</td>\n",
       "    </tr>\n",
       "    <tr>\n",
       "      <th>10783</th>\n",
       "      <td>N751JX</td>\n",
       "      <td>1</td>\n",
       "      <td>1.0</td>\n",
       "      <td>1.0</td>\n",
       "    </tr>\n",
       "    <tr>\n",
       "      <th>10779</th>\n",
       "      <td>N7105</td>\n",
       "      <td>1</td>\n",
       "      <td>1.0</td>\n",
       "      <td>1.0</td>\n",
       "    </tr>\n",
       "    <tr>\n",
       "      <th>10772</th>\n",
       "      <td>N68S3B</td>\n",
       "      <td>1</td>\n",
       "      <td>1.0</td>\n",
       "      <td>1.0</td>\n",
       "    </tr>\n",
       "    <tr>\n",
       "      <th>10769</th>\n",
       "      <td>N630</td>\n",
       "      <td>3</td>\n",
       "      <td>3.0</td>\n",
       "      <td>1.0</td>\n",
       "    </tr>\n",
       "    <tr>\n",
       "      <th>10768</th>\n",
       "      <td>N620</td>\n",
       "      <td>2</td>\n",
       "      <td>2.0</td>\n",
       "      <td>1.0</td>\n",
       "    </tr>\n",
       "    <tr>\n",
       "      <th>10760</th>\n",
       "      <td>N56VZ</td>\n",
       "      <td>1</td>\n",
       "      <td>1.0</td>\n",
       "      <td>1.0</td>\n",
       "    </tr>\n",
       "    <tr>\n",
       "      <th>10811</th>\n",
       "      <td>N918ST</td>\n",
       "      <td>3</td>\n",
       "      <td>3.0</td>\n",
       "      <td>1.0</td>\n",
       "    </tr>\n",
       "    <tr>\n",
       "      <th>10759</th>\n",
       "      <td>N56VV</td>\n",
       "      <td>1</td>\n",
       "      <td>1.0</td>\n",
       "      <td>1.0</td>\n",
       "    </tr>\n",
       "    <tr>\n",
       "      <th>10756</th>\n",
       "      <td>N552VX</td>\n",
       "      <td>1</td>\n",
       "      <td>1.0</td>\n",
       "      <td>1.0</td>\n",
       "    </tr>\n",
       "    <tr>\n",
       "      <th>10755</th>\n",
       "      <td>N552VW</td>\n",
       "      <td>2</td>\n",
       "      <td>2.0</td>\n",
       "      <td>1.0</td>\n",
       "    </tr>\n",
       "    <tr>\n",
       "      <th>10753</th>\n",
       "      <td>N551JB</td>\n",
       "      <td>1</td>\n",
       "      <td>1.0</td>\n",
       "      <td>1.0</td>\n",
       "    </tr>\n",
       "    <tr>\n",
       "      <th>10751</th>\n",
       "      <td>N550JK</td>\n",
       "      <td>1</td>\n",
       "      <td>1.0</td>\n",
       "      <td>1.0</td>\n",
       "    </tr>\n",
       "    <tr>\n",
       "      <th>10749</th>\n",
       "      <td>N53SV</td>\n",
       "      <td>2</td>\n",
       "      <td>2.0</td>\n",
       "      <td>1.0</td>\n",
       "    </tr>\n",
       "    <tr>\n",
       "      <th>10741</th>\n",
       "      <td>N501JW</td>\n",
       "      <td>1</td>\n",
       "      <td>1.0</td>\n",
       "      <td>1.0</td>\n",
       "    </tr>\n",
       "    <tr>\n",
       "      <th>10739</th>\n",
       "      <td>N500</td>\n",
       "      <td>1</td>\n",
       "      <td>1.0</td>\n",
       "      <td>1.0</td>\n",
       "    </tr>\n",
       "    <tr>\n",
       "      <th>10727</th>\n",
       "      <td>N18</td>\n",
       "      <td>1</td>\n",
       "      <td>1.0</td>\n",
       "      <td>1.0</td>\n",
       "    </tr>\n",
       "    <tr>\n",
       "      <th>10721</th>\n",
       "      <td>N12i</td>\n",
       "      <td>1</td>\n",
       "      <td>1.0</td>\n",
       "      <td>1.0</td>\n",
       "    </tr>\n",
       "    <tr>\n",
       "      <th>10718</th>\n",
       "      <td>N10-QM</td>\n",
       "      <td>1</td>\n",
       "      <td>1.0</td>\n",
       "      <td>1.0</td>\n",
       "    </tr>\n",
       "    <tr>\n",
       "      <th>10717</th>\n",
       "      <td>N10 Plus</td>\n",
       "      <td>1</td>\n",
       "      <td>1.0</td>\n",
       "      <td>1.0</td>\n",
       "    </tr>\n",
       "    <tr>\n",
       "      <th>10710</th>\n",
       "      <td>N-06D</td>\n",
       "      <td>1</td>\n",
       "      <td>1.0</td>\n",
       "      <td>1.0</td>\n",
       "    </tr>\n",
       "    <tr>\n",
       "      <th>...</th>\n",
       "      <td>...</td>\n",
       "      <td>...</td>\n",
       "      <td>...</td>\n",
       "      <td>...</td>\n",
       "    </tr>\n",
       "    <tr>\n",
       "      <th>7266</th>\n",
       "      <td>IDXD10</td>\n",
       "      <td>1</td>\n",
       "      <td>0.0</td>\n",
       "      <td>0.0</td>\n",
       "    </tr>\n",
       "    <tr>\n",
       "      <th>13114</th>\n",
       "      <td>RM-1072_1062</td>\n",
       "      <td>11</td>\n",
       "      <td>0.0</td>\n",
       "      <td>0.0</td>\n",
       "    </tr>\n",
       "    <tr>\n",
       "      <th>13115</th>\n",
       "      <td>RM-1072_1065</td>\n",
       "      <td>1</td>\n",
       "      <td>0.0</td>\n",
       "      <td>0.0</td>\n",
       "    </tr>\n",
       "    <tr>\n",
       "      <th>13116</th>\n",
       "      <td>RM-1072_1067</td>\n",
       "      <td>2</td>\n",
       "      <td>0.0</td>\n",
       "      <td>0.0</td>\n",
       "    </tr>\n",
       "    <tr>\n",
       "      <th>13118</th>\n",
       "      <td>RM-1072_1069</td>\n",
       "      <td>1</td>\n",
       "      <td>0.0</td>\n",
       "      <td>0.0</td>\n",
       "    </tr>\n",
       "    <tr>\n",
       "      <th>13086</th>\n",
       "      <td>RM-1071_1037</td>\n",
       "      <td>1</td>\n",
       "      <td>0.0</td>\n",
       "      <td>0.0</td>\n",
       "    </tr>\n",
       "    <tr>\n",
       "      <th>13119</th>\n",
       "      <td>RM-1072_1084</td>\n",
       "      <td>2</td>\n",
       "      <td>0.0</td>\n",
       "      <td>0.0</td>\n",
       "    </tr>\n",
       "    <tr>\n",
       "      <th>13120</th>\n",
       "      <td>RM-1073_1002</td>\n",
       "      <td>2</td>\n",
       "      <td>0.0</td>\n",
       "      <td>0.0</td>\n",
       "    </tr>\n",
       "    <tr>\n",
       "      <th>7264</th>\n",
       "      <td>IDEATAB S6000-H</td>\n",
       "      <td>1</td>\n",
       "      <td>0.0</td>\n",
       "      <td>0.0</td>\n",
       "    </tr>\n",
       "    <tr>\n",
       "      <th>13123</th>\n",
       "      <td>RM-1073_1009</td>\n",
       "      <td>1</td>\n",
       "      <td>0.0</td>\n",
       "      <td>0.0</td>\n",
       "    </tr>\n",
       "    <tr>\n",
       "      <th>13124</th>\n",
       "      <td>RM-1073_1013</td>\n",
       "      <td>1</td>\n",
       "      <td>0.0</td>\n",
       "      <td>0.0</td>\n",
       "    </tr>\n",
       "    <tr>\n",
       "      <th>13125</th>\n",
       "      <td>RM-1073_1015</td>\n",
       "      <td>1</td>\n",
       "      <td>0.0</td>\n",
       "      <td>0.0</td>\n",
       "    </tr>\n",
       "    <tr>\n",
       "      <th>13109</th>\n",
       "      <td>RM-1072_1040</td>\n",
       "      <td>2</td>\n",
       "      <td>0.0</td>\n",
       "      <td>0.0</td>\n",
       "    </tr>\n",
       "    <tr>\n",
       "      <th>13108</th>\n",
       "      <td>RM-1072_1039</td>\n",
       "      <td>3</td>\n",
       "      <td>0.0</td>\n",
       "      <td>0.0</td>\n",
       "    </tr>\n",
       "    <tr>\n",
       "      <th>13105</th>\n",
       "      <td>RM-1072_1035</td>\n",
       "      <td>1</td>\n",
       "      <td>0.0</td>\n",
       "      <td>0.0</td>\n",
       "    </tr>\n",
       "    <tr>\n",
       "      <th>13102</th>\n",
       "      <td>RM-1072_1032</td>\n",
       "      <td>3</td>\n",
       "      <td>0.0</td>\n",
       "      <td>0.0</td>\n",
       "    </tr>\n",
       "    <tr>\n",
       "      <th>13101</th>\n",
       "      <td>RM-1072_1030</td>\n",
       "      <td>2</td>\n",
       "      <td>0.0</td>\n",
       "      <td>0.0</td>\n",
       "    </tr>\n",
       "    <tr>\n",
       "      <th>13099</th>\n",
       "      <td>RM-1072_1024</td>\n",
       "      <td>1</td>\n",
       "      <td>0.0</td>\n",
       "      <td>0.0</td>\n",
       "    </tr>\n",
       "    <tr>\n",
       "      <th>13098</th>\n",
       "      <td>RM-1072_1023</td>\n",
       "      <td>2</td>\n",
       "      <td>0.0</td>\n",
       "      <td>0.0</td>\n",
       "    </tr>\n",
       "    <tr>\n",
       "      <th>13096</th>\n",
       "      <td>RM-1072_1018</td>\n",
       "      <td>1</td>\n",
       "      <td>0.0</td>\n",
       "      <td>0.0</td>\n",
       "    </tr>\n",
       "    <tr>\n",
       "      <th>7269</th>\n",
       "      <td>IEOS_QUAD_PRO</td>\n",
       "      <td>1</td>\n",
       "      <td>0.0</td>\n",
       "      <td>0.0</td>\n",
       "    </tr>\n",
       "    <tr>\n",
       "      <th>13094</th>\n",
       "      <td>RM-1072_1007</td>\n",
       "      <td>9</td>\n",
       "      <td>0.0</td>\n",
       "      <td>0.0</td>\n",
       "    </tr>\n",
       "    <tr>\n",
       "      <th>2169</th>\n",
       "      <td>AT-E162S</td>\n",
       "      <td>1</td>\n",
       "      <td>0.0</td>\n",
       "      <td>0.0</td>\n",
       "    </tr>\n",
       "    <tr>\n",
       "      <th>13092</th>\n",
       "      <td>RM-1072_1002</td>\n",
       "      <td>6</td>\n",
       "      <td>0.0</td>\n",
       "      <td>0.0</td>\n",
       "    </tr>\n",
       "    <tr>\n",
       "      <th>13091</th>\n",
       "      <td>RM-1071_1050</td>\n",
       "      <td>3</td>\n",
       "      <td>0.0</td>\n",
       "      <td>0.0</td>\n",
       "    </tr>\n",
       "    <tr>\n",
       "      <th>7270</th>\n",
       "      <td>IEOS_QUAD_W</td>\n",
       "      <td>3</td>\n",
       "      <td>0.0</td>\n",
       "      <td>0.0</td>\n",
       "    </tr>\n",
       "    <tr>\n",
       "      <th>13089</th>\n",
       "      <td>RM-1071_1044</td>\n",
       "      <td>1</td>\n",
       "      <td>0.0</td>\n",
       "      <td>0.0</td>\n",
       "    </tr>\n",
       "    <tr>\n",
       "      <th>13088</th>\n",
       "      <td>RM-1071_1041</td>\n",
       "      <td>1</td>\n",
       "      <td>0.0</td>\n",
       "      <td>0.0</td>\n",
       "    </tr>\n",
       "    <tr>\n",
       "      <th>13087</th>\n",
       "      <td>RM-1071_1039</td>\n",
       "      <td>1</td>\n",
       "      <td>0.0</td>\n",
       "      <td>0.0</td>\n",
       "    </tr>\n",
       "    <tr>\n",
       "      <th>12355</th>\n",
       "      <td>Plane 7.1 3G CAR PS7020MG CAR</td>\n",
       "      <td>1</td>\n",
       "      <td>0.0</td>\n",
       "      <td>0.0</td>\n",
       "    </tr>\n",
       "  </tbody>\n",
       "</table>\n",
       "<p>19975 rows × 4 columns</p>\n",
       "</div>"
      ],
      "text/plain": [
       "                        device_model  total_counts  install_counts  conversion\n",
       "2367                    Allure Ultra             1             1.0         1.0\n",
       "10762                            N5D             1             1.0         1.0\n",
       "10803                          N9006             1             1.0         1.0\n",
       "10800                          N9000             1             1.0         1.0\n",
       "10798                             N9             1             1.0         1.0\n",
       "10796                          N8800             2             2.0         1.0\n",
       "10795                           N861             1             1.0         1.0\n",
       "10787                     N788_BASHA             1             1.0         1.0\n",
       "2930                      AvenzoTAB9             1             1.0         1.0\n",
       "10785                          N76VJ             1             1.0         1.0\n",
       "10783                         N751JX             1             1.0         1.0\n",
       "10779                          N7105             1             1.0         1.0\n",
       "10772                         N68S3B             1             1.0         1.0\n",
       "10769                           N630             3             3.0         1.0\n",
       "10768                           N620             2             2.0         1.0\n",
       "10760                          N56VZ             1             1.0         1.0\n",
       "10811                         N918ST             3             3.0         1.0\n",
       "10759                          N56VV             1             1.0         1.0\n",
       "10756                         N552VX             1             1.0         1.0\n",
       "10755                         N552VW             2             2.0         1.0\n",
       "10753                         N551JB             1             1.0         1.0\n",
       "10751                         N550JK             1             1.0         1.0\n",
       "10749                          N53SV             2             2.0         1.0\n",
       "10741                         N501JW             1             1.0         1.0\n",
       "10739                           N500             1             1.0         1.0\n",
       "10727                            N18             1             1.0         1.0\n",
       "10721                           N12i             1             1.0         1.0\n",
       "10718                         N10-QM             1             1.0         1.0\n",
       "10717                       N10 Plus             1             1.0         1.0\n",
       "10710                          N-06D             1             1.0         1.0\n",
       "...                              ...           ...             ...         ...\n",
       "7266                          IDXD10             1             0.0         0.0\n",
       "13114                   RM-1072_1062            11             0.0         0.0\n",
       "13115                   RM-1072_1065             1             0.0         0.0\n",
       "13116                   RM-1072_1067             2             0.0         0.0\n",
       "13118                   RM-1072_1069             1             0.0         0.0\n",
       "13086                   RM-1071_1037             1             0.0         0.0\n",
       "13119                   RM-1072_1084             2             0.0         0.0\n",
       "13120                   RM-1073_1002             2             0.0         0.0\n",
       "7264                 IDEATAB S6000-H             1             0.0         0.0\n",
       "13123                   RM-1073_1009             1             0.0         0.0\n",
       "13124                   RM-1073_1013             1             0.0         0.0\n",
       "13125                   RM-1073_1015             1             0.0         0.0\n",
       "13109                   RM-1072_1040             2             0.0         0.0\n",
       "13108                   RM-1072_1039             3             0.0         0.0\n",
       "13105                   RM-1072_1035             1             0.0         0.0\n",
       "13102                   RM-1072_1032             3             0.0         0.0\n",
       "13101                   RM-1072_1030             2             0.0         0.0\n",
       "13099                   RM-1072_1024             1             0.0         0.0\n",
       "13098                   RM-1072_1023             2             0.0         0.0\n",
       "13096                   RM-1072_1018             1             0.0         0.0\n",
       "7269                   IEOS_QUAD_PRO             1             0.0         0.0\n",
       "13094                   RM-1072_1007             9             0.0         0.0\n",
       "2169                        AT-E162S             1             0.0         0.0\n",
       "13092                   RM-1072_1002             6             0.0         0.0\n",
       "13091                   RM-1071_1050             3             0.0         0.0\n",
       "7270                     IEOS_QUAD_W             3             0.0         0.0\n",
       "13089                   RM-1071_1044             1             0.0         0.0\n",
       "13088                   RM-1071_1041             1             0.0         0.0\n",
       "13087                   RM-1071_1039             1             0.0         0.0\n",
       "12355  Plane 7.1 3G CAR PS7020MG CAR             1             0.0         0.0\n",
       "\n",
       "[19975 rows x 4 columns]"
      ]
     },
     "execution_count": 59,
     "metadata": {},
     "output_type": "execute_result"
    }
   ],
   "source": [
    "ins = pd.DataFrame(data_install.groupby('device_model')['is_install'].count().rename('install_counts')).reset_index()\n",
    "total = pd.DataFrame(data.groupby('device_model')['is_install'].count().rename('total_counts')).reset_index()\n",
    "counts_device_model = total.merge(ins, how = 'left', on = 'device_model').fillna(0.0)\n",
    "counts_device_model['conversion'] = counts_device_model['install_counts']/counts_device_model['total_counts']\n",
    "counts_device_model.sort_values('conversion', ascending = False)"
   ]
  },
  {
   "cell_type": "markdown",
   "metadata": {},
   "source": [
    "### device_platform"
   ]
  },
  {
   "cell_type": "code",
   "execution_count": 60,
   "metadata": {
    "collapsed": false
   },
   "outputs": [
    {
     "data": {
      "text/html": [
       "<div>\n",
       "<table border=\"1\" class=\"dataframe\">\n",
       "  <thead>\n",
       "    <tr style=\"text-align: right;\">\n",
       "      <th></th>\n",
       "      <th>device_platform</th>\n",
       "      <th>total_counts</th>\n",
       "      <th>install_counts</th>\n",
       "      <th>conversion</th>\n",
       "    </tr>\n",
       "  </thead>\n",
       "  <tbody>\n",
       "    <tr>\n",
       "      <th>1</th>\n",
       "      <td>iOS</td>\n",
       "      <td>290427</td>\n",
       "      <td>157941</td>\n",
       "      <td>0.543823</td>\n",
       "    </tr>\n",
       "    <tr>\n",
       "      <th>2</th>\n",
       "      <td>windows</td>\n",
       "      <td>11785</td>\n",
       "      <td>5545</td>\n",
       "      <td>0.470513</td>\n",
       "    </tr>\n",
       "    <tr>\n",
       "      <th>0</th>\n",
       "      <td>android</td>\n",
       "      <td>397788</td>\n",
       "      <td>186514</td>\n",
       "      <td>0.468878</td>\n",
       "    </tr>\n",
       "  </tbody>\n",
       "</table>\n",
       "</div>"
      ],
      "text/plain": [
       "  device_platform  total_counts  install_counts  conversion\n",
       "1             iOS        290427          157941    0.543823\n",
       "2         windows         11785            5545    0.470513\n",
       "0         android        397788          186514    0.468878"
      ]
     },
     "execution_count": 60,
     "metadata": {},
     "output_type": "execute_result"
    }
   ],
   "source": [
    "ins = pd.DataFrame(data_install.groupby('device_platform')['is_install'].count().rename('install_counts')).reset_index()\n",
    "total = pd.DataFrame(data.groupby('device_platform')['is_install'].count().rename('total_counts')).reset_index()\n",
    "counts_device_platform = total.merge(ins, how = 'left', on = 'device_platform').fillna(0.0)\n",
    "counts_device_platform['conversion'] = counts_device_platform['install_counts']/counts_device_platform['total_counts']\n",
    "counts_device_platform.sort_values('conversion', ascending = False)"
   ]
  },
  {
   "cell_type": "code",
   "execution_count": 52,
   "metadata": {
    "collapsed": false
   },
   "outputs": [
    {
     "data": {
      "text/html": [
       "<div>\n",
       "<table border=\"1\" class=\"dataframe\">\n",
       "  <thead>\n",
       "    <tr style=\"text-align: right;\">\n",
       "      <th></th>\n",
       "      <th>device_platform</th>\n",
       "      <th>total_counts</th>\n",
       "      <th>install_counts</th>\n",
       "      <th>conversion</th>\n",
       "    </tr>\n",
       "  </thead>\n",
       "  <tbody>\n",
       "    <tr>\n",
       "      <th>1</th>\n",
       "      <td>iOS</td>\n",
       "      <td>273660</td>\n",
       "      <td>60525</td>\n",
       "      <td>0.221169</td>\n",
       "    </tr>\n",
       "    <tr>\n",
       "      <th>2</th>\n",
       "      <td>windows</td>\n",
       "      <td>12095</td>\n",
       "      <td>2124</td>\n",
       "      <td>0.175610</td>\n",
       "    </tr>\n",
       "    <tr>\n",
       "      <th>0</th>\n",
       "      <td>android</td>\n",
       "      <td>414245</td>\n",
       "      <td>72400</td>\n",
       "      <td>0.174776</td>\n",
       "    </tr>\n",
       "  </tbody>\n",
       "</table>\n",
       "</div>"
      ],
      "text/plain": [
       "  device_platform  total_counts  install_counts  conversion\n",
       "1             iOS        273660           60525    0.221169\n",
       "2         windows         12095            2124    0.175610\n",
       "0         android        414245           72400    0.174776"
      ]
     },
     "execution_count": 52,
     "metadata": {},
     "output_type": "execute_result"
    }
   ],
   "source": [
    "ins = pd.DataFrame(data_install_im.groupby('device_platform')['is_install'].count().rename('install_counts')).reset_index()\n",
    "total = pd.DataFrame(data_im.groupby('device_platform')['is_install'].count().rename('total_counts')).reset_index()\n",
    "counts_device_platform_im = total.merge(ins, how = 'left', on = 'device_platform').fillna(0.0)\n",
    "counts_device_platform_im['conversion'] = counts_device_platform_im['install_counts']/counts_device_platform_im['total_counts']\n",
    "counts_device_platform_im.sort_values('conversion', ascending = False)"
   ]
  },
  {
   "cell_type": "code",
   "execution_count": 106,
   "metadata": {
    "collapsed": false
   },
   "outputs": [
    {
     "data": {
      "text/plain": [
       "(0, 0.6)"
      ]
     },
     "execution_count": 106,
     "metadata": {},
     "output_type": "execute_result"
    },
    {
     "data": {
      "image/png": "[encoded data removed]",
      "text/plain": [
       "<matplotlib.figure.Figure at 0x14999a310>"
      ]
     },
     "metadata": {},
     "output_type": "display_data"
    }
   ],
   "source": [
    "plt.plot(counts_device_platform['conversion'])\n",
    "plt.xticks(range(3), ['android', 'ios', 'windows'])\n",
    "plt.xlabel('Device Platform')\n",
    "plt.ylabel('Conversion Rate')\n",
    "plt.ylim(0,0.6)"
   ]
  },
  {
   "cell_type": "markdown",
   "metadata": {},
   "source": [
    "### device_connection"
   ]
  },
  {
   "cell_type": "code",
   "execution_count": 61,
   "metadata": {
    "collapsed": false
   },
   "outputs": [
    {
     "data": {
      "text/html": [
       "<div>\n",
       "<table border=\"1\" class=\"dataframe\">\n",
       "  <thead>\n",
       "    <tr style=\"text-align: right;\">\n",
       "      <th></th>\n",
       "      <th>device_connection</th>\n",
       "      <th>total_counts</th>\n",
       "      <th>install_counts</th>\n",
       "      <th>conversion</th>\n",
       "    </tr>\n",
       "  </thead>\n",
       "  <tbody>\n",
       "    <tr>\n",
       "      <th>1</th>\n",
       "      <td>wifi</td>\n",
       "      <td>510226</td>\n",
       "      <td>252602</td>\n",
       "      <td>0.495079</td>\n",
       "    </tr>\n",
       "    <tr>\n",
       "      <th>0</th>\n",
       "      <td>mobile</td>\n",
       "      <td>137870</td>\n",
       "      <td>67821</td>\n",
       "      <td>0.491920</td>\n",
       "    </tr>\n",
       "  </tbody>\n",
       "</table>\n",
       "</div>"
      ],
      "text/plain": [
       "  device_connection  total_counts  install_counts  conversion\n",
       "1              wifi        510226          252602    0.495079\n",
       "0            mobile        137870           67821    0.491920"
      ]
     },
     "execution_count": 61,
     "metadata": {},
     "output_type": "execute_result"
    }
   ],
   "source": [
    "ins = pd.DataFrame(data_install.groupby('device_connection')['is_install'].count().rename('install_counts')).reset_index()\n",
    "total = pd.DataFrame(data.groupby('device_connection')['is_install'].count().rename('total_counts')).reset_index()\n",
    "counts_device_connection = total.merge(ins, how = 'left', on = 'device_connection').fillna(0.0)\n",
    "counts_device_connection['conversion'] = counts_device_connection['install_counts']/counts_device_connection['total_counts']\n",
    "counts_device_connection.sort_values('conversion', ascending = False)"
   ]
  },
  {
   "cell_type": "code",
   "execution_count": 110,
   "metadata": {
    "collapsed": false
   },
   "outputs": [
    {
     "data": {
      "text/plain": [
       "(0.4, 0.5)"
      ]
     },
     "execution_count": 110,
     "metadata": {},
     "output_type": "execute_result"
    },
    {
     "data": {
      "image/png": "[encoded data removed]",
      "text/plain": [
       "<matplotlib.figure.Figure at 0x14df42d10>"
      ]
     },
     "metadata": {},
     "output_type": "display_data"
    }
   ],
   "source": [
    "plt.plot(counts_device_connection['conversion'])\n",
    "plt.xticks(range(2), ['wifi', 'mobile'])\n",
    "plt.xlabel('Device Connection')\n",
    "plt.ylabel('Conversion Rate')\n",
    "plt.ylim(0.4,0.5)"
   ]
  },
  {
   "cell_type": "markdown",
   "metadata": {},
   "source": [
    "### n_campaign_views"
   ]
  },
  {
   "cell_type": "code",
   "execution_count": 34,
   "metadata": {
    "collapsed": false
   },
   "outputs": [
    {
     "data": {
      "text/html": [
       "<div>\n",
       "<table border=\"1\" class=\"dataframe\">\n",
       "  <thead>\n",
       "    <tr style=\"text-align: right;\">\n",
       "      <th></th>\n",
       "      <th>n_campaign_views</th>\n",
       "      <th>total_counts</th>\n",
       "      <th>install_counts</th>\n",
       "      <th>conversion</th>\n",
       "    </tr>\n",
       "  </thead>\n",
       "  <tbody>\n",
       "    <tr>\n",
       "      <th>212</th>\n",
       "      <td>214</td>\n",
       "      <td>1</td>\n",
       "      <td>1.0</td>\n",
       "      <td>1.000000</td>\n",
       "    </tr>\n",
       "    <tr>\n",
       "      <th>308</th>\n",
       "      <td>425</td>\n",
       "      <td>1</td>\n",
       "      <td>1.0</td>\n",
       "      <td>1.000000</td>\n",
       "    </tr>\n",
       "    <tr>\n",
       "      <th>0</th>\n",
       "      <td>0</td>\n",
       "      <td>420645</td>\n",
       "      <td>240391.0</td>\n",
       "      <td>0.571482</td>\n",
       "    </tr>\n",
       "    <tr>\n",
       "      <th>254</th>\n",
       "      <td>276</td>\n",
       "      <td>2</td>\n",
       "      <td>1.0</td>\n",
       "      <td>0.500000</td>\n",
       "    </tr>\n",
       "    <tr>\n",
       "      <th>1</th>\n",
       "      <td>1</td>\n",
       "      <td>119687</td>\n",
       "      <td>57670.0</td>\n",
       "      <td>0.481840</td>\n",
       "    </tr>\n",
       "  </tbody>\n",
       "</table>\n",
       "</div>"
      ],
      "text/plain": [
       "     n_campaign_views  total_counts  install_counts  conversion\n",
       "212               214             1             1.0    1.000000\n",
       "308               425             1             1.0    1.000000\n",
       "0                   0        420645        240391.0    0.571482\n",
       "254               276             2             1.0    0.500000\n",
       "1                   1        119687         57670.0    0.481840"
      ]
     },
     "execution_count": 34,
     "metadata": {},
     "output_type": "execute_result"
    }
   ],
   "source": [
    "ins = pd.DataFrame(data_install.groupby('n_campaign_views')['is_install'].count().rename('install_counts')).reset_index()\n",
    "total = pd.DataFrame(data.groupby('n_campaign_views')['is_install'].count().rename('total_counts')).reset_index()\n",
    "counts_views = total.merge(ins, how = 'left', on = 'n_campaign_views').fillna(0.0)\n",
    "counts_views['conversion'] = counts_views['install_counts']/counts_views['total_counts']\n",
    "counts_views.sort_values('conversion', ascending = False).head()"
   ]
  },
  {
   "cell_type": "code",
   "execution_count": 31,
   "metadata": {
    "collapsed": false
   },
   "outputs": [],
   "source": [
    "ins = pd.DataFrame(data_install_im.groupby('n_campaign_views')['is_install'].count().rename('install_counts')).reset_index()\n",
    "total = pd.DataFrame(data_im.groupby('n_campaign_views')['is_install'].count().rename('total_counts')).reset_index()\n",
    "counts_views_im = total.merge(ins, how = 'left', on = 'n_campaign_views').fillna(0.0)\n",
    "counts_views_im['conversion'] = counts_views_im['install_counts']/counts_views_im['total_counts']\n",
    "#counts_views.sort_values('conversion', ascending = False)"
   ]
  },
  {
   "cell_type": "code",
   "execution_count": 36,
   "metadata": {
    "collapsed": false
   },
   "outputs": [
    {
     "data": {
      "text/plain": [
       "<matplotlib.text.Text at 0x132464710>"
      ]
     },
     "execution_count": 36,
     "metadata": {},
     "output_type": "execute_result"
    },
    {
     "data": {
      "image/png": "[encoded data removed]",
      "text/plain": [
       "<matplotlib.figure.Figure at 0x132395350>"
      ]
     },
     "metadata": {},
     "output_type": "display_data"
    }
   ],
   "source": [
    "plt.plot(range(counts_views.shape[0]), counts_views['conversion'],label='balanced')\n",
    "plt.plot(range(counts_views_im.shape[0]), counts_views_im['conversion'],label='imbalanced')\n",
    "plt.xlabel('n_campaign_views')\n",
    "plt.legend()\n",
    "plt.ylabel('Conversion Rate')"
   ]
  },
  {
   "cell_type": "markdown",
   "metadata": {},
   "source": [
    "### time zone"
   ]
  },
  {
   "cell_type": "code",
   "execution_count": 124,
   "metadata": {
    "collapsed": false
   },
   "outputs": [
    {
     "data": {
      "text/plain": [
       "0               Asia/Shanghai\n",
       "1               Asia/Makassar\n",
       "2             America/Toronto\n",
       "3                Asia/Bangkok\n",
       "4               Europe/Prague\n",
       "5               Asia/Shanghai\n",
       "6           America/Sao_Paulo\n",
       "7            America/New_York\n",
       "8            America/New_York\n",
       "9             America/Detroit\n",
       "10           America/Mazatlan\n",
       "11           America/New_York\n",
       "12            America/Halifax\n",
       "13              Europe/Berlin\n",
       "14             Asia/Jerusalem\n",
       "15           America/New_York\n",
       "16           America/New_York\n",
       "17           America/New_York\n",
       "18              Asia/Shanghai\n",
       "19               Asia/Kolkata\n",
       "20           Europe/Bucharest\n",
       "21                 Asia/Tokyo\n",
       "22          America/Sao_Paulo\n",
       "23            America/Chicago\n",
       "24               Europe/Paris\n",
       "25          America/Guayaquil\n",
       "26        America/Los_Angeles\n",
       "27           America/New_York\n",
       "28              Europe/London\n",
       "29           America/New_York\n",
       "                 ...         \n",
       "699970        America/Chicago\n",
       "699971          Europe/London\n",
       "699972          Europe/Berlin\n",
       "699973          Europe/London\n",
       "699974             Asia/Seoul\n",
       "699975          Europe/Madrid\n",
       "699976        America/Tijuana\n",
       "699977       America/New_York\n",
       "699978       Europe/Stockholm\n",
       "699979       America/Edmonton\n",
       "699980            Asia/Taipei\n",
       "699981            Europe/Rome\n",
       "699982       America/Santiago\n",
       "699983       America/New_York\n",
       "699984      Europe/Copenhagen\n",
       "699985        America/Chicago\n",
       "699986          Europe/Moscow\n",
       "699987         America/Denver\n",
       "699988          Europe/London\n",
       "699989        America/Caracas\n",
       "699990          Asia/Shanghai\n",
       "699991           Europe/Paris\n",
       "699992    America/Los_Angeles\n",
       "699993       America/New_York\n",
       "699994    America/Los_Angeles\n",
       "699995       America/New_York\n",
       "699996       Australia/Sydney\n",
       "699997           Europe/Paris\n",
       "699998        America/Chicago\n",
       "699999       America/New_York\n",
       "Name: time_zone, dtype: object"
      ]
     },
     "execution_count": 124,
     "metadata": {},
     "output_type": "execute_result"
    }
   ],
   "source": [
    "data['time_zone']"
   ]
  },
  {
   "cell_type": "code",
   "execution_count": 54,
   "metadata": {
    "collapsed": true
   },
   "outputs": [],
   "source": [
    "def get_continent(x):\n",
    "    if len(str(x).split('/')) > 1:\n",
    "        return str(x).split('/')[0]\n",
    "    else:\n",
    "        return None\n",
    "    \n",
    "def get_city(x):\n",
    "    if len(str(x).split('/')) > 1:\n",
    "        return str(x).split('/')[1]\n",
    "    else:\n",
    "        return str(x).split('/')[0]"
   ]
  },
  {
   "cell_type": "code",
   "execution_count": 55,
   "metadata": {
    "collapsed": false
   },
   "outputs": [
    {
     "name": "stderr",
     "output_type": "stream",
     "text": [
      "/Users/linda/anaconda2/lib/python2.7/site-packages/ipykernel/__main__.py:2: SettingWithCopyWarning: \n",
      "A value is trying to be set on a copy of a slice from a DataFrame.\n",
      "Try using .loc[row_indexer,col_indexer] = value instead\n",
      "\n",
      "See the caveats in the documentation: http://pandas.pydata.org/pandas-docs/stable/indexing.html#indexing-view-versus-copy\n",
      "  from ipykernel import kernelapp as app\n",
      "/Users/linda/anaconda2/lib/python2.7/site-packages/ipykernel/__main__.py:4: SettingWithCopyWarning: \n",
      "A value is trying to be set on a copy of a slice from a DataFrame.\n",
      "Try using .loc[row_indexer,col_indexer] = value instead\n",
      "\n",
      "See the caveats in the documentation: http://pandas.pydata.org/pandas-docs/stable/indexing.html#indexing-view-versus-copy\n"
     ]
    }
   ],
   "source": [
    "data['time_zone_continent'] = data['time_zone'].apply(lambda x: get_continent(x))\n",
    "data_install['time_zone_continent'] = data_install['time_zone'].apply(lambda x: get_continent(x))\n",
    "data_im['time_zone_continent'] = data_im['time_zone'].apply(lambda x: get_continent(x))\n",
    "data_install_im['time_zone_continent'] = data_install_im['time_zone'].apply(lambda x: get_continent(x))"
   ]
  },
  {
   "cell_type": "code",
   "execution_count": 166,
   "metadata": {
    "collapsed": false
   },
   "outputs": [
    {
     "name": "stderr",
     "output_type": "stream",
     "text": [
      "/Users/amiee/anaconda2/lib/python2.7/site-packages/ipykernel/__main__.py:2: SettingWithCopyWarning: \n",
      "A value is trying to be set on a copy of a slice from a DataFrame.\n",
      "Try using .loc[row_indexer,col_indexer] = value instead\n",
      "\n",
      "See the caveats in the documentation: http://pandas.pydata.org/pandas-docs/stable/indexing.html#indexing-view-versus-copy\n",
      "  from ipykernel import kernelapp as app\n"
     ]
    }
   ],
   "source": [
    "data[data['time_zone_continent'] == 'Indian'] = 'Asia'\n",
    "data_install[data_install['time_zone_continent'] == 'Indian']['time_zone_continent'] = 'Asia'"
   ]
  },
  {
   "cell_type": "code",
   "execution_count": 58,
   "metadata": {
    "collapsed": false
   },
   "outputs": [
    {
     "data": {
      "text/html": [
       "<div>\n",
       "<table border=\"1\" class=\"dataframe\">\n",
       "  <thead>\n",
       "    <tr style=\"text-align: right;\">\n",
       "      <th></th>\n",
       "      <th>time_zone_continent</th>\n",
       "      <th>total_counts</th>\n",
       "      <th>install_counts</th>\n",
       "      <th>conversion</th>\n",
       "    </tr>\n",
       "  </thead>\n",
       "  <tbody>\n",
       "    <tr>\n",
       "      <th>6</th>\n",
       "      <td>Australia</td>\n",
       "      <td>10555</td>\n",
       "      <td>6019.0</td>\n",
       "      <td>0.570251</td>\n",
       "    </tr>\n",
       "    <tr>\n",
       "      <th>1</th>\n",
       "      <td>America</td>\n",
       "      <td>310177</td>\n",
       "      <td>172348.0</td>\n",
       "      <td>0.555644</td>\n",
       "    </tr>\n",
       "    <tr>\n",
       "      <th>10</th>\n",
       "      <td>Pacific</td>\n",
       "      <td>4305</td>\n",
       "      <td>2094.0</td>\n",
       "      <td>0.486411</td>\n",
       "    </tr>\n",
       "    <tr>\n",
       "      <th>4</th>\n",
       "      <td>Asia</td>\n",
       "      <td>170653</td>\n",
       "      <td>79501.0</td>\n",
       "      <td>0.465863</td>\n",
       "    </tr>\n",
       "    <tr>\n",
       "      <th>8</th>\n",
       "      <td>Europe</td>\n",
       "      <td>190126</td>\n",
       "      <td>84159.0</td>\n",
       "      <td>0.442649</td>\n",
       "    </tr>\n",
       "    <tr>\n",
       "      <th>5</th>\n",
       "      <td>Atlantic</td>\n",
       "      <td>1471</td>\n",
       "      <td>629.0</td>\n",
       "      <td>0.427600</td>\n",
       "    </tr>\n",
       "    <tr>\n",
       "      <th>0</th>\n",
       "      <td>Africa</td>\n",
       "      <td>8488</td>\n",
       "      <td>3539.0</td>\n",
       "      <td>0.416942</td>\n",
       "    </tr>\n",
       "    <tr>\n",
       "      <th>7</th>\n",
       "      <td>Etc</td>\n",
       "      <td>3557</td>\n",
       "      <td>1481.0</td>\n",
       "      <td>0.416362</td>\n",
       "    </tr>\n",
       "    <tr>\n",
       "      <th>9</th>\n",
       "      <td>Indian</td>\n",
       "      <td>343</td>\n",
       "      <td>138.0</td>\n",
       "      <td>0.402332</td>\n",
       "    </tr>\n",
       "    <tr>\n",
       "      <th>2</th>\n",
       "      <td>Antarctica</td>\n",
       "      <td>108</td>\n",
       "      <td>43.0</td>\n",
       "      <td>0.398148</td>\n",
       "    </tr>\n",
       "    <tr>\n",
       "      <th>3</th>\n",
       "      <td>Arctic</td>\n",
       "      <td>1</td>\n",
       "      <td>0.0</td>\n",
       "      <td>0.000000</td>\n",
       "    </tr>\n",
       "  </tbody>\n",
       "</table>\n",
       "</div>"
      ],
      "text/plain": [
       "   time_zone_continent  total_counts  install_counts  conversion\n",
       "6            Australia         10555          6019.0    0.570251\n",
       "1              America        310177        172348.0    0.555644\n",
       "10             Pacific          4305          2094.0    0.486411\n",
       "4                 Asia        170653         79501.0    0.465863\n",
       "8               Europe        190126         84159.0    0.442649\n",
       "5             Atlantic          1471           629.0    0.427600\n",
       "0               Africa          8488          3539.0    0.416942\n",
       "7                  Etc          3557          1481.0    0.416362\n",
       "9               Indian           343           138.0    0.402332\n",
       "2           Antarctica           108            43.0    0.398148\n",
       "3               Arctic             1             0.0    0.000000"
      ]
     },
     "execution_count": 58,
     "metadata": {},
     "output_type": "execute_result"
    }
   ],
   "source": [
    "ins = pd.DataFrame(data_install.groupby('time_zone_continent')['is_install'].count().rename('install_counts')).reset_index()\n",
    "total = pd.DataFrame(data.groupby('time_zone_continent')['is_install'].count().rename('total_counts')).reset_index()\n",
    "counts_continent = total.merge(ins, how = 'left', on = 'time_zone_continent').fillna(0.0)\n",
    "counts_continent['conversion'] = counts_continent['install_counts']/counts_continent['total_counts']\n",
    "counts_continent.sort_values('conversion', ascending = False)"
   ]
  },
  {
   "cell_type": "code",
   "execution_count": 60,
   "metadata": {
    "collapsed": false
   },
   "outputs": [
    {
     "data": {
      "text/html": [
       "<div>\n",
       "<table border=\"1\" class=\"dataframe\">\n",
       "  <thead>\n",
       "    <tr style=\"text-align: right;\">\n",
       "      <th></th>\n",
       "      <th>time_zone_continent</th>\n",
       "      <th>total_counts</th>\n",
       "      <th>install_counts</th>\n",
       "      <th>conversion</th>\n",
       "    </tr>\n",
       "  </thead>\n",
       "  <tbody>\n",
       "    <tr>\n",
       "      <th>6</th>\n",
       "      <td>Australia</td>\n",
       "      <td>9525</td>\n",
       "      <td>2336.0</td>\n",
       "      <td>0.245249</td>\n",
       "    </tr>\n",
       "    <tr>\n",
       "      <th>1</th>\n",
       "      <td>America</td>\n",
       "      <td>289400</td>\n",
       "      <td>66602.0</td>\n",
       "      <td>0.230138</td>\n",
       "    </tr>\n",
       "    <tr>\n",
       "      <th>10</th>\n",
       "      <td>Pacific</td>\n",
       "      <td>4338</td>\n",
       "      <td>771.0</td>\n",
       "      <td>0.177732</td>\n",
       "    </tr>\n",
       "    <tr>\n",
       "      <th>4</th>\n",
       "      <td>Asia</td>\n",
       "      <td>176421</td>\n",
       "      <td>30783.0</td>\n",
       "      <td>0.174486</td>\n",
       "    </tr>\n",
       "    <tr>\n",
       "      <th>8</th>\n",
       "      <td>Europe</td>\n",
       "      <td>204531</td>\n",
       "      <td>32444.0</td>\n",
       "      <td>0.158626</td>\n",
       "    </tr>\n",
       "    <tr>\n",
       "      <th>2</th>\n",
       "      <td>Antarctica</td>\n",
       "      <td>133</td>\n",
       "      <td>20.0</td>\n",
       "      <td>0.150376</td>\n",
       "    </tr>\n",
       "    <tr>\n",
       "      <th>9</th>\n",
       "      <td>Indian</td>\n",
       "      <td>434</td>\n",
       "      <td>63.0</td>\n",
       "      <td>0.145161</td>\n",
       "    </tr>\n",
       "    <tr>\n",
       "      <th>5</th>\n",
       "      <td>Atlantic</td>\n",
       "      <td>1628</td>\n",
       "      <td>235.0</td>\n",
       "      <td>0.144349</td>\n",
       "    </tr>\n",
       "    <tr>\n",
       "      <th>0</th>\n",
       "      <td>Africa</td>\n",
       "      <td>9346</td>\n",
       "      <td>1269.0</td>\n",
       "      <td>0.135780</td>\n",
       "    </tr>\n",
       "    <tr>\n",
       "      <th>7</th>\n",
       "      <td>Etc</td>\n",
       "      <td>3974</td>\n",
       "      <td>514.0</td>\n",
       "      <td>0.129341</td>\n",
       "    </tr>\n",
       "    <tr>\n",
       "      <th>3</th>\n",
       "      <td>Arctic</td>\n",
       "      <td>2</td>\n",
       "      <td>0.0</td>\n",
       "      <td>0.000000</td>\n",
       "    </tr>\n",
       "  </tbody>\n",
       "</table>\n",
       "</div>"
      ],
      "text/plain": [
       "   time_zone_continent  total_counts  install_counts  conversion\n",
       "6            Australia          9525          2336.0    0.245249\n",
       "1              America        289400         66602.0    0.230138\n",
       "10             Pacific          4338           771.0    0.177732\n",
       "4                 Asia        176421         30783.0    0.174486\n",
       "8               Europe        204531         32444.0    0.158626\n",
       "2           Antarctica           133            20.0    0.150376\n",
       "9               Indian           434            63.0    0.145161\n",
       "5             Atlantic          1628           235.0    0.144349\n",
       "0               Africa          9346          1269.0    0.135780\n",
       "7                  Etc          3974           514.0    0.129341\n",
       "3               Arctic             2             0.0    0.000000"
      ]
     },
     "execution_count": 60,
     "metadata": {},
     "output_type": "execute_result"
    }
   ],
   "source": [
    "ins_im = pd.DataFrame(data_install_im.groupby('time_zone_continent')['is_install'].count().rename('install_counts')).reset_index()\n",
    "total_im = pd.DataFrame(data_im.groupby('time_zone_continent')['is_install'].count().rename('total_counts')).reset_index()\n",
    "counts_continent_im = total_im.merge(ins_im, how = 'left', on = 'time_zone_continent').fillna(0.0)\n",
    "counts_continent_im['conversion'] = counts_continent_im['install_counts']/counts_continent_im['total_counts']\n",
    "counts_continent_im.sort_values('conversion', ascending = False)"
   ]
  },
  {
   "cell_type": "code",
   "execution_count": 59,
   "metadata": {
    "collapsed": false
   },
   "outputs": [
    {
     "data": {
      "text/plain": [
       "<matplotlib.axes._subplots.AxesSubplot at 0x117666950>"
      ]
     },
     "execution_count": 59,
     "metadata": {},
     "output_type": "execute_result"
    },
    {
     "data": {
      "image/png": "[encoded data removed]",
      "text/plain": [
       "<matplotlib.figure.Figure at 0x12f0b3d50>"
      ]
     },
     "metadata": {},
     "output_type": "display_data"
    }
   ],
   "source": [
    "sns.stripplot(x=\"time_zone_continent\", y=\"conversion\", data=counts_continent,size=10)"
   ]
  },
  {
   "cell_type": "code",
   "execution_count": 61,
   "metadata": {
    "collapsed": false
   },
   "outputs": [
    {
     "data": {
      "text/plain": [
       "<matplotlib.axes._subplots.AxesSubplot at 0x125419950>"
      ]
     },
     "execution_count": 61,
     "metadata": {},
     "output_type": "execute_result"
    },
    {
     "data": {
      "image/png": "[encoded data removed]",
      "text/plain": [
       "<matplotlib.figure.Figure at 0x1286cb890>"
      ]
     },
     "metadata": {},
     "output_type": "display_data"
    }
   ],
   "source": [
    "sns.stripplot(x=\"time_zone_continent\", y=\"conversion\", data=counts_continent_im,size=10)"
   ]
  },
  {
   "cell_type": "code",
   "execution_count": null,
   "metadata": {
    "collapsed": true
   },
   "outputs": [],
   "source": []
  }
 ],
 "metadata": {
  "anaconda-cloud": {},
  "kernelspec": {
   "display_name": "Python [conda root]",
   "language": "python",
   "name": "conda-root-py"
  },
  "language_info": {
   "codemirror_mode": {
    "name": "ipython",
    "version": 2
   },
   "file_extension": ".py",
   "mimetype": "text/x-python",
   "name": "python",
   "nbconvert_exporter": "python",
   "pygments_lexer": "ipython2",
   "version": "2.7.12"
  }
 },
 "nbformat": 4,
 "nbformat_minor": 1
}
