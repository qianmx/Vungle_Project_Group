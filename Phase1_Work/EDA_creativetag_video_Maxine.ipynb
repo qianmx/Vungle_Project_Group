{
 "cells": [
  {
   "cell_type": "markdown",
   "metadata": {},
   "source": [
    "### 1. Import Libraries"
   ]
  },
  {
   "cell_type": "code",
   "execution_count": 4,
   "metadata": {
    "collapsed": true
   },
   "outputs": [],
   "source": [
    "import sys\n",
    "reload(sys)\n",
    "sys.setdefaultencoding('utf-8')\n",
    "import numpy as np\n",
    "import pandas as pd\n",
    "import matplotlib.pyplot as plt\n",
    "from scipy.stats import *\n",
    "import seaborn as sns"
   ]
  },
  {
   "cell_type": "markdown",
   "metadata": {},
   "source": [
    "### 2. Readin Data"
   ]
  },
  {
   "cell_type": "code",
   "execution_count": 5,
   "metadata": {
    "collapsed": false
   },
   "outputs": [],
   "source": [
    "# transaction table\n",
    "df_tran = pd.read_table('../data/000_sample1.gz',\n",
    "                       compression='gzip',\n",
    "                       sep='\\t',\n",
    "                       quotechar='\"',\n",
    "                       error_bad_lines=False)"
   ]
  },
  {
   "cell_type": "code",
   "execution_count": 11,
   "metadata": {
    "collapsed": false
   },
   "outputs": [],
   "source": [
    "# creative tag table\n",
    "df_creative_tag = pd.read_table('../data/creative_tags000',\n",
    "                       #compression='gzip',\n",
    "                       sep='|',\n",
    "                       quotechar='\"',\n",
    "                       error_bad_lines=False,header=None)\n",
    "df_creative_tag.columns = ['creative_id','creative_tag']"
   ]
  },
  {
   "cell_type": "code",
   "execution_count": 12,
   "metadata": {
    "collapsed": true
   },
   "outputs": [],
   "source": [
    "# vidoe table\n",
    "df_video = pd.read_table('../data/video_files000',\n",
    "                       #compression='gzip',\n",
    "                       sep='|',\n",
    "                       quotechar='\"',\n",
    "                       error_bad_lines=False,header=None)\n",
    "df_video.columns = ['video_id','size','id','width','height','duration']"
   ]
  },
  {
   "cell_type": "markdown",
   "metadata": {},
   "source": [
    "### 3. Join Tables"
   ]
  },
  {
   "cell_type": "code",
   "execution_count": 17,
   "metadata": {
    "collapsed": false
   },
   "outputs": [],
   "source": [
    "df_tran['is_install'] = df_tran['timestamp_at_install'].notnull() * 1\n",
    "df_tran_sub = df_tran.loc[:,['is_install','creative_id','time_of_this_impression','video_id']]"
   ]
  },
  {
   "cell_type": "code",
   "execution_count": 18,
   "metadata": {
    "collapsed": false
   },
   "outputs": [],
   "source": [
    "df_tran_tag = pd.merge(df_tran_sub, df_creative_tag, how='left', on='creative_id', left_on=None, right_on=None,\n",
    "         left_index=False, right_index=False, sort=True,\n",
    "         suffixes=('_x', '_y'), copy=True, indicator=False)\n",
    "df_tran_tag_video = pd.merge(df_tran_tag, df_video, how='left', on='video_id', left_on=None, right_on=None,\n",
    "         left_index=False, right_index=False, sort=True,\n",
    "         suffixes=('_x', '_y'), copy=True, indicator=False)"
   ]
  },
  {
   "cell_type": "code",
   "execution_count": 20,
   "metadata": {
    "collapsed": false
   },
   "outputs": [
    {
     "data": {
      "text/plain": [
       "is_install                        0\n",
       "creative_id                       0\n",
       "time_of_this_impression          14\n",
       "video_id                   35405200\n",
       "creative_tag                  19424\n",
       "size                       35405200\n",
       "id                         35405200\n",
       "width                      35405200\n",
       "height                     35405200\n",
       "duration                   35405200\n",
       "dtype: int64"
      ]
     },
     "execution_count": 20,
     "metadata": {},
     "output_type": "execute_result"
    }
   ],
   "source": [
    "# check NA\n",
    "df_tran_tag_video.isnull().sum()"
   ]
  },
  {
   "cell_type": "code",
   "execution_count": 65,
   "metadata": {
    "collapsed": false
   },
   "outputs": [],
   "source": [
    "# for col in df_tran_tag_video.columns:\n",
    "#     print pd.DataFrame(df_tran_tag_video)[col].unqiue()"
   ]
  },
  {
   "cell_type": "code",
   "execution_count": 64,
   "metadata": {
    "collapsed": false
   },
   "outputs": [],
   "source": [
    "# pd.DataFrame(df_tran_tag_video).shape()"
   ]
  },
  {
   "cell_type": "markdown",
   "metadata": {},
   "source": [
    "### 4. Continous Variables"
   ]
  },
  {
   "cell_type": "code",
   "execution_count": 36,
   "metadata": {
    "collapsed": true
   },
   "outputs": [],
   "source": [
    "# continous_EDA function\n",
    "def continous_EDA(col,df):\n",
    "    group0 = df[df['is_install']==0][col].dropna()\n",
    "    group1 = df[df['is_install']==1][col].dropna()\n",
    "    \n",
    "    # T-test\n",
    "    print 't-test'\n",
    "    p = ttest_ind(group0, group1, axis=0, equal_var=False)\n",
    "\n",
    "    # histogram of two groups\n",
    "    print 'Distribution of two groups'\n",
    "    fig, ax = plt.subplots()\n",
    "    i = 0\n",
    "    for a in [group0, group1]:\n",
    "        sns.distplot(a, ax=ax, kde=False,label=str(i))\n",
    "        i += 1\n",
    "    ax.legend(loc=2,prop={'size':7})\n",
    "    plt.show()\n",
    "    \n",
    "    # Box-plot\n",
    "    print 'Box-plot'\n",
    "    ax = sns.boxplot(x=\"is_install\", y=col, data=df)\n",
    "    plt.show()\n",
    "    return p"
   ]
  },
  {
   "cell_type": "code",
   "execution_count": 38,
   "metadata": {
    "collapsed": false
   },
   "outputs": [],
   "source": [
    "# cont_cols = ['size','width','height','duration']\n",
    "# for col in cont_cols:\n",
    "#     print '-----------Feature:', col,'----------------'\n",
    "#     continous_EDA(col,df_tran_tag_video)\n",
    "#     p_lst.append(p)\n",
    "#     print '---------------------------------\\n'"
   ]
  },
  {
   "cell_type": "code",
   "execution_count": null,
   "metadata": {
    "collapsed": true
   },
   "outputs": [],
   "source": [
    "# significant_cols = [col for col,p in zip(cont_cols,p_lst) if p<0.05]\n",
    "# 'significant columns:', significant_cols"
   ]
  },
  {
   "cell_type": "markdown",
   "metadata": {},
   "source": [
    "### 6. Categorical Variables"
   ]
  },
  {
   "cell_type": "code",
   "execution_count": 59,
   "metadata": {
    "collapsed": true
   },
   "outputs": [],
   "source": [
    "cat_cols = ['creative_tag']"
   ]
  },
  {
   "cell_type": "code",
   "execution_count": 60,
   "metadata": {
    "collapsed": false
   },
   "outputs": [],
   "source": [
    "def categotical_EDA(col, df):\n",
    "    count = pd.crosstab(df['is_install'],df[col])\n",
    "    count = count.iloc[:,0:]\n",
    "    pcts = count.div(count.sum(1).astype(float),axis=0)\n",
    "    g, p, dof, expctd = chi2_contingency(pcts.as_matrix())\n",
    "    \n",
    "    ax = pcts.plot(kind='barh',stacked=True, alpha=0.5, figsize=(8,6))\n",
    "    ax.set_xlabel(\"Percentage\", fontsize=12)\n",
    "    ax.set_ylabel(\"Is Install\", fontsize=12)\n",
    "    ax.legend(loc=2,prop={'size':7})\n",
    "    \n",
    "    plt.show()\n",
    "    return p"
   ]
  },
  {
   "cell_type": "code",
   "execution_count": 61,
   "metadata": {
    "collapsed": false
   },
   "outputs": [
    {
     "data": {
      "image/png": "[encoded data removed]",
      "text/plain": [
       "<matplotlib.figure.Figure at 0x1181c08d0>"
      ]
     },
     "metadata": {},
     "output_type": "display_data"
    }
   ],
   "source": [
    "p_lst = []\n",
    "for col in cat_cols:\n",
    "    print '-----------Feature:', col,'----------------'\n",
    "    p = categotical_EDA(col,df_tran_tag_video)\n",
    "    p_lst.append(p)\n",
    "    print '---------------------------------\\n'"
   ]
  },
  {
   "cell_type": "code",
   "execution_count": 63,
   "metadata": {
    "collapsed": false
   },
   "outputs": [
    {
     "data": {
      "text/plain": [
       "('significant columns:', [])"
      ]
     },
     "execution_count": 63,
     "metadata": {},
     "output_type": "execute_result"
    }
   ],
   "source": [
    "significant_cols = [col for col,p in zip(cat_cols,p_lst) if p<0.05]\n",
    "'significant columns:', significant_cols"
   ]
  },
  {
   "cell_type": "markdown",
   "metadata": {},
   "source": [
    "### 7. Conclusion\n",
    "Useful Features:\n",
    "* Continous Variable: []\n"
   ]
  },
  {
   "cell_type": "code",
   "execution_count": null,
   "metadata": {
    "collapsed": true
   },
   "outputs": [],
   "source": []
  }
 ],
 "metadata": {
  "anaconda-cloud": {},
  "kernelspec": {
   "display_name": "Python [conda root]",
   "language": "python",
   "name": "conda-root-py"
  },
  "language_info": {
   "codemirror_mode": {
    "name": "ipython",
    "version": 2
   },
   "file_extension": ".py",
   "mimetype": "text/x-python",
   "name": "python",
   "nbconvert_exporter": "python",
   "pygments_lexer": "ipython2",
   "version": "2.7.12"
  }
 },
 "nbformat": 4,
 "nbformat_minor": 1
}
