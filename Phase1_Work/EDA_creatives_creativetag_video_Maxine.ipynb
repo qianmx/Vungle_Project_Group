{
 "cells": [
  {
   "cell_type": "markdown",
   "metadata": {},
   "source": [
    "### 1. Import Libraries"
   ]
  },
  {
   "cell_type": "code",
   "execution_count": 4,
   "metadata": {
    "collapsed": true
   },
   "outputs": [],
   "source": [
    "import sys\n",
    "reload(sys)\n",
    "sys.setdefaultencoding('utf-8')\n",
    "import numpy as np\n",
    "import pandas as pd\n",
    "import matplotlib.pyplot as plt\n",
    "from scipy.stats import *\n",
    "import seaborn as sns"
   ]
  },
  {
   "cell_type": "markdown",
   "metadata": {},
   "source": [
    "### 2. Readin Data"
   ]
  },
  {
   "cell_type": "code",
   "execution_count": 5,
   "metadata": {
    "collapsed": false
   },
   "outputs": [
    {
     "ename": "IndentationError",
     "evalue": "expected an indented block (<ipython-input-5-dfbbdcb752be>, line 3)",
     "output_type": "error",
     "traceback": [
      "\u001b[0;36m  File \u001b[0;32m\"<ipython-input-5-dfbbdcb752be>\"\u001b[0;36m, line \u001b[0;32m3\u001b[0m\n\u001b[0;31m    \u001b[0m\n\u001b[0m    ^\u001b[0m\n\u001b[0;31mIndentationError\u001b[0m\u001b[0;31m:\u001b[0m expected an indented block\n"
     ]
    }
   ],
   "source": [
    "def combine_meta_data(tran_url,url_,url_meta_android,url_application):\n",
    "    \n",
    "    "
   ]
  },
  {
   "cell_type": "code",
   "execution_count": 6,
   "metadata": {
    "collapsed": false
   },
   "outputs": [],
   "source": [
    "# transaction table\n",
    "df_tran = pd.read_table('../data/000_sample1.gz',\n",
    "                       compression='gzip',\n",
    "                       sep='\\t',\n",
    "                       quotechar='\"',\n",
    "                       error_bad_lines=False)"
   ]
  },
  {
   "cell_type": "code",
   "execution_count": 7,
   "metadata": {
    "collapsed": false
   },
   "outputs": [],
   "source": [
    "# creative table\n",
    "df_creative = pd.read_table('../data/creatives000',\n",
    "                       #compression='gzip',\n",
    "                       sep='|',\n",
    "                       quotechar='\"',\n",
    "                       error_bad_lines=False,header=None)\n",
    "df_creative.columns = ['creative_id','created_at','application_id','name','video_id',\n",
    "                       'is_streaming','language','enforce_language_match','device_type_whitelist',\n",
    "                      'delivery_frequency_cap','time_to_show_countdown','time_to_show_close_button',\n",
    "                      'cloudux_template_id']"
   ]
  },
  {
   "cell_type": "code",
   "execution_count": 8,
   "metadata": {
    "collapsed": true
   },
   "outputs": [],
   "source": [
    "# creative tag table\n",
    "df_creative_tag = pd.read_table('../data/creative_tags000',\n",
    "                       #compression='gzip',\n",
    "                       sep='|',\n",
    "                       quotechar='\"',\n",
    "                       error_bad_lines=False,header=None)\n",
    "df_creative_tag.columns = ['creative_id','creative_tag']"
   ]
  },
  {
   "cell_type": "code",
   "execution_count": 9,
   "metadata": {
    "collapsed": true
   },
   "outputs": [],
   "source": [
    "# vidoe table\n",
    "df_video = pd.read_table('../data/video_files000',\n",
    "                       #compression='gzip',\n",
    "                       sep='|',\n",
    "                       quotechar='\"',\n",
    "                       error_bad_lines=False,header=None)\n",
    "df_video.columns = ['video_id','size','id','width','height','duration']"
   ]
  },
  {
   "cell_type": "markdown",
   "metadata": {},
   "source": [
    "### 3. Join Tables"
   ]
  },
  {
   "cell_type": "code",
   "execution_count": 10,
   "metadata": {
    "collapsed": false
   },
   "outputs": [],
   "source": [
    "df_tran['is_install'] = df_tran['timestamp_at_install'].notnull() * 1\n",
    "df_tran_sub = df_tran.loc[:,['is_install','creative_id','time_of_this_impression']]"
   ]
  },
  {
   "cell_type": "code",
   "execution_count": 11,
   "metadata": {
    "collapsed": false
   },
   "outputs": [],
   "source": [
    "df_tran_ad = pd.merge(df_tran_sub, df_creative, how='left', on='creative_id', left_on=None, right_on=None,\n",
    "         left_index=False, right_index=False, sort=True,\n",
    "         suffixes=('_x', '_y'), copy=True, indicator=False)\n",
    "df_tran_ad_tag = pd.merge(df_tran_ad, df_creative_tag, how='left', on='creative_id', left_on=None, right_on=None,\n",
    "         left_index=False, right_index=False, sort=True,\n",
    "         suffixes=('_x', '_y'), copy=True, indicator=False)\n",
    "df_tran_ad_tag_video = pd.merge(df_tran_ad_tag, df_video, how='left', on='video_id', left_on=None, right_on=None,\n",
    "         left_index=False, right_index=False, sort=True,\n",
    "         suffixes=('_x', '_y'), copy=True, indicator=False)"
   ]
  },
  {
   "cell_type": "code",
   "execution_count": 12,
   "metadata": {
    "collapsed": false
   },
   "outputs": [],
   "source": [
    "# check NA\n",
    "# df_tran_ad_tag_video.isnull().sum()"
   ]
  },
  {
   "cell_type": "code",
   "execution_count": 13,
   "metadata": {
    "collapsed": false
   },
   "outputs": [
    {
     "data": {
      "text/plain": [
       "Index([u'is_install', u'creative_id', u'time_of_this_impression',\n",
       "       u'created_at', u'application_id', u'name', u'video_id', u'is_streaming',\n",
       "       u'language', u'enforce_language_match', u'device_type_whitelist',\n",
       "       u'delivery_frequency_cap', u'time_to_show_countdown',\n",
       "       u'time_to_show_close_button', u'cloudux_template_id', u'creative_tag',\n",
       "       u'size', u'id', u'width', u'height', u'duration'],\n",
       "      dtype='object')"
      ]
     },
     "execution_count": 13,
     "metadata": {},
     "output_type": "execute_result"
    }
   ],
   "source": [
    "df_tran_ad_tag_video.columns"
   ]
  },
  {
   "cell_type": "markdown",
   "metadata": {},
   "source": [
    "### 4. Add Y & Clean Data"
   ]
  },
  {
   "cell_type": "code",
   "execution_count": null,
   "metadata": {
    "collapsed": false
   },
   "outputs": [],
   "source": [
    "df_tran_ad_tag_video['language'] = df_tran_ad_tag_video['language'].apply(lambda x: str(x).lower().split('-')[0])\n",
    "df_tran_ad_tag_video['is_install'] = df_tran_ad_tag_video['is_install'].astype('category')"
   ]
  },
  {
   "cell_type": "markdown",
   "metadata": {},
   "source": [
    "### 5. Create new features"
   ]
  },
  {
   "cell_type": "markdown",
   "metadata": {
    "collapsed": false
   },
   "source": [
    "#### Ad Age"
   ]
  },
  {
   "cell_type": "code",
   "execution_count": null,
   "metadata": {
    "collapsed": false
   },
   "outputs": [],
   "source": [
    "df_tran_ad_tag_video['time_delta'] = pd.to_datetime(df_tran_ad_tag_video['time_of_this_impression'])-pd.to_datetime(df_tran_ad_tag_video['created_at'])"
   ]
  },
  {
   "cell_type": "code",
   "execution_count": null,
   "metadata": {
    "collapsed": false
   },
   "outputs": [],
   "source": [
    "def to_day(x):\n",
    "    if isinstance(x,pd.tslib.Timedelta):\n",
    "        return x.days\n",
    "    else:\n",
    "        return np.nan"
   ]
  },
  {
   "cell_type": "code",
   "execution_count": null,
   "metadata": {
    "collapsed": false
   },
   "outputs": [],
   "source": [
    "df_tran_ad_tag_video['time_delta_days'] = df_tran_ad_tag_video['time_delta'].apply(to_day)"
   ]
  },
  {
   "cell_type": "code",
   "execution_count": null,
   "metadata": {
    "collapsed": true
   },
   "outputs": [],
   "source": [
    "df_tran_ad_tag_video['time_delta_days'] = df_tran_ad_tag_video['time_delta'].dt.day"
   ]
  },
  {
   "cell_type": "markdown",
   "metadata": {},
   "source": [
    "### 5. Continous Variables"
   ]
  },
  {
   "cell_type": "code",
   "execution_count": null,
   "metadata": {
    "collapsed": true
   },
   "outputs": [],
   "source": [
    "# continous_EDA function\n",
    "def continous_EDA(col,df):\n",
    "    group0 = df[df['is_install']==0][col].dropna()\n",
    "    group1 = df[df['is_install']==1][col].dropna()\n",
    "    \n",
    "    # T-test\n",
    "    print 't-test'\n",
    "    p = ttest_ind(group0, group1, axis=0, equal_var=False)\n",
    "\n",
    "    # histogram of two groups\n",
    "    print 'Distribution of two groups'\n",
    "    fig, ax = plt.subplots()\n",
    "    i = 0\n",
    "    for a in [group0, group1]:\n",
    "        sns.distplot(a, ax=ax, kde=False,label=str(i))\n",
    "        i += 1\n",
    "    ax.legend(loc=2,prop={'size':7})\n",
    "    plt.show()\n",
    "    \n",
    "    # Box-plot\n",
    "    print 'Box-plot'\n",
    "    ax = sns.boxplot(x=\"is_install\", y=col, data=df)\n",
    "    plt.show()\n",
    "    return p"
   ]
  },
  {
   "cell_type": "code",
   "execution_count": null,
   "metadata": {
    "collapsed": true
   },
   "outputs": [],
   "source": [
    "cont_cols = ['time_delta_days','size','width','height','duration']\n",
    "for col in cont_cols:\n",
    "    print '-----------Feature:', col,'----------------'\n",
    "    continous_EDA(col,df_tran_ad_tag_vide)\n",
    "    p_lst.append(p)\n",
    "    print '---------------------------------\\n'"
   ]
  },
  {
   "cell_type": "code",
   "execution_count": null,
   "metadata": {
    "collapsed": true
   },
   "outputs": [],
   "source": [
    "significant_cols = [col for col,p in zip(cont_cols,p_lst) if p<0.05]\n",
    "'significant columns:', significant_cols"
   ]
  },
  {
   "cell_type": "markdown",
   "metadata": {},
   "source": [
    "### 6. Categorical Variables"
   ]
  },
  {
   "cell_type": "code",
   "execution_count": null,
   "metadata": {
    "collapsed": true
   },
   "outputs": [],
   "source": [
    "cat_cols = ['is_streaming','language','enforce_language_match','device_type_whitelist',\n",
    "            'delivery_frequency_cap','time_to_show_countdown','time_to_show_close_button',\n",
    "            'cloudux_template_id','creative_tag']"
   ]
  },
  {
   "cell_type": "code",
   "execution_count": null,
   "metadata": {
    "collapsed": false
   },
   "outputs": [],
   "source": [
    "def categotical_EDA(col, df):\n",
    "    count = pd.crosstab(df['is_install'],df[col])\n",
    "    count = count.iloc[:,0:]\n",
    "    pcts = count.div(count.sum(1).astype(float),axis=0)\n",
    "    g, p, dof, expctd = chi2_contingency(pcts.as_matrix())\n",
    "    \n",
    "    ax = pcts.plot(kind='barh',stacked=True, alpha=0.5, figsize=(8,6))\n",
    "    ax.set_xlabel(\"Percentage\", fontsize=12)\n",
    "    ax.set_ylabel(\"Is Install\", fontsize=12)\n",
    "    ax.legend(loc=2,prop={'size':7})\n",
    "    \n",
    "    plt.show()\n",
    "    return p"
   ]
  },
  {
   "cell_type": "code",
   "execution_count": null,
   "metadata": {
    "collapsed": false
   },
   "outputs": [],
   "source": [
    "p_lst = []\n",
    "for col in cat_cols:\n",
    "    print '-----------Feature:', col,'----------------'\n",
    "    p = categotical_EDA(col,df_tran_ad_tag_vide)\n",
    "    p_lst.append(p)\n",
    "    print '---------------------------------\\n'"
   ]
  },
  {
   "cell_type": "code",
   "execution_count": null,
   "metadata": {
    "collapsed": false
   },
   "outputs": [],
   "source": [
    "significant_cols = [col for col,p in zip(cat_cols,p_lst) if p<0.05]\n",
    "'significant columns:', significant_cols"
   ]
  },
  {
   "cell_type": "markdown",
   "metadata": {},
   "source": [
    "### 7. Conclusion\n",
    "Useful Features:\n",
    "* Continous Variable: ['time_delta_days']\n"
   ]
  },
  {
   "cell_type": "code",
   "execution_count": null,
   "metadata": {
    "collapsed": true
   },
   "outputs": [],
   "source": []
  }
 ],
 "metadata": {
  "anaconda-cloud": {},
  "kernelspec": {
   "display_name": "Python [conda root]",
   "language": "python",
   "name": "conda-root-py"
  },
  "language_info": {
   "codemirror_mode": {
    "name": "ipython",
    "version": 2
   },
   "file_extension": ".py",
   "mimetype": "text/x-python",
   "name": "python",
   "nbconvert_exporter": "python",
   "pygments_lexer": "ipython2",
   "version": "2.7.12"
  }
 },
 "nbformat": 4,
 "nbformat_minor": 1
}
