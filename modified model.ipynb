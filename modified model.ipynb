{
 "cells": [
  {
   "cell_type": "code",
   "execution_count": 1,
   "metadata": {
    "collapsed": false
   },
   "outputs": [
    {
     "name": "stderr",
     "output_type": "stream",
     "text": [
      "/Users/linda/anaconda2/lib/python2.7/site-packages/sklearn/cross_validation.py:44: DeprecationWarning: This module was deprecated in version 0.18 in favor of the model_selection module into which all the refactored classes and functions are moved. Also note that the interface of the new CV iterators are different from that of this module. This module will be removed in 0.20.\n",
      "  \"This module will be removed in 0.20.\", DeprecationWarning)\n",
      "/Users/linda/anaconda2/lib/python2.7/site-packages/sklearn/grid_search.py:43: DeprecationWarning: This module was deprecated in version 0.18 in favor of the model_selection module into which all the refactored classes and functions are moved. This module will be removed in 0.20.\n",
      "  DeprecationWarning)\n"
     ]
    }
   ],
   "source": [
    "import pandas as pd\n",
    "import numpy as np\n",
    "from Merge import *\n",
    "from sklearn.cross_validation import train_test_split\n",
    "from model_builder import *"
   ]
  },
  {
   "cell_type": "code",
   "execution_count": 14,
   "metadata": {
    "collapsed": false
   },
   "outputs": [],
   "source": [
    "#load data\n",
    "train= pd.read_csv('balanced_data.csv')\n",
    "\n",
    "test= pd.read_csv('imbalanced_data.csv') \n",
    "    \n",
    "train['is_install'] = train['timestamp_at_install'].notnull() * 1\n",
    "train.reset_index(drop=True, inplace=True)\n",
    "test['is_install'] = test['timestamp_at_install'].notnull() * 1\n",
    "test.reset_index(drop=True, inplace=True)\n",
    "\n"
   ]
  },
  {
   "cell_type": "code",
   "execution_count": 15,
   "metadata": {
    "collapsed": false
   },
   "outputs": [],
   "source": [
    "#subset the features that we are interested\n",
    "base_features =['publisher_app_store_id', 'advertiser_app_store_id','country_code', 'n_campaign_views','device_screen_height', 'time_of_last_delivery_any_installed_app','device_os_version', 'device_platform']\n",
    "features_other_table= ['time_to_show_countdown']\n",
    "merge_id = ['creative_id']\n",
    "yX_test = test[['is_install']+base_features+merge_id].copy()\n",
    "yX_train = train[['is_install']+base_features+merge_id].copy()"
   ]
  },
  {
   "cell_type": "code",
   "execution_count": 16,
   "metadata": {
    "collapsed": true
   },
   "outputs": [],
   "source": [
    "#join table\n",
    "iso = 'metadata/ios_apps_metadata000'\n",
    "android = 'metadata/android_apps_metadata000'\n",
    "application = 'metadata/applications000'\n",
    "meta_tuple= (iso,android,application)\n",
    "creative_tuple = ('metadata/creatives000','metadata/creative_tags000',\\\n",
    "                 'metadata/video_files000')\n",
    "yX_test =combine_meta_data(yX_test,meta_tuple,creative_tuple,option='creative')\n",
    "yX_train =combine_meta_data(yX_train,meta_tuple,creative_tuple,option='creative')"
   ]
  },
  {
   "cell_type": "code",
   "execution_count": 17,
   "metadata": {
    "collapsed": false
   },
   "outputs": [],
   "source": [
    "base_features =['publisher_app_store_id', 'advertiser_app_store_id','country_code', 'n_campaign_views','device_screen_height', 'time_of_last_delivery_any_installed_app','device_os_version', 'device_platform']\n",
    "features_other_table= ['time_to_show_countdown']\n",
    "merge_id = ['creative_id']\n",
    "yX_test = yX_test[['is_install']+base_features+features_other_table].copy()\n",
    "yX_train = yX_train[['is_install']+base_features+features_other_table].copy()"
   ]
  },
  {
   "cell_type": "code",
   "execution_count": 18,
   "metadata": {
    "collapsed": false
   },
   "outputs": [],
   "source": [
    "numerical_list =[]\n",
    "string_list =['publisher_app_store_id','advertiser_app_store_id','country_code',\n",
    "              'device_os_version','device_platform']\n",
    "int_list =['n_campaign_views','device_screen_height']\n",
    "timestamp_list =['time_to_show_countdown','time_of_last_delivery_any_installed_app']\n",
    "#list_col = ['languages','genre_ids','genres','supported_devices','screenshot_urls','categories','device_type_whitelist','creative_tag']\n"
   ]
  },
  {
   "cell_type": "code",
   "execution_count": 19,
   "metadata": {
    "collapsed": false
   },
   "outputs": [],
   "source": [
    "#clean data\n",
    "a = preprocessing_data(yX_test,numerical_list,string_list,int_list,timestamp_list)\n",
    "b = preprocessing_data(yX_train,numerical_list,string_list,int_list,timestamp_list)"
   ]
  },
  {
   "cell_type": "code",
   "execution_count": 26,
   "metadata": {
    "collapsed": false
   },
   "outputs": [],
   "source": [
    "##you can't put integer column into this\n",
    "## if you add something, please change the preprocessing function as well.\n",
    "def run_model(train,test,col):\n",
    "    cont_features_pc = []\n",
    "    cat_interactions_pc = []\n",
    "    cat_features_pc =col\n",
    "    other=[]\n",
    "    y=['is_install']\n",
    "\n",
    "    X_train, y_train, X_test, y_test = train.iloc[:,1:], train.iloc[:,0], test.iloc[:,1:], test.iloc[:,0]\n",
    "    # Feature Hashing\n",
    "\n",
    "    feature_creator = FeatureCreator()\n",
    "    design_matrix_transformer = FeatureHasher(18, cat_features_pc, None, cat_interactions_pc, store_fmap=True) # You can experiment with hasher bits (we used 18 here)\n",
    "\n",
    "    X_test = feature_creator.transform(X_test, inplace=True)\n",
    "    X_test, f_map = design_matrix_transformer.fit_transform(X_test)\n",
    "\n",
    "    X_train = feature_creator.transform(X_train, inplace=True)\n",
    "    X_train, f_map = design_matrix_transformer.fit_transform(X_train)\n",
    "\n",
    "    logistic_baseline = logistic_model(X_train, y_train)\n",
    "\n",
    "    # Calculate prediction/probability of train and test\n",
    "    X_train_predictions = logistic_baseline.predict(X_train)\n",
    "    X_train_predprob = logistic_baseline.predict_proba(X_train)[:, 1]\n",
    "\n",
    "    X_test_predictions = logistic_baseline.predict(X_test)\n",
    "    X_test_predprob = logistic_baseline.predict_proba(X_test)[:, 1]\n",
    "\n",
    "    # Calculate metrics of train, validation and test set.\n",
    "    lr_ll_val = -logistic_baseline.best_score_\n",
    "\n",
    "    lr_ll_train = log_loss(y_train, X_train_predprob)\n",
    "    lr_auc_train = roc_auc_score(y_train, X_train_predprob)\n",
    "\n",
    "    lr_ll_test = log_loss(y_test, X_test_predprob)    \n",
    "    lr_auc_test = roc_auc_score(y_test, X_test_predprob)\n",
    "\n",
    "    #Print out the results\n",
    "    print \"Best parameter: \", logistic_baseline.best_params_\n",
    "\n",
    "    print \"Log Loss (Validation): %f\" % lr_ll_val\n",
    "\n",
    "    print \"Log Loss (Train): %f\" % lr_ll_train\n",
    "    print \"AUC (Train): %f\" % lr_auc_train\n",
    " \n",
    "    print 'Log Loss (Test): %f' % lr_ll_test\n",
    "    print 'AUC (Test): %f' % lr_auc_test\n",
    "    return lr_ll_train,lr_ll_test,lr_auc_train,lr_auc_test\n",
    "\n"
   ]
  },
  {
   "cell_type": "code",
   "execution_count": 21,
   "metadata": {
    "collapsed": true
   },
   "outputs": [],
   "source": [
    "result = pd.DataFrame(columns=['train_loss','test_loss','train_auc','test_auc'],index = ['imbalanced_train_on_imbalanced_test','baseline','balanced_train_onimbalanced_test'])\n"
   ]
  },
  {
   "cell_type": "code",
   "execution_count": 22,
   "metadata": {
    "collapsed": false
   },
   "outputs": [
    {
     "data": {
      "text/html": [
       "<div>\n",
       "<table border=\"1\" class=\"dataframe\">\n",
       "  <thead>\n",
       "    <tr style=\"text-align: right;\">\n",
       "      <th></th>\n",
       "      <th>is_install</th>\n",
       "      <th>publisher_app_store_id</th>\n",
       "      <th>advertiser_app_store_id</th>\n",
       "      <th>country_code</th>\n",
       "      <th>n_campaign_views</th>\n",
       "      <th>device_screen_height</th>\n",
       "      <th>time_of_last_delivery_any_installed_app</th>\n",
       "      <th>device_os_version</th>\n",
       "      <th>device_platform</th>\n",
       "      <th>time_to_show_countdown</th>\n",
       "    </tr>\n",
       "  </thead>\n",
       "  <tbody>\n",
       "    <tr>\n",
       "      <th>0</th>\n",
       "      <td>0</td>\n",
       "      <td>5255b9a777aa478519000008</td>\n",
       "      <td>1009442510</td>\n",
       "      <td>CN</td>\n",
       "      <td>4str</td>\n",
       "      <td>2048str</td>\n",
       "      <td>nanstrstr</td>\n",
       "      <td>10.2</td>\n",
       "      <td>iOS</td>\n",
       "      <td>0strstr</td>\n",
       "    </tr>\n",
       "    <tr>\n",
       "      <th>1</th>\n",
       "      <td>0</td>\n",
       "      <td>507686ae771615941001aca5</td>\n",
       "      <td>5743f032a5a36ff4300000a5</td>\n",
       "      <td>ID</td>\n",
       "      <td>0str</td>\n",
       "      <td>1280str</td>\n",
       "      <td>nanstrstr</td>\n",
       "      <td>5.0.2</td>\n",
       "      <td>android</td>\n",
       "      <td>0strstr</td>\n",
       "    </tr>\n",
       "    <tr>\n",
       "      <th>2</th>\n",
       "      <td>0</td>\n",
       "      <td>52a861166faa22fa48000009</td>\n",
       "      <td>727296976</td>\n",
       "      <td>CA</td>\n",
       "      <td>0str</td>\n",
       "      <td>1536str</td>\n",
       "      <td>nanstrstr</td>\n",
       "      <td>9.3.5</td>\n",
       "      <td>iOS</td>\n",
       "      <td>0strstr</td>\n",
       "    </tr>\n",
       "    <tr>\n",
       "      <th>3</th>\n",
       "      <td>0</td>\n",
       "      <td>5552167b1f1ac071400000d9</td>\n",
       "      <td>57a28ffbb019f8257c00021d</td>\n",
       "      <td>LA</td>\n",
       "      <td>1str</td>\n",
       "      <td>750str</td>\n",
       "      <td>nanstrstr</td>\n",
       "      <td>9.3.2</td>\n",
       "      <td>iOS</td>\n",
       "      <td>0strstr</td>\n",
       "    </tr>\n",
       "    <tr>\n",
       "      <th>4</th>\n",
       "      <td>0</td>\n",
       "      <td>5759694c1c7b92224b000039</td>\n",
       "      <td>com.plarium.vikings</td>\n",
       "      <td>CZ</td>\n",
       "      <td>0str</td>\n",
       "      <td>1800str</td>\n",
       "      <td>nanstrstr</td>\n",
       "      <td>6.0.1</td>\n",
       "      <td>android</td>\n",
       "      <td>0strstr</td>\n",
       "    </tr>\n",
       "  </tbody>\n",
       "</table>\n",
       "</div>"
      ],
      "text/plain": [
       "   is_install    publisher_app_store_id   advertiser_app_store_id  \\\n",
       "0           0  5255b9a777aa478519000008                1009442510   \n",
       "1           0  507686ae771615941001aca5  5743f032a5a36ff4300000a5   \n",
       "2           0  52a861166faa22fa48000009                 727296976   \n",
       "3           0  5552167b1f1ac071400000d9  57a28ffbb019f8257c00021d   \n",
       "4           0  5759694c1c7b92224b000039       com.plarium.vikings   \n",
       "\n",
       "  country_code n_campaign_views device_screen_height  \\\n",
       "0           CN             4str              2048str   \n",
       "1           ID             0str              1280str   \n",
       "2           CA             0str              1536str   \n",
       "3           LA             1str               750str   \n",
       "4           CZ             0str              1800str   \n",
       "\n",
       "  time_of_last_delivery_any_installed_app device_os_version device_platform  \\\n",
       "0                               nanstrstr              10.2             iOS   \n",
       "1                               nanstrstr             5.0.2         android   \n",
       "2                               nanstrstr             9.3.5             iOS   \n",
       "3                               nanstrstr             9.3.2             iOS   \n",
       "4                               nanstrstr             6.0.1         android   \n",
       "\n",
       "  time_to_show_countdown  \n",
       "0                0strstr  \n",
       "1                0strstr  \n",
       "2                0strstr  \n",
       "3                0strstr  \n",
       "4                0strstr  "
      ]
     },
     "execution_count": 22,
     "metadata": {},
     "output_type": "execute_result"
    }
   ],
   "source": [
    "b.head()"
   ]
  },
  {
   "cell_type": "code",
   "execution_count": 27,
   "metadata": {
    "collapsed": false
   },
   "outputs": [
    {
     "name": "stdout",
     "output_type": "stream",
     "text": [
      "Train Regression Model\n"
     ]
    },
    {
     "name": "stderr",
     "output_type": "stream",
     "text": [
      "/Users/linda/anaconda2/lib/python2.7/site-packages/sklearn/metrics/scorer.py:127: DeprecationWarning: Scoring method log_loss was renamed to neg_log_loss in version 0.18 and will be removed in 0.20.\n",
      "  sample_weight=sample_weight)\n",
      "/Users/linda/anaconda2/lib/python2.7/site-packages/sklearn/metrics/scorer.py:127: DeprecationWarning: Scoring method log_loss was renamed to neg_log_loss in version 0.18 and will be removed in 0.20.\n",
      "  sample_weight=sample_weight)\n",
      "/Users/linda/anaconda2/lib/python2.7/site-packages/sklearn/metrics/scorer.py:127: DeprecationWarning: Scoring method log_loss was renamed to neg_log_loss in version 0.18 and will be removed in 0.20.\n",
      "  sample_weight=sample_weight)\n",
      "/Users/linda/anaconda2/lib/python2.7/site-packages/sklearn/metrics/scorer.py:127: DeprecationWarning: Scoring method log_loss was renamed to neg_log_loss in version 0.18 and will be removed in 0.20.\n",
      "  sample_weight=sample_weight)\n",
      "/Users/linda/anaconda2/lib/python2.7/site-packages/sklearn/metrics/scorer.py:127: DeprecationWarning: Scoring method log_loss was renamed to neg_log_loss in version 0.18 and will be removed in 0.20.\n",
      "  sample_weight=sample_weight)\n",
      "/Users/linda/anaconda2/lib/python2.7/site-packages/sklearn/metrics/scorer.py:127: DeprecationWarning: Scoring method log_loss was renamed to neg_log_loss in version 0.18 and will be removed in 0.20.\n",
      "  sample_weight=sample_weight)\n",
      "/Users/linda/anaconda2/lib/python2.7/site-packages/sklearn/metrics/scorer.py:127: DeprecationWarning: Scoring method log_loss was renamed to neg_log_loss in version 0.18 and will be removed in 0.20.\n",
      "  sample_weight=sample_weight)\n",
      "/Users/linda/anaconda2/lib/python2.7/site-packages/sklearn/metrics/scorer.py:127: DeprecationWarning: Scoring method log_loss was renamed to neg_log_loss in version 0.18 and will be removed in 0.20.\n",
      "  sample_weight=sample_weight)\n",
      "/Users/linda/anaconda2/lib/python2.7/site-packages/sklearn/metrics/scorer.py:127: DeprecationWarning: Scoring method log_loss was renamed to neg_log_loss in version 0.18 and will be removed in 0.20.\n",
      "  sample_weight=sample_weight)\n",
      "/Users/linda/anaconda2/lib/python2.7/site-packages/sklearn/metrics/scorer.py:127: DeprecationWarning: Scoring method log_loss was renamed to neg_log_loss in version 0.18 and will be removed in 0.20.\n",
      "  sample_weight=sample_weight)\n",
      "/Users/linda/anaconda2/lib/python2.7/site-packages/sklearn/metrics/scorer.py:127: DeprecationWarning: Scoring method log_loss was renamed to neg_log_loss in version 0.18 and will be removed in 0.20.\n",
      "  sample_weight=sample_weight)\n",
      "/Users/linda/anaconda2/lib/python2.7/site-packages/sklearn/metrics/scorer.py:127: DeprecationWarning: Scoring method log_loss was renamed to neg_log_loss in version 0.18 and will be removed in 0.20.\n",
      "  sample_weight=sample_weight)\n",
      "/Users/linda/anaconda2/lib/python2.7/site-packages/sklearn/metrics/scorer.py:127: DeprecationWarning: Scoring method log_loss was renamed to neg_log_loss in version 0.18 and will be removed in 0.20.\n",
      "  sample_weight=sample_weight)\n",
      "/Users/linda/anaconda2/lib/python2.7/site-packages/sklearn/metrics/scorer.py:127: DeprecationWarning: Scoring method log_loss was renamed to neg_log_loss in version 0.18 and will be removed in 0.20.\n",
      "  sample_weight=sample_weight)\n",
      "/Users/linda/anaconda2/lib/python2.7/site-packages/sklearn/metrics/scorer.py:127: DeprecationWarning: Scoring method log_loss was renamed to neg_log_loss in version 0.18 and will be removed in 0.20.\n",
      "  sample_weight=sample_weight)\n"
     ]
    },
    {
     "name": "stdout",
     "output_type": "stream",
     "text": [
      "Best parameter:  {'C': 0.6}\n",
      "Log Loss (Validation): 0.558072\n",
      "Log Loss (Train): 0.548719\n",
      "AUC (Train): 0.794492\n",
      "Log Loss (Test): 0.558607\n",
      "AUC (Test): 0.787546\n"
     ]
    }
   ],
   "source": [
    "i ='balanced_train_on_imbalanced_test'\n",
    "col = base_features+features_other_table\n",
    "result.loc[i,'train_loss'],result.loc[i,'test_loss'],result.loc[i,'train_auc'],result.loc[i,'test_auc']=run_model(b,a,col)"
   ]
  },
  {
   "cell_type": "code",
   "execution_count": 24,
   "metadata": {
    "collapsed": false
   },
   "outputs": [
    {
     "name": "stdout",
     "output_type": "stream",
     "text": [
      "Train Regression Model\n"
     ]
    },
    {
     "name": "stderr",
     "output_type": "stream",
     "text": [
      "/Users/linda/anaconda2/lib/python2.7/site-packages/sklearn/metrics/scorer.py:127: DeprecationWarning: Scoring method log_loss was renamed to neg_log_loss in version 0.18 and will be removed in 0.20.\n",
      "  sample_weight=sample_weight)\n",
      "/Users/linda/anaconda2/lib/python2.7/site-packages/sklearn/metrics/scorer.py:127: DeprecationWarning: Scoring method log_loss was renamed to neg_log_loss in version 0.18 and will be removed in 0.20.\n",
      "  sample_weight=sample_weight)\n",
      "/Users/linda/anaconda2/lib/python2.7/site-packages/sklearn/metrics/scorer.py:127: DeprecationWarning: Scoring method log_loss was renamed to neg_log_loss in version 0.18 and will be removed in 0.20.\n",
      "  sample_weight=sample_weight)\n",
      "/Users/linda/anaconda2/lib/python2.7/site-packages/sklearn/metrics/scorer.py:127: DeprecationWarning: Scoring method log_loss was renamed to neg_log_loss in version 0.18 and will be removed in 0.20.\n",
      "  sample_weight=sample_weight)\n",
      "/Users/linda/anaconda2/lib/python2.7/site-packages/sklearn/metrics/scorer.py:127: DeprecationWarning: Scoring method log_loss was renamed to neg_log_loss in version 0.18 and will be removed in 0.20.\n",
      "  sample_weight=sample_weight)\n",
      "/Users/linda/anaconda2/lib/python2.7/site-packages/sklearn/metrics/scorer.py:127: DeprecationWarning: Scoring method log_loss was renamed to neg_log_loss in version 0.18 and will be removed in 0.20.\n",
      "  sample_weight=sample_weight)\n",
      "/Users/linda/anaconda2/lib/python2.7/site-packages/sklearn/metrics/scorer.py:127: DeprecationWarning: Scoring method log_loss was renamed to neg_log_loss in version 0.18 and will be removed in 0.20.\n",
      "  sample_weight=sample_weight)\n",
      "/Users/linda/anaconda2/lib/python2.7/site-packages/sklearn/metrics/scorer.py:127: DeprecationWarning: Scoring method log_loss was renamed to neg_log_loss in version 0.18 and will be removed in 0.20.\n",
      "  sample_weight=sample_weight)\n",
      "/Users/linda/anaconda2/lib/python2.7/site-packages/sklearn/metrics/scorer.py:127: DeprecationWarning: Scoring method log_loss was renamed to neg_log_loss in version 0.18 and will be removed in 0.20.\n",
      "  sample_weight=sample_weight)\n",
      "/Users/linda/anaconda2/lib/python2.7/site-packages/sklearn/metrics/scorer.py:127: DeprecationWarning: Scoring method log_loss was renamed to neg_log_loss in version 0.18 and will be removed in 0.20.\n",
      "  sample_weight=sample_weight)\n",
      "/Users/linda/anaconda2/lib/python2.7/site-packages/sklearn/metrics/scorer.py:127: DeprecationWarning: Scoring method log_loss was renamed to neg_log_loss in version 0.18 and will be removed in 0.20.\n",
      "  sample_weight=sample_weight)\n",
      "/Users/linda/anaconda2/lib/python2.7/site-packages/sklearn/metrics/scorer.py:127: DeprecationWarning: Scoring method log_loss was renamed to neg_log_loss in version 0.18 and will be removed in 0.20.\n",
      "  sample_weight=sample_weight)\n",
      "/Users/linda/anaconda2/lib/python2.7/site-packages/sklearn/metrics/scorer.py:127: DeprecationWarning: Scoring method log_loss was renamed to neg_log_loss in version 0.18 and will be removed in 0.20.\n",
      "  sample_weight=sample_weight)\n",
      "/Users/linda/anaconda2/lib/python2.7/site-packages/sklearn/metrics/scorer.py:127: DeprecationWarning: Scoring method log_loss was renamed to neg_log_loss in version 0.18 and will be removed in 0.20.\n",
      "  sample_weight=sample_weight)\n",
      "/Users/linda/anaconda2/lib/python2.7/site-packages/sklearn/metrics/scorer.py:127: DeprecationWarning: Scoring method log_loss was renamed to neg_log_loss in version 0.18 and will be removed in 0.20.\n",
      "  sample_weight=sample_weight)\n"
     ]
    },
    {
     "name": "stdout",
     "output_type": "stream",
     "text": [
      "Best parameter:  {'C': 0.6}\n",
      "Log Loss (Validation): 0.406896\n",
      "Log Loss (Train): 0.397716\n",
      "AUC (Train): 0.796456\n",
      "Log Loss (Test): 0.405246\n",
      "AUC (Test): 0.785326\n"
     ]
    }
   ],
   "source": [
    "i ='imbalanced_train_on_imbalanced_test'\n",
    "col = base_features+features_other_table\n",
    "result.loc[i,'train_loss'],result.loc[i,'test_loss'],result.loc[i,'train_auc'],result.loc[i,'test_auc']=run_model(a,col)"
   ]
  },
  {
   "cell_type": "code",
   "execution_count": null,
   "metadata": {
    "collapsed": true
   },
   "outputs": [],
   "source": []
  },
  {
   "cell_type": "code",
   "execution_count": null,
   "metadata": {
    "collapsed": true
   },
   "outputs": [],
   "source": []
  }
 ],
 "metadata": {
  "anaconda-cloud": {},
  "kernelspec": {
   "display_name": "Python [conda root]",
   "language": "python",
   "name": "conda-root-py"
  }
 },
 "nbformat": 4,
 "nbformat_minor": 1
}
